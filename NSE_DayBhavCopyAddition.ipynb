{
  "nbformat": 4,
  "nbformat_minor": 0,
  "metadata": {
    "colab": {
      "name": "NSE_DayBhavCopyAddition.ipynb",
      "provenance": [],
      "collapsed_sections": [],
      "authorship_tag": "ABX9TyP+0+8VJ6tcjICrwId2hpgL",
      "include_colab_link": true
    },
    "kernelspec": {
      "display_name": "Python 3",
      "name": "python3"
    },
    "language_info": {
      "name": "python"
    }
  },
  "cells": [
    {
      "cell_type": "markdown",
      "metadata": {
        "id": "view-in-github",
        "colab_type": "text"
      },
      "source": [
        "<a href=\"https://colab.research.google.com/github/gsukisubramaniam/Projects/blob/master/NSE_DayBhavCopyAddition.ipynb\" target=\"_parent\"><img src=\"https://colab.research.google.com/assets/colab-badge.svg\" alt=\"Open In Colab\"/></a>"
      ]
    },
    {
      "cell_type": "code",
      "metadata": {
        "id": "WyRe6lAX7Glv",
        "colab": {
          "base_uri": "https://localhost:8080/"
        },
        "outputId": "98143686-2e43-453e-81c4-19272161d4f5"
      },
      "source": [
        "from google.colab import drive\n",
        "drive.mount('/content/drive/')\n"
      ],
      "execution_count": 1,
      "outputs": [
        {
          "output_type": "stream",
          "text": [
            "Mounted at /content/drive/\n"
          ],
          "name": "stdout"
        }
      ]
    },
    {
      "cell_type": "code",
      "metadata": {
        "id": "nR3wkUzU8P5v"
      },
      "source": [
        "import pandas as pd\n",
        "import numpy as np\n",
        "import datetime\n",
        "from datetime import date\n",
        "import os"
      ],
      "execution_count": 2,
      "outputs": []
    },
    {
      "cell_type": "code",
      "metadata": {
        "id": "BjHVkqEsPbm0"
      },
      "source": [
        "# To ignore the warnings for pandas operations\n",
        "pd.options.mode.chained_assignment = None"
      ],
      "execution_count": 3,
      "outputs": []
    },
    {
      "cell_type": "markdown",
      "metadata": {
        "id": "E0YwFGTPhRhI"
      },
      "source": [
        "RSI calculation for all the days"
      ]
    },
    {
      "cell_type": "code",
      "metadata": {
        "id": "I6RwXPnMhV4z"
      },
      "source": [
        "def rsi_all(df,period=14):\n",
        "    \n",
        "    df.sort_values(by=['TIMESTAMP'],inplace=True)\n",
        "    df.reset_index(drop=True, inplace=True)\n",
        "    df['UM'] = df['CLOSE'].diff(periods=1)\n",
        "    df['DM'] = df['UM']*(-1)\n",
        "    df['UM'] = df['UM'].apply(lambda x: max(0,x))\n",
        "    df['DM'] = df['DM'].apply(lambda x: max(0,x))\n",
        "    df.sort_values(by = ['TIMESTAMP'],inplace=True)\n",
        " \n",
        "    # Simple Moving Average\n",
        "    df['UM_SMA'] = df.loc[:,'UM'].rolling(window=period).mean()\n",
        "    df['DM_SMA'] = df.loc[:,'DM'].rolling(window=period).mean()\n",
        " \n",
        "    # Exponential Moving Average\n",
        "    df['UM_EMA'] = df.loc[:,'UM'].ewm(com = period-1, min_periods=period).mean()\n",
        "    df['DM_EMA'] = df.loc[:,'DM'].ewm(com = period-1, min_periods=period).mean()\n",
        " \n",
        "    # Relative Strength\n",
        "    df['RS_SMA'] = df['UM_SMA']/df['DM_SMA']\n",
        "    df['RS_EMA'] = abs(df['UM_EMA']/df['DM_EMA'])\n",
        " \n",
        "    # Relative Strength Index (RSI)\n",
        "    df['RSI_SMA'] = round(df['RS_SMA'].apply(lambda x: 100-(100/(x+1))),2)\n",
        "    df['RSI_EMA'] = round(df['RS_EMA'].apply(lambda x: 100-(100/(x+1))),2)\n",
        "    df.sort_values(by = ['TIMESTAMP'],inplace=True)\n",
        "    df.reset_index(drop=True, inplace=True)\n",
        "    #     return df\n",
        "    output_df = df\n",
        "    return output_df"
      ],
      "execution_count": 4,
      "outputs": []
    },
    {
      "cell_type": "markdown",
      "metadata": {
        "id": "ICplc-aPIGba"
      },
      "source": [
        "Utility Function to calculate the RSI for the latest date."
      ]
    },
    {
      "cell_type": "code",
      "metadata": {
        "id": "877fZZPZdPcE"
      },
      "source": [
        "def group_df(df, interval='W'):\n",
        "    df['TIMESTAMP'] = pd.to_datetime(df['TIMESTAMP'])\n",
        "    df.reset_index(drop = True, inplace=True)\n",
        "    # Getting year, month, & weeknum. Weeknum is common across years to we need to create unique index by using year and weeknum\n",
        "    df['Year'] = df['TIMESTAMP'].dt.year\n",
        "        # Getting month number\n",
        "    df['Month_Number'] = df['TIMESTAMP'].dt.month\n",
        "    # Getting week number\n",
        "    df['Week_Number'] = df['TIMESTAMP'].dt.week\n",
        "    if (interval == 'W'):\n",
        "        df_g = df.groupby(['Year','Week_Number']).agg({'SYMBOL':'last','SERIES':'last','OPEN':'first', 'HIGH':'max', 'LOW':'min', 'CLOSE':'last', 'TIMESTAMP':'last','RS_SMA':'last', 'DM_EMA':'last', 'RSI_EMA':'last', 'UM_EMA':'last', 'UM_SMA':'last', 'RSI_SMA':'last', 'RS_EMA':'last', 'UM':'last', 'DM':'last', 'DM_SMA':'last'})\n",
        "        df_g.reset_index(drop=True,inplace=True)\n",
        "    elif (interval == 'M'):\n",
        "        df_g = df.groupby(['Year','Month_Number']).agg({'SYMBOL':'last','SERIES':'last','OPEN':'first', 'HIGH':'max', 'LOW':'min', 'CLOSE':'last', 'TIMESTAMP':'last','RS_SMA':'last', 'DM_EMA':'last', 'RSI_EMA':'last', 'UM_EMA':'last', 'UM_SMA':'last', 'RSI_SMA':'last', 'RS_EMA':'last', 'UM':'last', 'DM':'last', 'DM_SMA':'last'})\n",
        "        df_g.reset_index(drop=True,inplace=True)\n",
        "    else: \n",
        "        print ('Invalid Inputs')\n",
        "    return df_g"
      ],
      "execution_count": 5,
      "outputs": []
    },
    {
      "cell_type": "code",
      "metadata": {
        "id": "ca8QRzrxLNVf"
      },
      "source": [
        "def rsi(df, time_interval = 'D',period=14):\n",
        "    cols_seq = ['SYMBOL', 'SERIES', 'OPEN','HIGH','LOW','CLOSE', 'TIMESTAMP', 'UM', 'DM', 'UM_SMA','DM_SMA', 'UM_EMA', 'DM_EMA', 'RS_SMA', 'RS_EMA', 'RSI_SMA', 'RSI_EMA']\n",
        "    df['TIMESTAMP'] = pd.to_datetime(df['TIMESTAMP'])\n",
        "    df.sort_values(by='TIMESTAMP', inplace = True)\n",
        "    df.reset_index(drop = True, inplace=True)\n",
        "    \n",
        " \n",
        "    # Resampling based on time_interval provided\n",
        "    if (time_interval == 'D'):\n",
        "        df = df[cols_seq]\n",
        "        df = df.iloc[-120:]\n",
        "    elif (time_interval == 'W'):\n",
        "        # Grouping based on required values - weekly interval\n",
        "        df = group_df(df,date_col = 'TIMESTAMP', interval='W')\n",
        "        df = df[cols_seq]\n",
        "        # Sorting based on TIMESTAMP\n",
        "        df.sort_values(by='TIMESTAMP', inplace = True)\n",
        "        df.reset_index(drop=True, inplace=True)\n",
        "        df = df.iloc[-120:]\n",
        "    elif (time_interval == 'M'):\n",
        "        df = group_df(df,date_col = 'TIMESTAMP', interval='M')\n",
        "        df = df[cols_seq]\n",
        "    else:\n",
        "        print ('Invalid Time Interval. Please try again with options -(D/ W/ M)')\n",
        "    \n",
        "    \n",
        "    # Calculating Upward / Downward Movement\n",
        "    if (df.iat[-1,5] >= df.iat[-2,5]):\n",
        "        df.iat[-1,7] = df.iat[-1,5] - df.iat[-2,5]\n",
        "        df.iat[-1,8] = 0\n",
        "    else:\n",
        "        df.iat[-1,8] = df.iat[-2,5] - df.iat[-1,5]\n",
        "        df.iat[-1,7] = 0\n",
        " \n",
        "    # Using SMA\n",
        "    UM_SMA = df.iloc[-period:,7].values.mean()\n",
        "    DM_SMA = df.iloc[-period:,8].values.mean()\n",
        "    RS_SMA = UM_SMA/DM_SMA\n",
        "    RSI_SMA = 100-(100/(RS_SMA+1))\n",
        "    # Using EMA\n",
        "    UM_EMA = df.loc[:,'UM'].ewm(com = period-1, min_periods=period).mean().values[-1]\n",
        "    DM_EMA = df.loc[:,'DM'].ewm(com = period-1, min_periods=period).mean().values[-1]\n",
        "    RS_EMA = UM_EMA/DM_EMA\n",
        "    RSI_EMA = 100-(100/(RS_EMA+1))\n",
        "    # Other values\n",
        " \n",
        "    df.iat[-1, 9] = UM_SMA\n",
        "    df.iat[-1, 10] = DM_SMA\n",
        "    df.iat[-1, 11] = UM_EMA\n",
        "    df.iat[-1, 12] = DM_EMA\n",
        "    df.iat[-1, 13] = RS_SMA\n",
        "    df.iat[-1,14] = RS_EMA\n",
        "    df.iat[-1,15] = RSI_SMA\n",
        "    df.iat[-1,16] = RSI_EMA\n",
        " \n",
        "    return df.iloc[-1:]"
      ],
      "execution_count": 6,
      "outputs": []
    },
    {
      "cell_type": "code",
      "metadata": {
        "id": "NpS1ya7cB1Tp"
      },
      "source": [
        "nifty_500 = pd.read_csv('drive/MyDrive/trading/ind_nifty500list.csv')"
      ],
      "execution_count": 7,
      "outputs": []
    },
    {
      "cell_type": "code",
      "metadata": {
        "id": "Qo3a4_GiB7jY",
        "colab": {
          "base_uri": "https://localhost:8080/"
        },
        "outputId": "52276ca1-c521-49d0-f4d4-b1b6a830e3b9"
      },
      "source": [
        "# Nifty 500 list\n",
        " \n",
        "nifty_500_symbols = np.array(nifty_500['Symbol'])\n",
        "print (len(nifty_500_symbols))\n",
        "print (type(nifty_500_symbols))"
      ],
      "execution_count": 8,
      "outputs": [
        {
          "output_type": "stream",
          "text": [
            "501\n",
            "<class 'numpy.ndarray'>\n"
          ],
          "name": "stdout"
        }
      ]
    },
    {
      "cell_type": "markdown",
      "metadata": {
        "id": "WYStPJEi9b9K"
      },
      "source": [
        "Loading Existing Master Files"
      ]
    },
    {
      "cell_type": "code",
      "metadata": {
        "colab": {
          "base_uri": "https://localhost:8080/"
        },
        "id": "f7SbTkzvZ8OK",
        "outputId": "04e929cf-7fa7-47fd-e980-5a6544a83397"
      },
      "source": [
        "os.listdir('drive/MyDrive/trading/NseStocks_Masterfiles')"
      ],
      "execution_count": 9,
      "outputs": [
        {
          "output_type": "execute_result",
          "data": {
            "text/plain": [
              "['master_df.csv',\n",
              " 'master_df_nifty500.csv',\n",
              " 'master_df_RSI_nifty500.csv',\n",
              " 'master_df_RSI_backup.csv',\n",
              " 'master_df_RSI.csv',\n",
              " 'master_monthly_RSI.csv',\n",
              " 'master_weekly_RSI.csv',\n",
              " 'master_weekly_ich.csv',\n",
              " 'master_daily_ich.csv',\n",
              " 'master_df_swing.csv']"
            ]
          },
          "metadata": {
            "tags": []
          },
          "execution_count": 9
        }
      ]
    },
    {
      "cell_type": "code",
      "metadata": {
        "id": "bfikk6_N9nMf"
      },
      "source": [
        "df = pd.read_csv('drive/MyDrive/trading/NseStocks_Masterfiles/master_df_RSI.csv',infer_datetime_format = True, parse_dates=['TIMESTAMP'], encoding='utf-8')\n",
        "#df_w = pd.read_csv('drive/MyDrive/trading/NseStocks_Masterfiles/master_weekly_RSI.csv')\n",
        "#df_m = pd.read_csv('drive/MyDrive/trading/NseStocks_Masterfiles/master_monthly_RSI.csv')\n",
        " \n",
        "# Converting Timestamp column to Datetime data type.\n",
        "# df['TIMESTAMP'] = pd.to_datetime(df['TIMESTAMP'])\n",
        "#df_w['TIMESTAMP'] = pd.to_datetime(df_w['TIMESTAMP'])\n",
        "#df_m['TIMESTAMP'] = pd.to_datetime(df_m['TIMESTAMP'])"
      ],
      "execution_count": 10,
      "outputs": []
    },
    {
      "cell_type": "code",
      "metadata": {
        "id": "EcHKyGVoAgfH"
      },
      "source": [
        "# Storing a backup\n",
        "\n",
        "df.to_csv('drive/MyDrive/trading/NseStocks_Masterfiles/master_df_RSI_backup.csv',encoding='utf-8',index=False)"
      ],
      "execution_count": 11,
      "outputs": []
    },
    {
      "cell_type": "code",
      "metadata": {
        "colab": {
          "base_uri": "https://localhost:8080/",
          "height": 138
        },
        "id": "dzW4fTdIQNYP",
        "outputId": "9967ad6f-a0e5-49b5-cfdf-ad58e854ba68"
      },
      "source": [
        "df.loc[df['SYMBOL']=='ICICIBANK'][-3:]"
      ],
      "execution_count": 12,
      "outputs": [
        {
          "output_type": "execute_result",
          "data": {
            "text/html": [
              "<div>\n",
              "<style scoped>\n",
              "    .dataframe tbody tr th:only-of-type {\n",
              "        vertical-align: middle;\n",
              "    }\n",
              "\n",
              "    .dataframe tbody tr th {\n",
              "        vertical-align: top;\n",
              "    }\n",
              "\n",
              "    .dataframe thead th {\n",
              "        text-align: right;\n",
              "    }\n",
              "</style>\n",
              "<table border=\"1\" class=\"dataframe\">\n",
              "  <thead>\n",
              "    <tr style=\"text-align: right;\">\n",
              "      <th></th>\n",
              "      <th>SYMBOL</th>\n",
              "      <th>SERIES</th>\n",
              "      <th>OPEN</th>\n",
              "      <th>HIGH</th>\n",
              "      <th>LOW</th>\n",
              "      <th>CLOSE</th>\n",
              "      <th>TIMESTAMP</th>\n",
              "      <th>UM</th>\n",
              "      <th>DM</th>\n",
              "      <th>UM_SMA</th>\n",
              "      <th>DM_SMA</th>\n",
              "      <th>UM_EMA</th>\n",
              "      <th>DM_EMA</th>\n",
              "      <th>RS_SMA</th>\n",
              "      <th>RS_EMA</th>\n",
              "      <th>RSI_SMA</th>\n",
              "      <th>RSI_EMA</th>\n",
              "    </tr>\n",
              "  </thead>\n",
              "  <tbody>\n",
              "    <tr>\n",
              "      <th>495450</th>\n",
              "      <td>ICICIBANK</td>\n",
              "      <td>EQ</td>\n",
              "      <td>622.55</td>\n",
              "      <td>628.45</td>\n",
              "      <td>609.0</td>\n",
              "      <td>621.45</td>\n",
              "      <td>2021-04-29</td>\n",
              "      <td>0.1</td>\n",
              "      <td>0.00</td>\n",
              "      <td>7.732143</td>\n",
              "      <td>4.603571</td>\n",
              "      <td>7.310656</td>\n",
              "      <td>4.549663</td>\n",
              "      <td>1.679597</td>\n",
              "      <td>1.606856</td>\n",
              "      <td>62.680950</td>\n",
              "      <td>61.639621</td>\n",
              "    </tr>\n",
              "    <tr>\n",
              "      <th>495951</th>\n",
              "      <td>ICICIBANK</td>\n",
              "      <td>EQ</td>\n",
              "      <td>610.10</td>\n",
              "      <td>616.35</td>\n",
              "      <td>598.1</td>\n",
              "      <td>600.50</td>\n",
              "      <td>2021-04-30</td>\n",
              "      <td>0.0</td>\n",
              "      <td>20.95</td>\n",
              "      <td>7.732143</td>\n",
              "      <td>6.032143</td>\n",
              "      <td>6.788207</td>\n",
              "      <td>5.721321</td>\n",
              "      <td>1.281824</td>\n",
              "      <td>1.186475</td>\n",
              "      <td>56.175402</td>\n",
              "      <td>54.264291</td>\n",
              "    </tr>\n",
              "    <tr>\n",
              "      <th>496452</th>\n",
              "      <td>ICICIBANK</td>\n",
              "      <td>EQ</td>\n",
              "      <td>592.55</td>\n",
              "      <td>598.85</td>\n",
              "      <td>587.5</td>\n",
              "      <td>596.75</td>\n",
              "      <td>2021-05-03</td>\n",
              "      <td>0.0</td>\n",
              "      <td>3.75</td>\n",
              "      <td>7.732143</td>\n",
              "      <td>5.550000</td>\n",
              "      <td>6.303335</td>\n",
              "      <td>5.580483</td>\n",
              "      <td>1.393179</td>\n",
              "      <td>1.129532</td>\n",
              "      <td>58.214574</td>\n",
              "      <td>53.041329</td>\n",
              "    </tr>\n",
              "  </tbody>\n",
              "</table>\n",
              "</div>"
            ],
            "text/plain": [
              "           SYMBOL SERIES    OPEN  ...    RS_EMA    RSI_SMA    RSI_EMA\n",
              "495450  ICICIBANK     EQ  622.55  ...  1.606856  62.680950  61.639621\n",
              "495951  ICICIBANK     EQ  610.10  ...  1.186475  56.175402  54.264291\n",
              "496452  ICICIBANK     EQ  592.55  ...  1.129532  58.214574  53.041329\n",
              "\n",
              "[3 rows x 17 columns]"
            ]
          },
          "metadata": {
            "tags": []
          },
          "execution_count": 12
        }
      ]
    },
    {
      "cell_type": "markdown",
      "metadata": {
        "id": "DOa5NOA__x--"
      },
      "source": [
        "Downloading the latest BHAVCOPY"
      ]
    },
    {
      "cell_type": "code",
      "metadata": {
        "id": "9Sk0b08LCG6M"
      },
      "source": [
        "# Specify the number of days before which the BHAVCOPY is required\n",
        "delta = 0"
      ],
      "execution_count": 13,
      "outputs": []
    },
    {
      "cell_type": "code",
      "metadata": {
        "colab": {
          "base_uri": "https://localhost:8080/"
        },
        "id": "PBpTQnbz-k_K",
        "outputId": "3a6aa081-9a5b-4494-969e-c67997179301"
      },
      "source": [
        "# To Get the Path\n",
        " \n",
        "dt_ = date.today()-datetime.timedelta(days=delta)\n",
        "year = dt_.strftime(\"%Y\")\n",
        "month = dt_.strftime(\"%b\").upper()\n",
        "dt = dt_.strftime(\"%d\")\n",
        " \n",
        "path_ = 'https://archives.nseindia.com/content/historical/EQUITIES/'+year+'/'+month+'/cm'+dt+month+year+'bhav.csv.zip'\n",
        "print (path_)\n",
        "path_local = 'drive/MyDrive/trading/bhavcopy/'+ path_[-23:-4]\n",
        "# To download the File from the path\n",
        " \n",
        "!curl -O $path_  \n",
        "# To unzip a file in the drive\n",
        "zippedFile = path_[-23:]\n",
        "!unzip $zippedFile -d 'drive/MyDrive/trading/bhavcopy/'\n",
        " \n",
        "# # To Remove a file from the drive\n",
        "!rm $zippedFile"
      ],
      "execution_count": 14,
      "outputs": [
        {
          "output_type": "stream",
          "text": [
            "https://archives.nseindia.com/content/historical/EQUITIES/2021/MAY/cm04MAY2021bhav.csv.zip\n",
            "  % Total    % Received % Xferd  Average Speed   Time    Time     Time  Current\n",
            "                                 Dload  Upload   Total   Spent    Left  Speed\n",
            "100 75140  100 75140    0     0   154k      0 --:--:-- --:--:-- --:--:--  154k\n",
            "Archive:  cm04MAY2021bhav.csv.zip\n",
            "  inflating: drive/MyDrive/trading/bhavcopy/cm04MAY2021bhav.csv  \n"
          ],
          "name": "stdout"
        }
      ]
    },
    {
      "cell_type": "markdown",
      "metadata": {
        "id": "BXxCKdSeZn3k"
      },
      "source": [
        "Concatenating the Latest Bhavcopy to the existing daily interval master file"
      ]
    },
    {
      "cell_type": "code",
      "metadata": {
        "id": "YMQhIeDlZudT"
      },
      "source": [
        " \n",
        "desired_cols = ['SYMBOL', 'SERIES','OPEN','HIGH','LOW','CLOSE','TIMESTAMP']\n",
        " \n",
        "df_bhav = pd.read_csv(path_local)\n",
        "df_bhav = df_bhav.loc[df_bhav['SERIES']=='EQ'][desired_cols]\n",
        "df_bhav['TIMESTAMP'] = pd.to_datetime(df_bhav['TIMESTAMP'])\n",
        "df_bhav = df_bhav.loc[df_bhav['SYMBOL'].isin(nifty_500_symbols)]\n",
        " \n",
        "#   Updating the latest data to the existing master dataframes\n",
        " \n",
        "master_df = pd.concat([df,df_bhav]).reset_index(drop=True)"
      ],
      "execution_count": 15,
      "outputs": []
    },
    {
      "cell_type": "markdown",
      "metadata": {
        "id": "Xd-IpJQE-dqh"
      },
      "source": [
        "**Loading the latest BHAVCOPY & calculating the RSI - Daily Interval**"
      ]
    },
    {
      "cell_type": "code",
      "metadata": {
        "colab": {
          "base_uri": "https://localhost:8080/"
        },
        "id": "HvntHkr-_gIA",
        "outputId": "839d0164-e60b-4d98-d74e-c33cfa8265d7"
      },
      "source": [
        "desired_cols = ['SYMBOL', 'SERIES','OPEN','HIGH','LOW','CLOSE','TIMESTAMP']\n",
        " \n",
        "try:\n",
        "    \n",
        "    curr_day_df = pd.DataFrame(columns = ['SYMBOL', 'SERIES', 'OPEN','HIGH','LOW','CLOSE', 'TIMESTAMP', 'UM', 'DM', 'UM_SMA', 'DM_SMA', 'UM_EMA', 'DM_EMA', 'RS_SMA', 'RS_EMA', 'RSI_SMA', 'RSI_EMA'])\n",
        "    for i in nifty_500_symbols:\n",
        "        curr_day_df = curr_day_df.append(rsi(master_df.loc[master_df['SYMBOL']==i]))\n",
        " \n",
        "    # Filtering out the last record of each stock with reference to the date\n",
        "    master_df = master_df.loc[master_df['TIMESTAMP']!=master_df['TIMESTAMP'].max()]\n",
        " \n",
        "    # Appending the last record updated with RSI values of each stock with reference to the date \n",
        "    master_df = master_df.append(curr_day_df)\n",
        "    master_df.reset_index(drop=True, inplace=True)\n",
        "    master_df.to_csv('drive/MyDrive/trading/NseStocks_Masterfiles/master_df_RSI.csv',index=False)\n",
        "    print (f\"Successfully added the RSI values to {path_[-23:-8]} in the master file. :-)\")\n",
        " \n",
        "except:\n",
        "    print (\"Bhavcopy for the given date is not found in the given path.\")"
      ],
      "execution_count": 16,
      "outputs": [
        {
          "output_type": "stream",
          "text": [
            "Successfully added the RSI values to cm04MAY2021bhav in the master file. :-)\n"
          ],
          "name": "stdout"
        }
      ]
    },
    {
      "cell_type": "markdown",
      "metadata": {
        "id": "28B0IiOLjGlB"
      },
      "source": [
        "**Calculating RSI - Weekly & Monthly Interval**"
      ]
    },
    {
      "cell_type": "code",
      "metadata": {
        "id": "c5RgImvhjQ4v",
        "colab": {
          "base_uri": "https://localhost:8080/"
        },
        "outputId": "60fff7e1-ff2a-469f-9743-2ea6f0abb5fc"
      },
      "source": [
        "cols_df_RSI = ['SYMBOL', 'SERIES', 'OPEN','HIGH','LOW','CLOSE', 'TIMESTAMP', 'UM', 'DM', 'UM_SMA', 'DM_SMA', 'UM_EMA', 'DM_EMA', 'RS_SMA', 'RS_EMA', 'RSI_SMA', 'RSI_EMA']\n",
        " \n",
        "master_monthly_df = pd.DataFrame(columns=cols_df_RSI)\n",
        "master_weekly_df = pd.DataFrame(columns=cols_df_RSI)\n",
        "\n",
        "for symbol in nifty_500_symbols:\n",
        "    try:\n",
        "        temp_df = master_df.loc[master_df['SYMBOL']==symbol]\n",
        "        \n",
        "        \n",
        "        # Grouping by Month dataframe, and Grouping by Week dataframe.\n",
        "        \n",
        "        # Getting year, month, & weeknum. Weeknum is common across years to we need to create unique index by using year and weeknum\n",
        "        temp_df['Year'] = temp_df['TIMESTAMP'].dt.year\n",
        "        # Getting month number\n",
        "        temp_df['Month_Number'] = temp_df['TIMESTAMP'].dt.month\n",
        "        # Getting week number\n",
        "        temp_df['Week_Number'] = temp_df['TIMESTAMP'].dt.week\n",
        " \n",
        "        # Grouping based on required values - weekly interval\n",
        "        temp_df_w = temp_df.groupby(['Year','Week_Number']).agg({'SYMBOL':'last','SERIES':'last','OPEN':'first', 'HIGH':'max', 'LOW':'min', 'CLOSE':'last', 'TIMESTAMP':'last'})\n",
        "        temp_df_w.reset_index(drop=True,inplace=True)\n",
        "        \n",
        "        # Grouping based on required values - monthly interval\n",
        "        temp_df_m = temp_df.groupby(['Year','Month_Number']).agg({'SYMBOL':'last','SERIES':'last','OPEN':'first', 'HIGH':'max', 'LOW':'min', 'CLOSE':'last', 'TIMESTAMP':'last'})\n",
        "        temp_df_m.reset_index(drop=True,inplace=True)\n",
        " \n",
        "        # Monthly RSI Data\n",
        "   \n",
        "        temp_df_m = rsi_all(temp_df_m,period=14)\n",
        "        master_monthly_df = master_monthly_df.append(temp_df_m)\n",
        "        \n",
        "        \n",
        "        # Weekly RSI Data\n",
        " \n",
        "        temp_df_w = rsi_all(temp_df_w,period=14)\n",
        "        master_weekly_df = master_weekly_df.append(temp_df_w)\n",
        "        \n",
        "        # print (f'{symbol} processed successfully.')\n",
        "    except:\n",
        "        print (f'{symbol} - failed')"
      ],
      "execution_count": 17,
      "outputs": [
        {
          "output_type": "stream",
          "text": [
            "/usr/local/lib/python3.7/dist-packages/ipykernel_launcher.py:18: FutureWarning: Series.dt.weekofyear and Series.dt.week have been deprecated.  Please use Series.dt.isocalendar().week instead.\n"
          ],
          "name": "stderr"
        }
      ]
    },
    {
      "cell_type": "code",
      "metadata": {
        "id": "ibPhFp5uj9_t"
      },
      "source": [
        ""
      ],
      "execution_count": 17,
      "outputs": []
    },
    {
      "cell_type": "markdown",
      "metadata": {
        "id": "zauKBkFZj6bL"
      },
      "source": [
        "Writing the Weekly & Monthly RSI files to Drive"
      ]
    },
    {
      "cell_type": "code",
      "metadata": {
        "id": "yn9Y3wC4j_vr"
      },
      "source": [
        "master_weekly_df.to_csv('drive/MyDrive/trading/NseStocks_Masterfiles/master_weekly_RSI.csv',encoding='utf-8',index=False)\n",
        "master_monthly_df.to_csv('drive/MyDrive/trading/NseStocks_Masterfiles/master_monthly_RSI.csv',encoding='utf-8',index=False)"
      ],
      "execution_count": 18,
      "outputs": []
    },
    {
      "cell_type": "markdown",
      "metadata": {
        "id": "ZpEAXb8ekEK4"
      },
      "source": [
        "Loading the updated master files for testing and screening"
      ]
    },
    {
      "cell_type": "code",
      "metadata": {
        "id": "W6o0wr04Ywxj"
      },
      "source": [
        "df = pd.read_csv('drive/MyDrive/trading/NseStocks_Masterfiles/master_df_RSI.csv',infer_datetime_format = True, parse_dates=['TIMESTAMP'], encoding='utf-8')\n",
        "df_w = pd.read_csv('drive/MyDrive/trading/NseStocks_Masterfiles/master_weekly_RSI.csv',infer_datetime_format = True, parse_dates=['TIMESTAMP'], encoding='utf-8')\n",
        "df_m = pd.read_csv('drive/MyDrive/trading/NseStocks_Masterfiles/master_monthly_RSI.csv',infer_datetime_format = True, parse_dates=['TIMESTAMP'], encoding='utf-8')"
      ],
      "execution_count": 19,
      "outputs": []
    },
    {
      "cell_type": "code",
      "metadata": {
        "colab": {
          "base_uri": "https://localhost:8080/",
          "height": 198
        },
        "id": "c8UjmK-y18YN",
        "outputId": "0a648d23-92d4-4ead-b6a8-ded2916f8a22"
      },
      "source": [
        "df_m.loc[df_m['SYMBOL']=='SBIN'].tail(5)"
      ],
      "execution_count": 20,
      "outputs": [
        {
          "output_type": "execute_result",
          "data": {
            "text/html": [
              "<div>\n",
              "<style scoped>\n",
              "    .dataframe tbody tr th:only-of-type {\n",
              "        vertical-align: middle;\n",
              "    }\n",
              "\n",
              "    .dataframe tbody tr th {\n",
              "        vertical-align: top;\n",
              "    }\n",
              "\n",
              "    .dataframe thead th {\n",
              "        text-align: right;\n",
              "    }\n",
              "</style>\n",
              "<table border=\"1\" class=\"dataframe\">\n",
              "  <thead>\n",
              "    <tr style=\"text-align: right;\">\n",
              "      <th></th>\n",
              "      <th>SYMBOL</th>\n",
              "      <th>SERIES</th>\n",
              "      <th>OPEN</th>\n",
              "      <th>HIGH</th>\n",
              "      <th>LOW</th>\n",
              "      <th>CLOSE</th>\n",
              "      <th>TIMESTAMP</th>\n",
              "      <th>UM</th>\n",
              "      <th>DM</th>\n",
              "      <th>UM_SMA</th>\n",
              "      <th>DM_SMA</th>\n",
              "      <th>UM_EMA</th>\n",
              "      <th>DM_EMA</th>\n",
              "      <th>RS_SMA</th>\n",
              "      <th>RS_EMA</th>\n",
              "      <th>RSI_SMA</th>\n",
              "      <th>RSI_EMA</th>\n",
              "    </tr>\n",
              "  </thead>\n",
              "  <tbody>\n",
              "    <tr>\n",
              "      <th>20406</th>\n",
              "      <td>SBIN</td>\n",
              "      <td>EQ</td>\n",
              "      <td>274.9</td>\n",
              "      <td>310.9</td>\n",
              "      <td>269.50</td>\n",
              "      <td>282.10</td>\n",
              "      <td>2021-01-29</td>\n",
              "      <td>7.15</td>\n",
              "      <td>0.00</td>\n",
              "      <td>10.528571</td>\n",
              "      <td>14.796429</td>\n",
              "      <td>13.490019</td>\n",
              "      <td>11.322654</td>\n",
              "      <td>0.711562</td>\n",
              "      <td>1.191418</td>\n",
              "      <td>41.57</td>\n",
              "      <td>54.37</td>\n",
              "    </tr>\n",
              "    <tr>\n",
              "      <th>20407</th>\n",
              "      <td>SBIN</td>\n",
              "      <td>EQ</td>\n",
              "      <td>285.1</td>\n",
              "      <td>427.7</td>\n",
              "      <td>282.75</td>\n",
              "      <td>390.15</td>\n",
              "      <td>2021-02-26</td>\n",
              "      <td>108.05</td>\n",
              "      <td>0.00</td>\n",
              "      <td>18.246429</td>\n",
              "      <td>14.217857</td>\n",
              "      <td>20.414581</td>\n",
              "      <td>10.493504</td>\n",
              "      <td>1.283346</td>\n",
              "      <td>1.945449</td>\n",
              "      <td>56.20</td>\n",
              "      <td>66.05</td>\n",
              "    </tr>\n",
              "    <tr>\n",
              "      <th>20408</th>\n",
              "      <td>SBIN</td>\n",
              "      <td>EQ</td>\n",
              "      <td>395.1</td>\n",
              "      <td>408.9</td>\n",
              "      <td>345.20</td>\n",
              "      <td>364.30</td>\n",
              "      <td>2021-03-31</td>\n",
              "      <td>0.00</td>\n",
              "      <td>25.85</td>\n",
              "      <td>18.246429</td>\n",
              "      <td>14.971429</td>\n",
              "      <td>18.922323</td>\n",
              "      <td>11.616028</td>\n",
              "      <td>1.218750</td>\n",
              "      <td>1.628984</td>\n",
              "      <td>54.93</td>\n",
              "      <td>61.96</td>\n",
              "    </tr>\n",
              "    <tr>\n",
              "      <th>20409</th>\n",
              "      <td>SBIN</td>\n",
              "      <td>EQ</td>\n",
              "      <td>367.7</td>\n",
              "      <td>371.9</td>\n",
              "      <td>321.30</td>\n",
              "      <td>353.50</td>\n",
              "      <td>2021-04-30</td>\n",
              "      <td>0.00</td>\n",
              "      <td>10.80</td>\n",
              "      <td>18.246429</td>\n",
              "      <td>14.639286</td>\n",
              "      <td>17.541450</td>\n",
              "      <td>11.556478</td>\n",
              "      <td>1.246402</td>\n",
              "      <td>1.517889</td>\n",
              "      <td>55.48</td>\n",
              "      <td>60.28</td>\n",
              "    </tr>\n",
              "    <tr>\n",
              "      <th>20410</th>\n",
              "      <td>SBIN</td>\n",
              "      <td>EQ</td>\n",
              "      <td>349.6</td>\n",
              "      <td>362.9</td>\n",
              "      <td>341.40</td>\n",
              "      <td>351.50</td>\n",
              "      <td>2021-05-04</td>\n",
              "      <td>0.00</td>\n",
              "      <td>2.00</td>\n",
              "      <td>18.246429</td>\n",
              "      <td>7.200000</td>\n",
              "      <td>16.263325</td>\n",
              "      <td>10.860163</td>\n",
              "      <td>2.534226</td>\n",
              "      <td>1.497521</td>\n",
              "      <td>71.71</td>\n",
              "      <td>59.96</td>\n",
              "    </tr>\n",
              "  </tbody>\n",
              "</table>\n",
              "</div>"
            ],
            "text/plain": [
              "      SYMBOL SERIES   OPEN   HIGH  ...    RS_SMA    RS_EMA RSI_SMA  RSI_EMA\n",
              "20406   SBIN     EQ  274.9  310.9  ...  0.711562  1.191418   41.57    54.37\n",
              "20407   SBIN     EQ  285.1  427.7  ...  1.283346  1.945449   56.20    66.05\n",
              "20408   SBIN     EQ  395.1  408.9  ...  1.218750  1.628984   54.93    61.96\n",
              "20409   SBIN     EQ  367.7  371.9  ...  1.246402  1.517889   55.48    60.28\n",
              "20410   SBIN     EQ  349.6  362.9  ...  2.534226  1.497521   71.71    59.96\n",
              "\n",
              "[5 rows x 17 columns]"
            ]
          },
          "metadata": {
            "tags": []
          },
          "execution_count": 20
        }
      ]
    },
    {
      "cell_type": "code",
      "metadata": {
        "colab": {
          "base_uri": "https://localhost:8080/",
          "height": 348
        },
        "id": "m2_4ja-ErQNN",
        "outputId": "536df2c5-514a-4673-ddbb-049dab81d61b"
      },
      "source": [
        "df_w.loc[df_w['SYMBOL']=='SBIN'].tail(10)"
      ],
      "execution_count": 21,
      "outputs": [
        {
          "output_type": "execute_result",
          "data": {
            "text/html": [
              "<div>\n",
              "<style scoped>\n",
              "    .dataframe tbody tr th:only-of-type {\n",
              "        vertical-align: middle;\n",
              "    }\n",
              "\n",
              "    .dataframe tbody tr th {\n",
              "        vertical-align: top;\n",
              "    }\n",
              "\n",
              "    .dataframe thead th {\n",
              "        text-align: right;\n",
              "    }\n",
              "</style>\n",
              "<table border=\"1\" class=\"dataframe\">\n",
              "  <thead>\n",
              "    <tr style=\"text-align: right;\">\n",
              "      <th></th>\n",
              "      <th>SYMBOL</th>\n",
              "      <th>SERIES</th>\n",
              "      <th>OPEN</th>\n",
              "      <th>HIGH</th>\n",
              "      <th>LOW</th>\n",
              "      <th>CLOSE</th>\n",
              "      <th>TIMESTAMP</th>\n",
              "      <th>UM</th>\n",
              "      <th>DM</th>\n",
              "      <th>UM_SMA</th>\n",
              "      <th>DM_SMA</th>\n",
              "      <th>UM_EMA</th>\n",
              "      <th>DM_EMA</th>\n",
              "      <th>RS_SMA</th>\n",
              "      <th>RS_EMA</th>\n",
              "      <th>RSI_SMA</th>\n",
              "      <th>RSI_EMA</th>\n",
              "    </tr>\n",
              "  </thead>\n",
              "  <tbody>\n",
              "    <tr>\n",
              "      <th>87619</th>\n",
              "      <td>SBIN</td>\n",
              "      <td>EQ</td>\n",
              "      <td>395.10</td>\n",
              "      <td>408.90</td>\n",
              "      <td>378.10</td>\n",
              "      <td>383.65</td>\n",
              "      <td>2021-03-05</td>\n",
              "      <td>0.00</td>\n",
              "      <td>6.50</td>\n",
              "      <td>11.671429</td>\n",
              "      <td>3.089286</td>\n",
              "      <td>10.598833</td>\n",
              "      <td>3.539801</td>\n",
              "      <td>3.778035</td>\n",
              "      <td>2.994189</td>\n",
              "      <td>79.07</td>\n",
              "      <td>74.96</td>\n",
              "    </tr>\n",
              "    <tr>\n",
              "      <th>87620</th>\n",
              "      <td>SBIN</td>\n",
              "      <td>EQ</td>\n",
              "      <td>388.45</td>\n",
              "      <td>394.90</td>\n",
              "      <td>377.50</td>\n",
              "      <td>381.10</td>\n",
              "      <td>2021-03-12</td>\n",
              "      <td>0.00</td>\n",
              "      <td>2.55</td>\n",
              "      <td>11.032143</td>\n",
              "      <td>3.271429</td>\n",
              "      <td>9.841774</td>\n",
              "      <td>3.469101</td>\n",
              "      <td>3.372271</td>\n",
              "      <td>2.836981</td>\n",
              "      <td>77.13</td>\n",
              "      <td>73.94</td>\n",
              "    </tr>\n",
              "    <tr>\n",
              "      <th>87621</th>\n",
              "      <td>SBIN</td>\n",
              "      <td>EQ</td>\n",
              "      <td>382.50</td>\n",
              "      <td>387.85</td>\n",
              "      <td>357.25</td>\n",
              "      <td>371.15</td>\n",
              "      <td>2021-03-19</td>\n",
              "      <td>0.00</td>\n",
              "      <td>9.95</td>\n",
              "      <td>11.032143</td>\n",
              "      <td>3.910714</td>\n",
              "      <td>9.138790</td>\n",
              "      <td>3.932022</td>\n",
              "      <td>2.821005</td>\n",
              "      <td>2.324196</td>\n",
              "      <td>73.83</td>\n",
              "      <td>69.92</td>\n",
              "    </tr>\n",
              "    <tr>\n",
              "      <th>87622</th>\n",
              "      <td>SBIN</td>\n",
              "      <td>EQ</td>\n",
              "      <td>372.00</td>\n",
              "      <td>377.95</td>\n",
              "      <td>345.20</td>\n",
              "      <td>357.20</td>\n",
              "      <td>2021-03-26</td>\n",
              "      <td>0.00</td>\n",
              "      <td>13.95</td>\n",
              "      <td>11.032143</td>\n",
              "      <td>4.578571</td>\n",
              "      <td>8.486019</td>\n",
              "      <td>4.647592</td>\n",
              "      <td>2.409516</td>\n",
              "      <td>1.825896</td>\n",
              "      <td>70.67</td>\n",
              "      <td>64.61</td>\n",
              "    </tr>\n",
              "    <tr>\n",
              "      <th>87623</th>\n",
              "      <td>SBIN</td>\n",
              "      <td>EQ</td>\n",
              "      <td>360.10</td>\n",
              "      <td>371.90</td>\n",
              "      <td>356.30</td>\n",
              "      <td>370.65</td>\n",
              "      <td>2021-04-01</td>\n",
              "      <td>13.45</td>\n",
              "      <td>0.00</td>\n",
              "      <td>11.414286</td>\n",
              "      <td>4.578571</td>\n",
              "      <td>8.840589</td>\n",
              "      <td>4.315621</td>\n",
              "      <td>2.492980</td>\n",
              "      <td>2.048509</td>\n",
              "      <td>71.37</td>\n",
              "      <td>67.20</td>\n",
              "    </tr>\n",
              "    <tr>\n",
              "      <th>87624</th>\n",
              "      <td>SBIN</td>\n",
              "      <td>EQ</td>\n",
              "      <td>367.50</td>\n",
              "      <td>369.20</td>\n",
              "      <td>347.60</td>\n",
              "      <td>353.00</td>\n",
              "      <td>2021-04-09</td>\n",
              "      <td>0.00</td>\n",
              "      <td>17.65</td>\n",
              "      <td>11.096429</td>\n",
              "      <td>5.839286</td>\n",
              "      <td>8.209118</td>\n",
              "      <td>5.268077</td>\n",
              "      <td>1.900306</td>\n",
              "      <td>1.558276</td>\n",
              "      <td>65.52</td>\n",
              "      <td>60.91</td>\n",
              "    </tr>\n",
              "    <tr>\n",
              "      <th>87625</th>\n",
              "      <td>SBIN</td>\n",
              "      <td>EQ</td>\n",
              "      <td>344.00</td>\n",
              "      <td>347.55</td>\n",
              "      <td>322.55</td>\n",
              "      <td>339.90</td>\n",
              "      <td>2021-04-16</td>\n",
              "      <td>0.00</td>\n",
              "      <td>13.10</td>\n",
              "      <td>10.625000</td>\n",
              "      <td>6.775000</td>\n",
              "      <td>7.622753</td>\n",
              "      <td>5.827500</td>\n",
              "      <td>1.568266</td>\n",
              "      <td>1.308066</td>\n",
              "      <td>61.06</td>\n",
              "      <td>56.67</td>\n",
              "    </tr>\n",
              "    <tr>\n",
              "      <th>87626</th>\n",
              "      <td>SBIN</td>\n",
              "      <td>EQ</td>\n",
              "      <td>327.15</td>\n",
              "      <td>339.90</td>\n",
              "      <td>321.30</td>\n",
              "      <td>336.45</td>\n",
              "      <td>2021-04-23</td>\n",
              "      <td>0.00</td>\n",
              "      <td>3.45</td>\n",
              "      <td>9.350000</td>\n",
              "      <td>7.021429</td>\n",
              "      <td>7.078270</td>\n",
              "      <td>5.657679</td>\n",
              "      <td>1.331638</td>\n",
              "      <td>1.251091</td>\n",
              "      <td>57.11</td>\n",
              "      <td>55.58</td>\n",
              "    </tr>\n",
              "    <tr>\n",
              "      <th>87627</th>\n",
              "      <td>SBIN</td>\n",
              "      <td>EQ</td>\n",
              "      <td>339.25</td>\n",
              "      <td>369.95</td>\n",
              "      <td>339.25</td>\n",
              "      <td>353.50</td>\n",
              "      <td>2021-04-30</td>\n",
              "      <td>17.05</td>\n",
              "      <td>0.00</td>\n",
              "      <td>10.567857</td>\n",
              "      <td>5.582143</td>\n",
              "      <td>7.790537</td>\n",
              "      <td>5.253559</td>\n",
              "      <td>1.893154</td>\n",
              "      <td>1.482907</td>\n",
              "      <td>65.44</td>\n",
              "      <td>59.72</td>\n",
              "    </tr>\n",
              "    <tr>\n",
              "      <th>87628</th>\n",
              "      <td>SBIN</td>\n",
              "      <td>EQ</td>\n",
              "      <td>349.60</td>\n",
              "      <td>362.90</td>\n",
              "      <td>341.40</td>\n",
              "      <td>351.50</td>\n",
              "      <td>2021-05-04</td>\n",
              "      <td>0.00</td>\n",
              "      <td>2.00</td>\n",
              "      <td>10.567857</td>\n",
              "      <td>5.610714</td>\n",
              "      <td>7.234070</td>\n",
              "      <td>5.021162</td>\n",
              "      <td>1.883514</td>\n",
              "      <td>1.440716</td>\n",
              "      <td>65.32</td>\n",
              "      <td>59.03</td>\n",
              "    </tr>\n",
              "  </tbody>\n",
              "</table>\n",
              "</div>"
            ],
            "text/plain": [
              "      SYMBOL SERIES    OPEN    HIGH  ...    RS_SMA    RS_EMA RSI_SMA  RSI_EMA\n",
              "87619   SBIN     EQ  395.10  408.90  ...  3.778035  2.994189   79.07    74.96\n",
              "87620   SBIN     EQ  388.45  394.90  ...  3.372271  2.836981   77.13    73.94\n",
              "87621   SBIN     EQ  382.50  387.85  ...  2.821005  2.324196   73.83    69.92\n",
              "87622   SBIN     EQ  372.00  377.95  ...  2.409516  1.825896   70.67    64.61\n",
              "87623   SBIN     EQ  360.10  371.90  ...  2.492980  2.048509   71.37    67.20\n",
              "87624   SBIN     EQ  367.50  369.20  ...  1.900306  1.558276   65.52    60.91\n",
              "87625   SBIN     EQ  344.00  347.55  ...  1.568266  1.308066   61.06    56.67\n",
              "87626   SBIN     EQ  327.15  339.90  ...  1.331638  1.251091   57.11    55.58\n",
              "87627   SBIN     EQ  339.25  369.95  ...  1.893154  1.482907   65.44    59.72\n",
              "87628   SBIN     EQ  349.60  362.90  ...  1.883514  1.440716   65.32    59.03\n",
              "\n",
              "[10 rows x 17 columns]"
            ]
          },
          "metadata": {
            "tags": []
          },
          "execution_count": 21
        }
      ]
    },
    {
      "cell_type": "code",
      "metadata": {
        "id": "oAh1iO3tDvd2"
      },
      "source": [
        ""
      ],
      "execution_count": 21,
      "outputs": []
    },
    {
      "cell_type": "markdown",
      "metadata": {
        "id": "qt9h8znim5BU"
      },
      "source": [
        "# ICHIMOKU values"
      ]
    },
    {
      "cell_type": "code",
      "metadata": {
        "id": "FbR6QBGnprSc"
      },
      "source": [
        "def ichimoku(df):\n",
        "    # Tenken - ( HH + LL ) / 2 - 9 Periods\n",
        "    df = df.iloc[-100:]\n",
        "    cols_ls = ['SYMBOL', 'SERIES', 'OPEN', 'HIGH', 'LOW', 'CLOSE', 'TIMESTAMP','TENKEN_9','KIJUN_26','SENKOU_A','SENKOU_B_52']\n",
        "    df.sort_values(by='TIMESTAMP',inplace=True)\n",
        "    df.reset_index(drop=True,inplace=True)\n",
        "    df['TENKEN_9_HH'] = df['HIGH'].rolling(9).max()\n",
        "    df['TENKEN_9_LL'] = df['LOW'].rolling(9).min()\n",
        "    df['TENKEN_9'] = (df['TENKEN_9_HH']+df['TENKEN_9_LL'])/2\n",
        "    \n",
        "    # Kijun  - (HH + LL) / 2  - 26 Periods\n",
        "    df['KIJUN_26_HH'] = df['HIGH'].rolling(26).max()\n",
        "    df['KIJUN_26_LL'] = df['LOW'].rolling(26).min()\n",
        "    df['KIJUN_26'] = (df['KIJUN_26_HH']+df['KIJUN_26_LL'])/2\n",
        "    # Senkou A  - ( Tenken + Kijun ) / 2\n",
        "    df['SENKOU_A'] = (df['TENKEN_9']+df['KIJUN_26'])/2\n",
        "    # Senkou B - (HH + LL) /2 - 52 Periods\n",
        "    df['SENKOU_B_52_HH'] = df['HIGH'].rolling(52).max()\n",
        "    df['SENKOU_B_52_LL'] = df['LOW'].rolling(52).min()\n",
        "    df['SENKOU_B_52'] = (df['SENKOU_B_52_HH']+df['SENKOU_B_52_LL'])/2\n",
        "    df = df[cols_ls]\n",
        "    return df"
      ],
      "execution_count": 22,
      "outputs": []
    },
    {
      "cell_type": "markdown",
      "metadata": {
        "id": "Rmm2HHNduAUh"
      },
      "source": [
        "**Applying Ichimoku Function to all the scripts of the dataframe**"
      ]
    },
    {
      "cell_type": "markdown",
      "metadata": {
        "id": "ZN9ethHzzOn9"
      },
      "source": [
        "ICHIMOKU calculation - Daily Interval"
      ]
    },
    {
      "cell_type": "code",
      "metadata": {
        "id": "nhaSq-KHs7sA"
      },
      "source": [
        "cols_ls = ['SYMBOL', 'SERIES', 'OPEN', 'HIGH', 'LOW', 'CLOSE', 'TIMESTAMP','TENKEN_9','KIJUN_26','SENKOU_A','SENKOU_B_52']\n",
        "df_ichimoku_d = pd.DataFrame(columns = cols_ls)\n",
        " \n",
        "for i in nifty_500_symbols:\n",
        "    try:\n",
        "        temp_ich_d = df.loc[df['SYMBOL']==i][['SYMBOL', 'SERIES', 'OPEN', 'HIGH', 'LOW', 'CLOSE', 'TIMESTAMP']]\n",
        "        temp_ich_d['TIMESTAMP'] = pd.to_datetime(temp_ich_d['TIMESTAMP'])\n",
        "        temp_ich_d.sort_values(by='TIMESTAMP', inplace=True)\n",
        "        df_ichimoku_d = df_ichimoku_d.append(ichimoku(temp_ich_d))\n",
        "    except:\n",
        "        print(f'Failed for {i}')"
      ],
      "execution_count": 23,
      "outputs": []
    },
    {
      "cell_type": "code",
      "metadata": {
        "id": "CBuL2xXFz9OC"
      },
      "source": [
        ""
      ],
      "execution_count": 23,
      "outputs": []
    },
    {
      "cell_type": "markdown",
      "metadata": {
        "id": "Dlijz_itzbzC"
      },
      "source": [
        "ICHIMOKU calculation - Weekly Interval"
      ]
    },
    {
      "cell_type": "code",
      "metadata": {
        "id": "uLY6SdDjzfel"
      },
      "source": [
        "cols_ls = ['SYMBOL', 'SERIES', 'OPEN', 'HIGH', 'LOW', 'CLOSE', 'TIMESTAMP','TENKEN_9','KIJUN_26','SENKOU_A','SENKOU_B_52']\n",
        " \n",
        "df_ichimoku_w = pd.DataFrame(columns = cols_ls)\n",
        "for i in nifty_500_symbols:\n",
        "    try:\n",
        "        temp_ich_w = df_w.loc[df_w['SYMBOL']==i][['SYMBOL', 'SERIES', 'OPEN', 'HIGH', 'LOW', 'CLOSE', 'TIMESTAMP']]\n",
        "        temp_ich_w['TIMESTAMP'] = pd.to_datetime(temp_ich_w['TIMESTAMP'])\n",
        "        temp_ich_w.sort_values(by='TIMESTAMP', inplace=True)\n",
        "        df_ichimoku_w = df_ichimoku_w.append(ichimoku(temp_ich_w))\n",
        "    except:\n",
        "        print(f'Failed for {i}')"
      ],
      "execution_count": 24,
      "outputs": []
    },
    {
      "cell_type": "code",
      "metadata": {
        "colab": {
          "base_uri": "https://localhost:8080/",
          "height": 348
        },
        "id": "YBHnKTA6ukTF",
        "outputId": "17d6aaae-d2f6-4163-a739-0835add2f741"
      },
      "source": [
        "df_ichimoku_d.loc[df_ichimoku_d['SYMBOL']=='ICICIBANK'][-10:]"
      ],
      "execution_count": 25,
      "outputs": [
        {
          "output_type": "execute_result",
          "data": {
            "text/html": [
              "<div>\n",
              "<style scoped>\n",
              "    .dataframe tbody tr th:only-of-type {\n",
              "        vertical-align: middle;\n",
              "    }\n",
              "\n",
              "    .dataframe tbody tr th {\n",
              "        vertical-align: top;\n",
              "    }\n",
              "\n",
              "    .dataframe thead th {\n",
              "        text-align: right;\n",
              "    }\n",
              "</style>\n",
              "<table border=\"1\" class=\"dataframe\">\n",
              "  <thead>\n",
              "    <tr style=\"text-align: right;\">\n",
              "      <th></th>\n",
              "      <th>SYMBOL</th>\n",
              "      <th>SERIES</th>\n",
              "      <th>OPEN</th>\n",
              "      <th>HIGH</th>\n",
              "      <th>LOW</th>\n",
              "      <th>CLOSE</th>\n",
              "      <th>TIMESTAMP</th>\n",
              "      <th>TENKEN_9</th>\n",
              "      <th>KIJUN_26</th>\n",
              "      <th>SENKOU_A</th>\n",
              "      <th>SENKOU_B_52</th>\n",
              "    </tr>\n",
              "  </thead>\n",
              "  <tbody>\n",
              "    <tr>\n",
              "      <th>90</th>\n",
              "      <td>ICICIBANK</td>\n",
              "      <td>EQ</td>\n",
              "      <td>565.20</td>\n",
              "      <td>572.65</td>\n",
              "      <td>552.60</td>\n",
              "      <td>559.10</td>\n",
              "      <td>2021-04-20</td>\n",
              "      <td>558.500</td>\n",
              "      <td>584.575</td>\n",
              "      <td>571.5375</td>\n",
              "      <td>605.275</td>\n",
              "    </tr>\n",
              "    <tr>\n",
              "      <th>91</th>\n",
              "      <td>ICICIBANK</td>\n",
              "      <td>EQ</td>\n",
              "      <td>552.00</td>\n",
              "      <td>580.60</td>\n",
              "      <td>546.90</td>\n",
              "      <td>579.20</td>\n",
              "      <td>2021-04-22</td>\n",
              "      <td>558.500</td>\n",
              "      <td>584.575</td>\n",
              "      <td>571.5375</td>\n",
              "      <td>605.275</td>\n",
              "    </tr>\n",
              "    <tr>\n",
              "      <th>92</th>\n",
              "      <td>ICICIBANK</td>\n",
              "      <td>EQ</td>\n",
              "      <td>569.90</td>\n",
              "      <td>580.50</td>\n",
              "      <td>567.05</td>\n",
              "      <td>569.95</td>\n",
              "      <td>2021-04-23</td>\n",
              "      <td>555.875</td>\n",
              "      <td>572.000</td>\n",
              "      <td>563.9375</td>\n",
              "      <td>605.275</td>\n",
              "    </tr>\n",
              "    <tr>\n",
              "      <th>93</th>\n",
              "      <td>ICICIBANK</td>\n",
              "      <td>EQ</td>\n",
              "      <td>602.00</td>\n",
              "      <td>605.50</td>\n",
              "      <td>588.00</td>\n",
              "      <td>591.10</td>\n",
              "      <td>2021-04-26</td>\n",
              "      <td>568.325</td>\n",
              "      <td>569.075</td>\n",
              "      <td>568.7000</td>\n",
              "      <td>605.275</td>\n",
              "    </tr>\n",
              "    <tr>\n",
              "      <th>94</th>\n",
              "      <td>ICICIBANK</td>\n",
              "      <td>EQ</td>\n",
              "      <td>593.25</td>\n",
              "      <td>601.95</td>\n",
              "      <td>591.10</td>\n",
              "      <td>598.75</td>\n",
              "      <td>2021-04-27</td>\n",
              "      <td>569.950</td>\n",
              "      <td>568.325</td>\n",
              "      <td>569.1375</td>\n",
              "      <td>605.275</td>\n",
              "    </tr>\n",
              "    <tr>\n",
              "      <th>95</th>\n",
              "      <td>ICICIBANK</td>\n",
              "      <td>EQ</td>\n",
              "      <td>598.00</td>\n",
              "      <td>622.80</td>\n",
              "      <td>598.00</td>\n",
              "      <td>621.35</td>\n",
              "      <td>2021-04-28</td>\n",
              "      <td>578.600</td>\n",
              "      <td>576.975</td>\n",
              "      <td>577.7875</td>\n",
              "      <td>605.275</td>\n",
              "    </tr>\n",
              "    <tr>\n",
              "      <th>96</th>\n",
              "      <td>ICICIBANK</td>\n",
              "      <td>EQ</td>\n",
              "      <td>622.55</td>\n",
              "      <td>628.45</td>\n",
              "      <td>609.00</td>\n",
              "      <td>621.45</td>\n",
              "      <td>2021-04-29</td>\n",
              "      <td>581.425</td>\n",
              "      <td>579.800</td>\n",
              "      <td>580.6125</td>\n",
              "      <td>605.275</td>\n",
              "    </tr>\n",
              "    <tr>\n",
              "      <th>97</th>\n",
              "      <td>ICICIBANK</td>\n",
              "      <td>EQ</td>\n",
              "      <td>610.10</td>\n",
              "      <td>616.35</td>\n",
              "      <td>598.10</td>\n",
              "      <td>600.50</td>\n",
              "      <td>2021-04-30</td>\n",
              "      <td>581.425</td>\n",
              "      <td>579.800</td>\n",
              "      <td>580.6125</td>\n",
              "      <td>605.275</td>\n",
              "    </tr>\n",
              "    <tr>\n",
              "      <th>98</th>\n",
              "      <td>ICICIBANK</td>\n",
              "      <td>EQ</td>\n",
              "      <td>592.55</td>\n",
              "      <td>598.85</td>\n",
              "      <td>587.50</td>\n",
              "      <td>596.75</td>\n",
              "      <td>2021-05-03</td>\n",
              "      <td>587.675</td>\n",
              "      <td>579.800</td>\n",
              "      <td>583.7375</td>\n",
              "      <td>605.275</td>\n",
              "    </tr>\n",
              "    <tr>\n",
              "      <th>99</th>\n",
              "      <td>ICICIBANK</td>\n",
              "      <td>EQ</td>\n",
              "      <td>596.65</td>\n",
              "      <td>608.00</td>\n",
              "      <td>589.00</td>\n",
              "      <td>591.55</td>\n",
              "      <td>2021-05-04</td>\n",
              "      <td>587.675</td>\n",
              "      <td>579.800</td>\n",
              "      <td>583.7375</td>\n",
              "      <td>605.275</td>\n",
              "    </tr>\n",
              "  </tbody>\n",
              "</table>\n",
              "</div>"
            ],
            "text/plain": [
              "       SYMBOL SERIES    OPEN    HIGH  ...  TENKEN_9  KIJUN_26  SENKOU_A  SENKOU_B_52\n",
              "90  ICICIBANK     EQ  565.20  572.65  ...   558.500   584.575  571.5375      605.275\n",
              "91  ICICIBANK     EQ  552.00  580.60  ...   558.500   584.575  571.5375      605.275\n",
              "92  ICICIBANK     EQ  569.90  580.50  ...   555.875   572.000  563.9375      605.275\n",
              "93  ICICIBANK     EQ  602.00  605.50  ...   568.325   569.075  568.7000      605.275\n",
              "94  ICICIBANK     EQ  593.25  601.95  ...   569.950   568.325  569.1375      605.275\n",
              "95  ICICIBANK     EQ  598.00  622.80  ...   578.600   576.975  577.7875      605.275\n",
              "96  ICICIBANK     EQ  622.55  628.45  ...   581.425   579.800  580.6125      605.275\n",
              "97  ICICIBANK     EQ  610.10  616.35  ...   581.425   579.800  580.6125      605.275\n",
              "98  ICICIBANK     EQ  592.55  598.85  ...   587.675   579.800  583.7375      605.275\n",
              "99  ICICIBANK     EQ  596.65  608.00  ...   587.675   579.800  583.7375      605.275\n",
              "\n",
              "[10 rows x 11 columns]"
            ]
          },
          "metadata": {
            "tags": []
          },
          "execution_count": 25
        }
      ]
    },
    {
      "cell_type": "code",
      "metadata": {
        "colab": {
          "base_uri": "https://localhost:8080/",
          "height": 348
        },
        "id": "ROVejDB7ng8Z",
        "outputId": "9b0274ef-3743-4c98-f7a8-c5ebea943a51"
      },
      "source": [
        "df_ichimoku_w.loc[df_ichimoku_w['SYMBOL']=='ICICIBANK'][-10:]"
      ],
      "execution_count": 26,
      "outputs": [
        {
          "output_type": "execute_result",
          "data": {
            "text/html": [
              "<div>\n",
              "<style scoped>\n",
              "    .dataframe tbody tr th:only-of-type {\n",
              "        vertical-align: middle;\n",
              "    }\n",
              "\n",
              "    .dataframe tbody tr th {\n",
              "        vertical-align: top;\n",
              "    }\n",
              "\n",
              "    .dataframe thead th {\n",
              "        text-align: right;\n",
              "    }\n",
              "</style>\n",
              "<table border=\"1\" class=\"dataframe\">\n",
              "  <thead>\n",
              "    <tr style=\"text-align: right;\">\n",
              "      <th></th>\n",
              "      <th>SYMBOL</th>\n",
              "      <th>SERIES</th>\n",
              "      <th>OPEN</th>\n",
              "      <th>HIGH</th>\n",
              "      <th>LOW</th>\n",
              "      <th>CLOSE</th>\n",
              "      <th>TIMESTAMP</th>\n",
              "      <th>TENKEN_9</th>\n",
              "      <th>KIJUN_26</th>\n",
              "      <th>SENKOU_A</th>\n",
              "      <th>SENKOU_B_52</th>\n",
              "    </tr>\n",
              "  </thead>\n",
              "  <tbody>\n",
              "    <tr>\n",
              "      <th>90</th>\n",
              "      <td>ICICIBANK</td>\n",
              "      <td>EQ</td>\n",
              "      <td>607.55</td>\n",
              "      <td>633.75</td>\n",
              "      <td>599.00</td>\n",
              "      <td>609.45</td>\n",
              "      <td>2021-03-05</td>\n",
              "      <td>595.700</td>\n",
              "      <td>506.575</td>\n",
              "      <td>551.1375</td>\n",
              "      <td>473.850</td>\n",
              "    </tr>\n",
              "    <tr>\n",
              "      <th>91</th>\n",
              "      <td>ICICIBANK</td>\n",
              "      <td>EQ</td>\n",
              "      <td>611.60</td>\n",
              "      <td>638.00</td>\n",
              "      <td>601.15</td>\n",
              "      <td>612.85</td>\n",
              "      <td>2021-03-12</td>\n",
              "      <td>595.700</td>\n",
              "      <td>506.575</td>\n",
              "      <td>551.1375</td>\n",
              "      <td>473.850</td>\n",
              "    </tr>\n",
              "    <tr>\n",
              "      <th>92</th>\n",
              "      <td>ICICIBANK</td>\n",
              "      <td>EQ</td>\n",
              "      <td>611.90</td>\n",
              "      <td>612.85</td>\n",
              "      <td>570.00</td>\n",
              "      <td>586.65</td>\n",
              "      <td>2021-03-19</td>\n",
              "      <td>595.700</td>\n",
              "      <td>514.250</td>\n",
              "      <td>554.9750</td>\n",
              "      <td>480.450</td>\n",
              "    </tr>\n",
              "    <tr>\n",
              "      <th>93</th>\n",
              "      <td>ICICIBANK</td>\n",
              "      <td>EQ</td>\n",
              "      <td>586.85</td>\n",
              "      <td>589.25</td>\n",
              "      <td>557.10</td>\n",
              "      <td>578.55</td>\n",
              "      <td>2021-03-26</td>\n",
              "      <td>595.700</td>\n",
              "      <td>525.075</td>\n",
              "      <td>560.3875</td>\n",
              "      <td>482.475</td>\n",
              "    </tr>\n",
              "    <tr>\n",
              "      <th>94</th>\n",
              "      <td>ICICIBANK</td>\n",
              "      <td>EQ</td>\n",
              "      <td>582.00</td>\n",
              "      <td>596.10</td>\n",
              "      <td>579.00</td>\n",
              "      <td>594.40</td>\n",
              "      <td>2021-04-01</td>\n",
              "      <td>615.200</td>\n",
              "      <td>533.725</td>\n",
              "      <td>574.4625</td>\n",
              "      <td>482.475</td>\n",
              "    </tr>\n",
              "    <tr>\n",
              "      <th>95</th>\n",
              "      <td>ICICIBANK</td>\n",
              "      <td>EQ</td>\n",
              "      <td>592.00</td>\n",
              "      <td>592.00</td>\n",
              "      <td>559.40</td>\n",
              "      <td>566.20</td>\n",
              "      <td>2021-04-09</td>\n",
              "      <td>618.250</td>\n",
              "      <td>533.725</td>\n",
              "      <td>575.9875</td>\n",
              "      <td>482.475</td>\n",
              "    </tr>\n",
              "    <tr>\n",
              "      <th>96</th>\n",
              "      <td>ICICIBANK</td>\n",
              "      <td>EQ</td>\n",
              "      <td>551.40</td>\n",
              "      <td>577.75</td>\n",
              "      <td>531.15</td>\n",
              "      <td>566.95</td>\n",
              "      <td>2021-04-16</td>\n",
              "      <td>605.275</td>\n",
              "      <td>533.725</td>\n",
              "      <td>569.5000</td>\n",
              "      <td>482.475</td>\n",
              "    </tr>\n",
              "    <tr>\n",
              "      <th>97</th>\n",
              "      <td>ICICIBANK</td>\n",
              "      <td>EQ</td>\n",
              "      <td>550.00</td>\n",
              "      <td>580.60</td>\n",
              "      <td>534.40</td>\n",
              "      <td>569.95</td>\n",
              "      <td>2021-04-23</td>\n",
              "      <td>589.775</td>\n",
              "      <td>543.200</td>\n",
              "      <td>566.4875</td>\n",
              "      <td>482.475</td>\n",
              "    </tr>\n",
              "    <tr>\n",
              "      <th>98</th>\n",
              "      <td>ICICIBANK</td>\n",
              "      <td>EQ</td>\n",
              "      <td>602.00</td>\n",
              "      <td>628.45</td>\n",
              "      <td>588.00</td>\n",
              "      <td>600.50</td>\n",
              "      <td>2021-04-30</td>\n",
              "      <td>584.575</td>\n",
              "      <td>564.200</td>\n",
              "      <td>574.3875</td>\n",
              "      <td>482.475</td>\n",
              "    </tr>\n",
              "    <tr>\n",
              "      <th>99</th>\n",
              "      <td>ICICIBANK</td>\n",
              "      <td>EQ</td>\n",
              "      <td>592.55</td>\n",
              "      <td>608.00</td>\n",
              "      <td>587.50</td>\n",
              "      <td>591.55</td>\n",
              "      <td>2021-05-04</td>\n",
              "      <td>584.575</td>\n",
              "      <td>572.600</td>\n",
              "      <td>578.5875</td>\n",
              "      <td>482.475</td>\n",
              "    </tr>\n",
              "  </tbody>\n",
              "</table>\n",
              "</div>"
            ],
            "text/plain": [
              "       SYMBOL SERIES    OPEN    HIGH  ...  TENKEN_9  KIJUN_26  SENKOU_A  SENKOU_B_52\n",
              "90  ICICIBANK     EQ  607.55  633.75  ...   595.700   506.575  551.1375      473.850\n",
              "91  ICICIBANK     EQ  611.60  638.00  ...   595.700   506.575  551.1375      473.850\n",
              "92  ICICIBANK     EQ  611.90  612.85  ...   595.700   514.250  554.9750      480.450\n",
              "93  ICICIBANK     EQ  586.85  589.25  ...   595.700   525.075  560.3875      482.475\n",
              "94  ICICIBANK     EQ  582.00  596.10  ...   615.200   533.725  574.4625      482.475\n",
              "95  ICICIBANK     EQ  592.00  592.00  ...   618.250   533.725  575.9875      482.475\n",
              "96  ICICIBANK     EQ  551.40  577.75  ...   605.275   533.725  569.5000      482.475\n",
              "97  ICICIBANK     EQ  550.00  580.60  ...   589.775   543.200  566.4875      482.475\n",
              "98  ICICIBANK     EQ  602.00  628.45  ...   584.575   564.200  574.3875      482.475\n",
              "99  ICICIBANK     EQ  592.55  608.00  ...   584.575   572.600  578.5875      482.475\n",
              "\n",
              "[10 rows x 11 columns]"
            ]
          },
          "metadata": {
            "tags": []
          },
          "execution_count": 26
        }
      ]
    },
    {
      "cell_type": "markdown",
      "metadata": {
        "id": "rbBJuE1Z3ivD"
      },
      "source": [
        "Writing the dataframes to master files"
      ]
    },
    {
      "cell_type": "code",
      "metadata": {
        "id": "XlrXbK0E3l5B"
      },
      "source": [
        "df_ichimoku_w.to_csv('drive/MyDrive/trading/NseStocks_Masterfiles/master_weekly_ich.csv',encoding='utf-8',index=False)\n",
        "df_ichimoku_d.to_csv('drive/MyDrive/trading/NseStocks_Masterfiles/master_daily_ich.csv',encoding='utf-8',index=False)"
      ],
      "execution_count": 27,
      "outputs": []
    },
    {
      "cell_type": "code",
      "metadata": {
        "id": "VJ6iyJ_g1SZ5"
      },
      "source": [
        "# df_ichimoku_w= pd.read_csv('drive/MyDrive/trading/NseStocks_Masterfiles/master_weekly_ich.csv',encoding='utf-8')\n",
        "# df_ichimoku_d = pd.read_csv('drive/MyDrive/trading/NseStocks_Masterfiles/master_daily_ich.csv',encoding='utf-8')"
      ],
      "execution_count": 28,
      "outputs": []
    },
    {
      "cell_type": "code",
      "metadata": {
        "colab": {
          "base_uri": "https://localhost:8080/"
        },
        "id": "lT1T6VeR3TMJ",
        "outputId": "f982c680-fb03-43d8-d8ba-2b79f7b027f4"
      },
      "source": [
        "df_ichimoku_d.columns"
      ],
      "execution_count": 29,
      "outputs": [
        {
          "output_type": "execute_result",
          "data": {
            "text/plain": [
              "Index(['SYMBOL', 'SERIES', 'OPEN', 'HIGH', 'LOW', 'CLOSE', 'TIMESTAMP',\n",
              "       'TENKEN_9', 'KIJUN_26', 'SENKOU_A', 'SENKOU_B_52'],\n",
              "      dtype='object')"
            ]
          },
          "metadata": {
            "tags": []
          },
          "execution_count": 29
        }
      ]
    },
    {
      "cell_type": "code",
      "metadata": {
        "colab": {
          "base_uri": "https://localhost:8080/",
          "height": 198
        },
        "id": "Y7Efjw2c3-ON",
        "outputId": "0beb858a-055a-464b-9127-3301f400203e"
      },
      "source": [
        "df_ichimoku_d.loc[df_ichimoku_d['SYMBOL'] =='BANKINDIA'].tail()"
      ],
      "execution_count": 30,
      "outputs": [
        {
          "output_type": "execute_result",
          "data": {
            "text/html": [
              "<div>\n",
              "<style scoped>\n",
              "    .dataframe tbody tr th:only-of-type {\n",
              "        vertical-align: middle;\n",
              "    }\n",
              "\n",
              "    .dataframe tbody tr th {\n",
              "        vertical-align: top;\n",
              "    }\n",
              "\n",
              "    .dataframe thead th {\n",
              "        text-align: right;\n",
              "    }\n",
              "</style>\n",
              "<table border=\"1\" class=\"dataframe\">\n",
              "  <thead>\n",
              "    <tr style=\"text-align: right;\">\n",
              "      <th></th>\n",
              "      <th>SYMBOL</th>\n",
              "      <th>SERIES</th>\n",
              "      <th>OPEN</th>\n",
              "      <th>HIGH</th>\n",
              "      <th>LOW</th>\n",
              "      <th>CLOSE</th>\n",
              "      <th>TIMESTAMP</th>\n",
              "      <th>TENKEN_9</th>\n",
              "      <th>KIJUN_26</th>\n",
              "      <th>SENKOU_A</th>\n",
              "      <th>SENKOU_B_52</th>\n",
              "    </tr>\n",
              "  </thead>\n",
              "  <tbody>\n",
              "    <tr>\n",
              "      <th>95</th>\n",
              "      <td>BANKINDIA</td>\n",
              "      <td>EQ</td>\n",
              "      <td>66.8</td>\n",
              "      <td>68.50</td>\n",
              "      <td>66.50</td>\n",
              "      <td>68.15</td>\n",
              "      <td>2021-04-28</td>\n",
              "      <td>67.425</td>\n",
              "      <td>71.70</td>\n",
              "      <td>69.5625</td>\n",
              "      <td>79.375</td>\n",
              "    </tr>\n",
              "    <tr>\n",
              "      <th>96</th>\n",
              "      <td>BANKINDIA</td>\n",
              "      <td>EQ</td>\n",
              "      <td>68.6</td>\n",
              "      <td>69.20</td>\n",
              "      <td>66.65</td>\n",
              "      <td>67.50</td>\n",
              "      <td>2021-04-29</td>\n",
              "      <td>67.425</td>\n",
              "      <td>71.70</td>\n",
              "      <td>69.5625</td>\n",
              "      <td>79.975</td>\n",
              "    </tr>\n",
              "    <tr>\n",
              "      <th>97</th>\n",
              "      <td>BANKINDIA</td>\n",
              "      <td>EQ</td>\n",
              "      <td>67.0</td>\n",
              "      <td>67.80</td>\n",
              "      <td>65.00</td>\n",
              "      <td>66.35</td>\n",
              "      <td>2021-04-30</td>\n",
              "      <td>65.900</td>\n",
              "      <td>71.75</td>\n",
              "      <td>68.8250</td>\n",
              "      <td>79.975</td>\n",
              "    </tr>\n",
              "    <tr>\n",
              "      <th>98</th>\n",
              "      <td>BANKINDIA</td>\n",
              "      <td>EQ</td>\n",
              "      <td>65.0</td>\n",
              "      <td>66.35</td>\n",
              "      <td>64.60</td>\n",
              "      <td>65.55</td>\n",
              "      <td>2021-05-03</td>\n",
              "      <td>65.900</td>\n",
              "      <td>71.75</td>\n",
              "      <td>68.8250</td>\n",
              "      <td>79.975</td>\n",
              "    </tr>\n",
              "    <tr>\n",
              "      <th>99</th>\n",
              "      <td>BANKINDIA</td>\n",
              "      <td>EQ</td>\n",
              "      <td>66.2</td>\n",
              "      <td>71.65</td>\n",
              "      <td>66.10</td>\n",
              "      <td>68.55</td>\n",
              "      <td>2021-05-04</td>\n",
              "      <td>67.125</td>\n",
              "      <td>71.75</td>\n",
              "      <td>69.4375</td>\n",
              "      <td>79.975</td>\n",
              "    </tr>\n",
              "  </tbody>\n",
              "</table>\n",
              "</div>"
            ],
            "text/plain": [
              "       SYMBOL SERIES  OPEN   HIGH  ...  TENKEN_9  KIJUN_26 SENKOU_A  SENKOU_B_52\n",
              "95  BANKINDIA     EQ  66.8  68.50  ...    67.425     71.70  69.5625       79.375\n",
              "96  BANKINDIA     EQ  68.6  69.20  ...    67.425     71.70  69.5625       79.975\n",
              "97  BANKINDIA     EQ  67.0  67.80  ...    65.900     71.75  68.8250       79.975\n",
              "98  BANKINDIA     EQ  65.0  66.35  ...    65.900     71.75  68.8250       79.975\n",
              "99  BANKINDIA     EQ  66.2  71.65  ...    67.125     71.75  69.4375       79.975\n",
              "\n",
              "[5 rows x 11 columns]"
            ]
          },
          "metadata": {
            "tags": []
          },
          "execution_count": 30
        }
      ]
    },
    {
      "cell_type": "markdown",
      "metadata": {
        "id": "PiZbRiNrkqpu"
      },
      "source": [
        "# Swing High & Swing Low calculation"
      ]
    },
    {
      "cell_type": "markdown",
      "metadata": {
        "id": "bGlADIrh1h3W"
      },
      "source": [
        "Utility Function to compare the columns and extract Higher Highs & Lower Lows"
      ]
    },
    {
      "cell_type": "code",
      "metadata": {
        "id": "IzZRbK1X2EQY"
      },
      "source": [
        "def SwingHigh(row):\n",
        "    if (row['HH_bw_1'] > 0) and (row['HH_bw_2']>0) and (row['HH_fw_1']>0) and (row['HH_fw_2']>0):\n",
        "        return row['HIGH']\n",
        "    else:\n",
        "        return np.nan\n",
        "\n",
        "def SwingLow(row):\n",
        "    if (row['LL_bw_1'] < 0) and (row['LL_bw_2']<0) and (row['LL_fw_1']<0) and (row['LL_fw_2']<0):\n",
        "        return row['LOW']\n",
        "    else:\n",
        "        return np.nan"
      ],
      "execution_count": 31,
      "outputs": []
    },
    {
      "cell_type": "code",
      "metadata": {
        "id": "2A6AnqoSkvPt"
      },
      "source": [
        "df = pd.read_csv('drive/MyDrive/trading/NseStocks_Masterfiles/master_df_RSI.csv',infer_datetime_format = True, parse_dates=['TIMESTAMP'], encoding='utf-8')"
      ],
      "execution_count": 32,
      "outputs": []
    },
    {
      "cell_type": "code",
      "metadata": {
        "id": "PEjLAiswlFf0"
      },
      "source": [
        "# df['TIMESTAMP'] = pd.to_datetime(df['TIMESTAMP'])\n",
        "df = df[['SYMBOL', 'SERIES', 'OPEN', 'HIGH', 'LOW', 'CLOSE', 'TIMESTAMP']]"
      ],
      "execution_count": 33,
      "outputs": []
    },
    {
      "cell_type": "code",
      "metadata": {
        "colab": {
          "base_uri": "https://localhost:8080/"
        },
        "id": "k3xvAq4PwFUz",
        "outputId": "34ffff3e-b9b1-4125-ad75-6147bcc2ff3c"
      },
      "source": [
        "df.columns"
      ],
      "execution_count": 34,
      "outputs": [
        {
          "output_type": "execute_result",
          "data": {
            "text/plain": [
              "Index(['SYMBOL', 'SERIES', 'OPEN', 'HIGH', 'LOW', 'CLOSE', 'TIMESTAMP'], dtype='object')"
            ]
          },
          "metadata": {
            "tags": []
          },
          "execution_count": 34
        }
      ]
    },
    {
      "cell_type": "code",
      "metadata": {
        "colab": {
          "base_uri": "https://localhost:8080/"
        },
        "id": "8hucM3AR2B9F",
        "outputId": "c0439e93-c882-40bb-b661-efd1eff6aa90"
      },
      "source": [
        "df.info()"
      ],
      "execution_count": 35,
      "outputs": [
        {
          "output_type": "stream",
          "text": [
            "<class 'pandas.core.frame.DataFrame'>\n",
            "RangeIndex: 497242 entries, 0 to 497241\n",
            "Data columns (total 7 columns):\n",
            " #   Column     Non-Null Count   Dtype         \n",
            "---  ------     --------------   -----         \n",
            " 0   SYMBOL     497242 non-null  object        \n",
            " 1   SERIES     497242 non-null  object        \n",
            " 2   OPEN       497242 non-null  float64       \n",
            " 3   HIGH       497242 non-null  float64       \n",
            " 4   LOW        497242 non-null  float64       \n",
            " 5   CLOSE      497242 non-null  float64       \n",
            " 6   TIMESTAMP  497242 non-null  datetime64[ns]\n",
            "dtypes: datetime64[ns](1), float64(4), object(2)\n",
            "memory usage: 26.6+ MB\n"
          ],
          "name": "stdout"
        }
      ]
    },
    {
      "cell_type": "code",
      "metadata": {
        "id": "V4PCFMblmbYb"
      },
      "source": [
        "start_date = '2019-01-01'"
      ],
      "execution_count": 36,
      "outputs": []
    },
    {
      "cell_type": "code",
      "metadata": {
        "colab": {
          "base_uri": "https://localhost:8080/"
        },
        "id": "ZTnmkCyty_6-",
        "outputId": "de06a0b5-5a7e-4973-9253-7b1a245f1659"
      },
      "source": [
        "df = df.loc[df['TIMESTAMP']>=start_date]\n",
        "df.info()"
      ],
      "execution_count": 37,
      "outputs": [
        {
          "output_type": "stream",
          "text": [
            "<class 'pandas.core.frame.DataFrame'>\n",
            "Int64Index: 282139 entries, 490 to 497241\n",
            "Data columns (total 7 columns):\n",
            " #   Column     Non-Null Count   Dtype         \n",
            "---  ------     --------------   -----         \n",
            " 0   SYMBOL     282139 non-null  object        \n",
            " 1   SERIES     282139 non-null  object        \n",
            " 2   OPEN       282139 non-null  float64       \n",
            " 3   HIGH       282139 non-null  float64       \n",
            " 4   LOW        282139 non-null  float64       \n",
            " 5   CLOSE      282139 non-null  float64       \n",
            " 6   TIMESTAMP  282139 non-null  datetime64[ns]\n",
            "dtypes: datetime64[ns](1), float64(4), object(2)\n",
            "memory usage: 17.2+ MB\n"
          ],
          "name": "stdout"
        }
      ]
    },
    {
      "cell_type": "code",
      "metadata": {
        "id": "OwXfjrbH6qrF"
      },
      "source": [
        "df_swing_cols = ['SYMBOL', 'SERIES', 'OPEN', 'HIGH', 'LOW', 'CLOSE', 'TIMESTAMP', 'swing_high', 'swing_low']\n",
        "df_swing = pd.DataFrame(columns=df_swing_cols)\n",
        "\n",
        "for i in nifty_500_symbols:\n",
        "    try:\n",
        "        df_t = df.loc[df['SYMBOL']==i]\n",
        "        df_t.sort_values(by='TIMESTAMP',inplace=True)\n",
        "        df_t.reset_index(drop=True,inplace=True)\n",
        "        df_t['HH_bw_1'] = df_t['HIGH'].diff(periods=1)\n",
        "        df_t['HH_bw_2'] = df_t['HIGH'].diff(periods=2)\n",
        "        df_t['HH_fw_1'] = df_t['HIGH'].diff(periods=-1)\n",
        "        df_t['HH_fw_2'] = df_t['HIGH'].diff(periods=-2)\n",
        "        df_t['LL_bw_1'] = df_t['LOW'].diff(periods=1)\n",
        "        df_t['LL_bw_2'] = df_t['LOW'].diff(periods=2)\n",
        "        df_t['LL_fw_1'] = df_t['LOW'].diff(periods=-1)\n",
        "        df_t['LL_fw_2'] = df_t['LOW'].diff(periods=-2)\n",
        "        df_t['swing_high'] = df_t.apply(lambda row :SwingHigh(row), axis = 1)\n",
        "        df_t['swing_low'] = df_t.apply(lambda row :SwingLow(row), axis = 1)\n",
        "        df_t = df_t[df_swing_cols]\n",
        "        df_t.fillna(method='ffill', inplace=True)\n",
        "        df_swing = df_swing.append(df_t)\n",
        "    except:\n",
        "        print(f'Failed for {i}')\n",
        "\n",
        "df_swing.reset_index(drop=True,inplace=True)"
      ],
      "execution_count": 38,
      "outputs": []
    },
    {
      "cell_type": "code",
      "metadata": {
        "colab": {
          "base_uri": "https://localhost:8080/",
          "height": 348
        },
        "id": "rTOwegZeoZJO",
        "outputId": "f4769d1a-34ac-4efa-9252-e95b244d4412"
      },
      "source": [
        "df_swing.tail(10)"
      ],
      "execution_count": 39,
      "outputs": [
        {
          "output_type": "execute_result",
          "data": {
            "text/html": [
              "<div>\n",
              "<style scoped>\n",
              "    .dataframe tbody tr th:only-of-type {\n",
              "        vertical-align: middle;\n",
              "    }\n",
              "\n",
              "    .dataframe tbody tr th {\n",
              "        vertical-align: top;\n",
              "    }\n",
              "\n",
              "    .dataframe thead th {\n",
              "        text-align: right;\n",
              "    }\n",
              "</style>\n",
              "<table border=\"1\" class=\"dataframe\">\n",
              "  <thead>\n",
              "    <tr style=\"text-align: right;\">\n",
              "      <th></th>\n",
              "      <th>SYMBOL</th>\n",
              "      <th>SERIES</th>\n",
              "      <th>OPEN</th>\n",
              "      <th>HIGH</th>\n",
              "      <th>LOW</th>\n",
              "      <th>CLOSE</th>\n",
              "      <th>TIMESTAMP</th>\n",
              "      <th>swing_high</th>\n",
              "      <th>swing_low</th>\n",
              "    </tr>\n",
              "  </thead>\n",
              "  <tbody>\n",
              "    <tr>\n",
              "      <th>282129</th>\n",
              "      <td>ECLERX</td>\n",
              "      <td>EQ</td>\n",
              "      <td>1208.00</td>\n",
              "      <td>1245.00</td>\n",
              "      <td>1190.05</td>\n",
              "      <td>1222.45</td>\n",
              "      <td>2021-04-20</td>\n",
              "      <td>1248.0</td>\n",
              "      <td>1110.0</td>\n",
              "    </tr>\n",
              "    <tr>\n",
              "      <th>282130</th>\n",
              "      <td>ECLERX</td>\n",
              "      <td>EQ</td>\n",
              "      <td>1215.00</td>\n",
              "      <td>1220.00</td>\n",
              "      <td>1181.20</td>\n",
              "      <td>1207.05</td>\n",
              "      <td>2021-04-22</td>\n",
              "      <td>1248.0</td>\n",
              "      <td>1110.0</td>\n",
              "    </tr>\n",
              "    <tr>\n",
              "      <th>282131</th>\n",
              "      <td>ECLERX</td>\n",
              "      <td>EQ</td>\n",
              "      <td>1196.10</td>\n",
              "      <td>1271.00</td>\n",
              "      <td>1180.25</td>\n",
              "      <td>1195.70</td>\n",
              "      <td>2021-04-23</td>\n",
              "      <td>1271.0</td>\n",
              "      <td>1110.0</td>\n",
              "    </tr>\n",
              "    <tr>\n",
              "      <th>282132</th>\n",
              "      <td>ECLERX</td>\n",
              "      <td>EQ</td>\n",
              "      <td>1195.00</td>\n",
              "      <td>1213.35</td>\n",
              "      <td>1162.90</td>\n",
              "      <td>1171.25</td>\n",
              "      <td>2021-04-26</td>\n",
              "      <td>1271.0</td>\n",
              "      <td>1110.0</td>\n",
              "    </tr>\n",
              "    <tr>\n",
              "      <th>282133</th>\n",
              "      <td>ECLERX</td>\n",
              "      <td>EQ</td>\n",
              "      <td>1171.00</td>\n",
              "      <td>1194.50</td>\n",
              "      <td>1160.00</td>\n",
              "      <td>1165.65</td>\n",
              "      <td>2021-04-27</td>\n",
              "      <td>1271.0</td>\n",
              "      <td>1160.0</td>\n",
              "    </tr>\n",
              "    <tr>\n",
              "      <th>282134</th>\n",
              "      <td>ECLERX</td>\n",
              "      <td>EQ</td>\n",
              "      <td>1168.00</td>\n",
              "      <td>1207.00</td>\n",
              "      <td>1168.00</td>\n",
              "      <td>1177.80</td>\n",
              "      <td>2021-04-28</td>\n",
              "      <td>1271.0</td>\n",
              "      <td>1160.0</td>\n",
              "    </tr>\n",
              "    <tr>\n",
              "      <th>282135</th>\n",
              "      <td>ECLERX</td>\n",
              "      <td>EQ</td>\n",
              "      <td>1188.75</td>\n",
              "      <td>1248.00</td>\n",
              "      <td>1173.00</td>\n",
              "      <td>1230.60</td>\n",
              "      <td>2021-04-29</td>\n",
              "      <td>1271.0</td>\n",
              "      <td>1160.0</td>\n",
              "    </tr>\n",
              "    <tr>\n",
              "      <th>282136</th>\n",
              "      <td>ECLERX</td>\n",
              "      <td>EQ</td>\n",
              "      <td>1212.55</td>\n",
              "      <td>1266.05</td>\n",
              "      <td>1209.00</td>\n",
              "      <td>1245.85</td>\n",
              "      <td>2021-04-30</td>\n",
              "      <td>1271.0</td>\n",
              "      <td>1160.0</td>\n",
              "    </tr>\n",
              "    <tr>\n",
              "      <th>282137</th>\n",
              "      <td>ECLERX</td>\n",
              "      <td>EQ</td>\n",
              "      <td>1244.90</td>\n",
              "      <td>1275.00</td>\n",
              "      <td>1237.35</td>\n",
              "      <td>1266.50</td>\n",
              "      <td>2021-05-03</td>\n",
              "      <td>1271.0</td>\n",
              "      <td>1160.0</td>\n",
              "    </tr>\n",
              "    <tr>\n",
              "      <th>282138</th>\n",
              "      <td>ECLERX</td>\n",
              "      <td>EQ</td>\n",
              "      <td>1273.75</td>\n",
              "      <td>1293.00</td>\n",
              "      <td>1234.90</td>\n",
              "      <td>1241.70</td>\n",
              "      <td>2021-05-04</td>\n",
              "      <td>1271.0</td>\n",
              "      <td>1160.0</td>\n",
              "    </tr>\n",
              "  </tbody>\n",
              "</table>\n",
              "</div>"
            ],
            "text/plain": [
              "        SYMBOL SERIES     OPEN  ...  TIMESTAMP  swing_high  swing_low\n",
              "282129  ECLERX     EQ  1208.00  ... 2021-04-20      1248.0     1110.0\n",
              "282130  ECLERX     EQ  1215.00  ... 2021-04-22      1248.0     1110.0\n",
              "282131  ECLERX     EQ  1196.10  ... 2021-04-23      1271.0     1110.0\n",
              "282132  ECLERX     EQ  1195.00  ... 2021-04-26      1271.0     1110.0\n",
              "282133  ECLERX     EQ  1171.00  ... 2021-04-27      1271.0     1160.0\n",
              "282134  ECLERX     EQ  1168.00  ... 2021-04-28      1271.0     1160.0\n",
              "282135  ECLERX     EQ  1188.75  ... 2021-04-29      1271.0     1160.0\n",
              "282136  ECLERX     EQ  1212.55  ... 2021-04-30      1271.0     1160.0\n",
              "282137  ECLERX     EQ  1244.90  ... 2021-05-03      1271.0     1160.0\n",
              "282138  ECLERX     EQ  1273.75  ... 2021-05-04      1271.0     1160.0\n",
              "\n",
              "[10 rows x 9 columns]"
            ]
          },
          "metadata": {
            "tags": []
          },
          "execution_count": 39
        }
      ]
    },
    {
      "cell_type": "code",
      "metadata": {
        "colab": {
          "base_uri": "https://localhost:8080/",
          "height": 348
        },
        "id": "VuIe4Eo632xt",
        "outputId": "7815e1b5-6894-4271-8c8f-f67afac4cb7c"
      },
      "source": [
        "df_swing.loc[df_swing['SYMBOL']=='SBIN'][-10:]"
      ],
      "execution_count": 40,
      "outputs": [
        {
          "output_type": "execute_result",
          "data": {
            "text/html": [
              "<div>\n",
              "<style scoped>\n",
              "    .dataframe tbody tr th:only-of-type {\n",
              "        vertical-align: middle;\n",
              "    }\n",
              "\n",
              "    .dataframe tbody tr th {\n",
              "        vertical-align: top;\n",
              "    }\n",
              "\n",
              "    .dataframe thead th {\n",
              "        text-align: right;\n",
              "    }\n",
              "</style>\n",
              "<table border=\"1\" class=\"dataframe\">\n",
              "  <thead>\n",
              "    <tr style=\"text-align: right;\">\n",
              "      <th></th>\n",
              "      <th>SYMBOL</th>\n",
              "      <th>SERIES</th>\n",
              "      <th>OPEN</th>\n",
              "      <th>HIGH</th>\n",
              "      <th>LOW</th>\n",
              "      <th>CLOSE</th>\n",
              "      <th>TIMESTAMP</th>\n",
              "      <th>swing_high</th>\n",
              "      <th>swing_low</th>\n",
              "    </tr>\n",
              "  </thead>\n",
              "  <tbody>\n",
              "    <tr>\n",
              "      <th>233160</th>\n",
              "      <td>SBIN</td>\n",
              "      <td>EQ</td>\n",
              "      <td>335.10</td>\n",
              "      <td>339.90</td>\n",
              "      <td>326.70</td>\n",
              "      <td>329.50</td>\n",
              "      <td>2021-04-20</td>\n",
              "      <td>347.55</td>\n",
              "      <td>321.3</td>\n",
              "    </tr>\n",
              "    <tr>\n",
              "      <th>233161</th>\n",
              "      <td>SBIN</td>\n",
              "      <td>EQ</td>\n",
              "      <td>326.00</td>\n",
              "      <td>337.65</td>\n",
              "      <td>323.30</td>\n",
              "      <td>336.65</td>\n",
              "      <td>2021-04-22</td>\n",
              "      <td>347.55</td>\n",
              "      <td>321.3</td>\n",
              "    </tr>\n",
              "    <tr>\n",
              "      <th>233162</th>\n",
              "      <td>SBIN</td>\n",
              "      <td>EQ</td>\n",
              "      <td>331.65</td>\n",
              "      <td>339.90</td>\n",
              "      <td>331.65</td>\n",
              "      <td>336.45</td>\n",
              "      <td>2021-04-23</td>\n",
              "      <td>347.55</td>\n",
              "      <td>321.3</td>\n",
              "    </tr>\n",
              "    <tr>\n",
              "      <th>233163</th>\n",
              "      <td>SBIN</td>\n",
              "      <td>EQ</td>\n",
              "      <td>339.25</td>\n",
              "      <td>347.45</td>\n",
              "      <td>339.25</td>\n",
              "      <td>344.30</td>\n",
              "      <td>2021-04-26</td>\n",
              "      <td>347.55</td>\n",
              "      <td>321.3</td>\n",
              "    </tr>\n",
              "    <tr>\n",
              "      <th>233164</th>\n",
              "      <td>SBIN</td>\n",
              "      <td>EQ</td>\n",
              "      <td>344.00</td>\n",
              "      <td>354.95</td>\n",
              "      <td>342.40</td>\n",
              "      <td>353.05</td>\n",
              "      <td>2021-04-27</td>\n",
              "      <td>347.55</td>\n",
              "      <td>321.3</td>\n",
              "    </tr>\n",
              "    <tr>\n",
              "      <th>233165</th>\n",
              "      <td>SBIN</td>\n",
              "      <td>EQ</td>\n",
              "      <td>357.00</td>\n",
              "      <td>364.30</td>\n",
              "      <td>356.05</td>\n",
              "      <td>363.40</td>\n",
              "      <td>2021-04-28</td>\n",
              "      <td>347.55</td>\n",
              "      <td>321.3</td>\n",
              "    </tr>\n",
              "    <tr>\n",
              "      <th>233166</th>\n",
              "      <td>SBIN</td>\n",
              "      <td>EQ</td>\n",
              "      <td>365.00</td>\n",
              "      <td>369.95</td>\n",
              "      <td>355.50</td>\n",
              "      <td>359.40</td>\n",
              "      <td>2021-04-29</td>\n",
              "      <td>369.95</td>\n",
              "      <td>321.3</td>\n",
              "    </tr>\n",
              "    <tr>\n",
              "      <th>233167</th>\n",
              "      <td>SBIN</td>\n",
              "      <td>EQ</td>\n",
              "      <td>353.45</td>\n",
              "      <td>362.50</td>\n",
              "      <td>350.45</td>\n",
              "      <td>353.50</td>\n",
              "      <td>2021-04-30</td>\n",
              "      <td>369.95</td>\n",
              "      <td>321.3</td>\n",
              "    </tr>\n",
              "    <tr>\n",
              "      <th>233168</th>\n",
              "      <td>SBIN</td>\n",
              "      <td>EQ</td>\n",
              "      <td>349.60</td>\n",
              "      <td>352.50</td>\n",
              "      <td>341.40</td>\n",
              "      <td>350.60</td>\n",
              "      <td>2021-05-03</td>\n",
              "      <td>369.95</td>\n",
              "      <td>321.3</td>\n",
              "    </tr>\n",
              "    <tr>\n",
              "      <th>233169</th>\n",
              "      <td>SBIN</td>\n",
              "      <td>EQ</td>\n",
              "      <td>355.00</td>\n",
              "      <td>362.90</td>\n",
              "      <td>350.20</td>\n",
              "      <td>351.50</td>\n",
              "      <td>2021-05-04</td>\n",
              "      <td>369.95</td>\n",
              "      <td>321.3</td>\n",
              "    </tr>\n",
              "  </tbody>\n",
              "</table>\n",
              "</div>"
            ],
            "text/plain": [
              "       SYMBOL SERIES    OPEN    HIGH  ...   CLOSE  TIMESTAMP swing_high  swing_low\n",
              "233160   SBIN     EQ  335.10  339.90  ...  329.50 2021-04-20     347.55      321.3\n",
              "233161   SBIN     EQ  326.00  337.65  ...  336.65 2021-04-22     347.55      321.3\n",
              "233162   SBIN     EQ  331.65  339.90  ...  336.45 2021-04-23     347.55      321.3\n",
              "233163   SBIN     EQ  339.25  347.45  ...  344.30 2021-04-26     347.55      321.3\n",
              "233164   SBIN     EQ  344.00  354.95  ...  353.05 2021-04-27     347.55      321.3\n",
              "233165   SBIN     EQ  357.00  364.30  ...  363.40 2021-04-28     347.55      321.3\n",
              "233166   SBIN     EQ  365.00  369.95  ...  359.40 2021-04-29     369.95      321.3\n",
              "233167   SBIN     EQ  353.45  362.50  ...  353.50 2021-04-30     369.95      321.3\n",
              "233168   SBIN     EQ  349.60  352.50  ...  350.60 2021-05-03     369.95      321.3\n",
              "233169   SBIN     EQ  355.00  362.90  ...  351.50 2021-05-04     369.95      321.3\n",
              "\n",
              "[10 rows x 9 columns]"
            ]
          },
          "metadata": {
            "tags": []
          },
          "execution_count": 40
        }
      ]
    },
    {
      "cell_type": "code",
      "metadata": {
        "id": "xE4qoY3D_zKG"
      },
      "source": [
        "df_swing.to_csv('drive/MyDrive/trading/NseStocks_Masterfiles/master_df_swing.csv',encoding='utf-8',index=False)"
      ],
      "execution_count": 41,
      "outputs": []
    },
    {
      "cell_type": "code",
      "metadata": {
        "id": "bIFSkNKEfqh1"
      },
      "source": [
        ""
      ],
      "execution_count": null,
      "outputs": []
    }
  ]
}