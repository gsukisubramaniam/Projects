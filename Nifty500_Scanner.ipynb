{
  "nbformat": 4,
  "nbformat_minor": 0,
  "metadata": {
    "colab": {
      "name": "Nifty500_Scanner.ipynb",
      "provenance": [],
      "collapsed_sections": [],
      "authorship_tag": "ABX9TyPpL5pxUwT2aM2g7EBue+Tm",
      "include_colab_link": true
    },
    "kernelspec": {
      "name": "python3",
      "display_name": "Python 3"
    },
    "language_info": {
      "name": "python"
    }
  },
  "cells": [
    {
      "cell_type": "markdown",
      "metadata": {
        "id": "view-in-github",
        "colab_type": "text"
      },
      "source": [
        "<a href=\"https://colab.research.google.com/github/gsukisubramaniam/Projects/blob/master/Nifty500_Scanner.ipynb\" target=\"_parent\"><img src=\"https://colab.research.google.com/assets/colab-badge.svg\" alt=\"Open In Colab\"/></a>"
      ]
    },
    {
      "cell_type": "code",
      "metadata": {
        "colab": {
          "base_uri": "https://localhost:8080/"
        },
        "id": "xb6U597QbmlB",
        "outputId": "1f0a3ed7-3a42-4a18-e4e8-d67313516ecb"
      },
      "source": [
        "from google.colab import drive\n",
        "drive.mount('/content/drive')"
      ],
      "execution_count": 1,
      "outputs": [
        {
          "output_type": "stream",
          "text": [
            "Mounted at /content/drive\n"
          ],
          "name": "stdout"
        }
      ]
    },
    {
      "cell_type": "code",
      "metadata": {
        "id": "zs0c0jTTf4qB"
      },
      "source": [
        "import pandas as pd\n",
        "import numpy as np\n",
        "import datetime\n",
        "from datetime import date\n",
        "import os"
      ],
      "execution_count": 2,
      "outputs": []
    },
    {
      "cell_type": "code",
      "metadata": {
        "id": "wbQZKDABbxBH"
      },
      "source": [
        "# To ignore the warnings for pandas operations\n",
        "pd.options.mode.chained_assignment = None"
      ],
      "execution_count": 3,
      "outputs": []
    },
    {
      "cell_type": "markdown",
      "metadata": {
        "id": "eTFlHGyXf2TL"
      },
      "source": [
        "Loading the datasets"
      ]
    },
    {
      "cell_type": "code",
      "metadata": {
        "colab": {
          "base_uri": "https://localhost:8080/"
        },
        "id": "ZRNW6jO7f_MF",
        "outputId": "d9098822-3f1d-4707-c08d-a15902e94f40"
      },
      "source": [
        "nifty_500 = pd.read_csv('drive/MyDrive/trading/ind_nifty500list.csv')\n",
        " \n",
        "# Nifty 500 list\n",
        " \n",
        "nifty_500_symbols = np.array(nifty_500['Symbol'])\n",
        "print (len(nifty_500_symbols))\n",
        "print (type(nifty_500_symbols))"
      ],
      "execution_count": 4,
      "outputs": [
        {
          "output_type": "stream",
          "text": [
            "501\n",
            "<class 'numpy.ndarray'>\n"
          ],
          "name": "stdout"
        }
      ]
    },
    {
      "cell_type": "markdown",
      "metadata": {
        "id": "EjdRfEIhgD7s"
      },
      "source": [
        "Master Datasets"
      ]
    },
    {
      "cell_type": "code",
      "metadata": {
        "id": "vHn0SOYygK8S"
      },
      "source": [
        "# RSI updated datasources\n",
        "df = pd.read_csv('drive/MyDrive/trading/NseStocks_Masterfiles/master_df_RSI.csv',infer_datetime_format = True, parse_dates=['TIMESTAMP'], encoding='utf-8')\n",
        "df_w = pd.read_csv('drive/MyDrive/trading/NseStocks_Masterfiles/master_weekly_RSI.csv',infer_datetime_format = True, parse_dates=['TIMESTAMP'], encoding='utf-8')\n",
        "df_m = pd.read_csv('drive/MyDrive/trading/NseStocks_Masterfiles/master_monthly_RSI.csv',infer_datetime_format = True, parse_dates=['TIMESTAMP'], encoding='utf-8')"
      ],
      "execution_count": 5,
      "outputs": []
    },
    {
      "cell_type": "code",
      "metadata": {
        "id": "MfwWXe6EhHi4"
      },
      "source": [
        "# Ichmioku updated datasources\n",
        "df_ichimoku_w = pd.read_csv('drive/MyDrive/trading/NseStocks_Masterfiles/master_weekly_ich.csv',infer_datetime_format = True, parse_dates=['TIMESTAMP'], encoding='utf-8')\n",
        "df_ichimoku_d = pd.read_csv('drive/MyDrive/trading/NseStocks_Masterfiles/master_daily_ich.csv',infer_datetime_format = True, parse_dates=['TIMESTAMP'], encoding='utf-8')"
      ],
      "execution_count": 6,
      "outputs": []
    },
    {
      "cell_type": "code",
      "metadata": {
        "id": "e8eViH1nkZZI"
      },
      "source": [
        "# Swing High & Swing Low Datasources\n",
        "df_swing = pd.read_csv('drive/MyDrive/trading/NseStocks_Masterfiles/master_df_swing.csv',infer_datetime_format = True, parse_dates=['TIMESTAMP'], encoding='utf-8')"
      ],
      "execution_count": 7,
      "outputs": []
    },
    {
      "cell_type": "code",
      "metadata": {
        "id": "GU1bFDmPEmWt"
      },
      "source": [
        ""
      ],
      "execution_count": 7,
      "outputs": []
    },
    {
      "cell_type": "markdown",
      "metadata": {
        "id": "3qIAkIs6EpBC"
      },
      "source": [
        "# Screeners"
      ]
    },
    {
      "cell_type": "markdown",
      "metadata": {
        "id": "lId1CSZdgWbp"
      },
      "source": [
        "Screener 1 : RSI Screener"
      ]
    },
    {
      "cell_type": "code",
      "metadata": {
        "colab": {
          "base_uri": "https://localhost:8080/"
        },
        "id": "qw-Q8iPjgZoO",
        "outputId": "7bab92f3-e3b6-4ba4-9a89-8552888462a7"
      },
      "source": [
        "rsi_screen_stocks = []\n",
        "for symbol in nifty_500_symbols:\n",
        "    m_check = df_m.loc[df_m['SYMBOL']==symbol].iat[-1, 16]\n",
        "    w_check = df_w.loc[df_w['SYMBOL']==symbol].iat[-1, 16]\n",
        "    if df.loc[df['SYMBOL']==symbol]['RSI_EMA'][-15:-1].values.max() < 60:\n",
        "        d_last14days = 1\n",
        "    else:\n",
        "        d_last14days = 0\n",
        "    d_latestRSI = df.loc[df['SYMBOL']==symbol].iat[-1,16]\n",
        "    if ((m_check > 60) & (w_check > 60) & (d_last14days==1) & (d_latestRSI > 60)):\n",
        "        rsi_screen_stocks.append(symbol)\n",
        "    else:\n",
        "        pass\n",
        " \n",
        "print(rsi_screen_stocks)"
      ],
      "execution_count": 8,
      "outputs": [
        {
          "output_type": "stream",
          "text": [
            "['GUJGASLTD', 'SOBHA', 'TATACONSUM', 'VOLTAS', 'ECLERX']\n"
          ],
          "name": "stdout"
        }
      ]
    },
    {
      "cell_type": "markdown",
      "metadata": {
        "id": "ZzkStKB1giky"
      },
      "source": [
        "Screener 2: ICHIMOKU Screener"
      ]
    },
    {
      "cell_type": "markdown",
      "metadata": {
        "id": "19yR5PWweo1i"
      },
      "source": [
        "Ichimoku Screener Logic\n",
        "\n",
        "1. Weekly Senkou_A > Weekly Senkou_B \n",
        "2. Daily Senkou_A crossed above Daily Senkou_B"
      ]
    },
    {
      "cell_type": "code",
      "metadata": {
        "colab": {
          "base_uri": "https://localhost:8080/"
        },
        "id": "auflIe5DhCBN",
        "outputId": "e5b02a64-0ced-4eae-81e4-6cd6b16a33e4"
      },
      "source": [
        "ichimoku_screen_stocks = []\n",
        "for symbol in nifty_500_symbols:\n",
        "    temp_d = df_ichimoku_d.loc[df_ichimoku_d['SYMBOL']==symbol]\n",
        "    temp_d.sort_values(by='TIMESTAMP',inplace=True)\n",
        "    temp_d.reset_index(drop=True,inplace=True)\n",
        " \n",
        "    temp_w = df_ichimoku_w.loc[df_ichimoku_w['SYMBOL']==symbol]\n",
        "    temp_w.sort_values(by='TIMESTAMP',inplace=True)\n",
        "    temp_w.reset_index(drop=True,inplace=True)\n",
        "    \n",
        "    if (temp_d.iat[-1, 9] >= temp_d.iat[-1, 10]) & (temp_d.iat[-2, 9] < temp_d.iat[-2, 10]) & (temp_w.iat[-1,9]>temp_w.iat[-1,10]):\n",
        "        ichimoku_screen_stocks.append(symbol)\n",
        "    else:\n",
        "        pass\n",
        " \n",
        "print (ichimoku_screen_stocks)"
      ],
      "execution_count": 9,
      "outputs": [
        {
          "output_type": "stream",
          "text": [
            "['ADANIPORTS', 'APOLLOTYRE', 'DCBBANK', 'EXIDEIND', 'GUJGASLTD', 'HDFCAMC', 'IDFCFIRSTB', 'IRB', 'JUSTDIAL', 'KAJARIACER', 'NAVNETEDUL', 'SUNDARMFIN', 'VOLTAS']\n"
          ],
          "name": "stdout"
        }
      ]
    },
    {
      "cell_type": "markdown",
      "metadata": {
        "id": "1Lfupb8IhWpM"
      },
      "source": [
        "Screener 3: Swing High break Screener"
      ]
    },
    {
      "cell_type": "code",
      "metadata": {
        "id": "d9ynBL38jNno"
      },
      "source": [
        "swing_screen_stocks = []\n",
        "for symbol in nifty_500_symbols:\n",
        "    temp_sw_d = df_swing.loc[df_swing['SYMBOL']==symbol]\n",
        "    temp_sw_d.sort_values(by='TIMESTAMP', inplace=True)\n",
        "    temp_sw_d.reset_index(drop = True, inplace=True)\n",
        "    if (temp_sw_d.iat[-1, 5] >= temp_sw_d.iat[-1, 7]) & (temp_sw_d.iat[-2, 5] < temp_sw_d.iat[-2, 7]):\n",
        "        swing_screen_stocks.append(symbol)\n",
        "    else:\n",
        "        pass"
      ],
      "execution_count": 10,
      "outputs": []
    },
    {
      "cell_type": "code",
      "metadata": {
        "colab": {
          "base_uri": "https://localhost:8080/"
        },
        "id": "TpGP_7Vboujw",
        "outputId": "df792e50-99f6-47bf-ce6a-47b954974504"
      },
      "source": [
        "print (pd.Series(swing_screen_stocks))"
      ],
      "execution_count": 11,
      "outputs": [
        {
          "output_type": "stream",
          "text": [
            "0         AUBANK\n",
            "1      AEGISCHEM\n",
            "2     APOLLOTYRE\n",
            "3     BAJAJ-AUTO\n",
            "4     BAJFINANCE\n",
            "5     BALKRISIND\n",
            "6       MAHABANK\n",
            "7     BHARATFORG\n",
            "8         BIOCON\n",
            "9         CRISIL\n",
            "10         CANBK\n",
            "11     CENTRALBK\n",
            "12         CIPLA\n",
            "13    LALPATHLAB\n",
            "14      EMAMILTD\n",
            "15           FSL\n",
            "16        GESHIP\n",
            "17      HDFCLIFE\n",
            "18    ICICIPRULI\n",
            "19    IDFCFIRSTB\n",
            "20           IOB\n",
            "21    INDUSINDBK\n",
            "22    JBCHEPHARM\n",
            "23           KEI\n",
            "24    KAJARIACER\n",
            "25         LUPIN\n",
            "26           MRF\n",
            "27        MAHLOG\n",
            "28        MARICO\n",
            "29    MOTHERSUMI\n",
            "30      NILKAMAL\n",
            "31           OIL\n",
            "32         PIIND\n",
            "33           PVR\n",
            "34       RBLBANK\n",
            "35        RECLTD\n",
            "36       RAYMOND\n",
            "37        SANOFI\n",
            "38       SIEMENS\n",
            "39      SUMICHEM\n",
            "40        SUZLON\n",
            "41        TCIEXP\n",
            "42           UPL\n",
            "43        VARROC\n",
            "44        VOLTAS\n",
            "dtype: object\n"
          ],
          "name": "stdout"
        }
      ]
    },
    {
      "cell_type": "markdown",
      "metadata": {
        "id": "9ycjiz_voyJM"
      },
      "source": [
        "Stocks in common "
      ]
    },
    {
      "cell_type": "code",
      "metadata": {
        "id": "eJVbomMGpSI8"
      },
      "source": [
        "# rsi_scr = rsi_screen_stocks\n",
        "# ich_scr = ichimoku_screen_stocks\n",
        "# sw_scr = swing_screen_stocks\n",
        " \n",
        "# sto_rsi_swing = list(set(rsi_scr).intersection(sw_scr))\n",
        "# print(f'Common stocks from RSI screener & Swing High Break screener: ', sto_rsi_swing)\n",
        " \n",
        "# sto_ich_swing = list(set(ich_scr).intersection(sw_scr))\n",
        "# print(f'Common stocks from Ichimoku screener & Swing High Break screener: ', sto_ich_swing)"
      ],
      "execution_count": 12,
      "outputs": []
    },
    {
      "cell_type": "markdown",
      "metadata": {
        "id": "KzduQaV-pWeL"
      },
      "source": [
        "4th Screener: Swing High Break && Ichimoku (Daily/Weekly Senkou A) > (Daily/Weekly Senkou B)"
      ]
    },
    {
      "cell_type": "code",
      "metadata": {
        "id": "1pAb4xH5ptrk"
      },
      "source": [
        "# sw_ich_screen_stocks = []\n",
        "# for symbol in nifty_500_symbols:\n",
        "#     temp_d = df_ichimoku_d.loc[df_ichimoku_d['SYMBOL']==symbol]\n",
        "#     temp_w = df_ichimoku_w.loc[df_ichimoku_w['SYMBOL']==symbol]\n",
        "#     temp_sw_d = df_swing.loc[df_swing['SYMBOL']==symbol]\n",
        " \n",
        "#     temp_d.sort_values(by='TIMESTAMP', inplace=True)\n",
        "#     temp_w.sort_values(by='TIMESTAMP', inplace=True)\n",
        "#     temp_sw_d.sort_values(by='TIMESTAMP', inplace=True)\n",
        " \n",
        "#     temp_d.reset_index(drop=True, inplace=True)\n",
        "#     temp_w.reset_index(drop=True, inplace=True)\n",
        "#     temp_sw_d.reset_index(drop=True, inplace=True)\n",
        " \n",
        "#     if (temp_d.iat[-1, 9] > temp_d.iat[-1, 10]) & (temp_w.iat[-1,9]>temp_w.iat[-1,10]) & (temp_sw_d.iat[-1, 5] >= temp_sw_d.iat[-1, 7]) & (temp_sw_d.iat[-2, 5] < temp_sw_d.iat[-2, 7]):\n",
        "#         sw_ich_screen_stocks.append(symbol)\n",
        "#     else:\n",
        "#         pass\n",
        "# print (pd.Series(sw_ich_screen_stocks))"
      ],
      "execution_count": 13,
      "outputs": []
    },
    {
      "cell_type": "code",
      "metadata": {
        "colab": {
          "base_uri": "https://localhost:8080/"
        },
        "id": "CAl3VaYmzrVE",
        "outputId": "9de8557b-a741-48d3-f816-1b6c22782bfe"
      },
      "source": [
        "print ('RSI Screener Stocks: ')\n",
        "print (rsi_screen_stocks)\n",
        "print ('------')\n",
        "print ('ICHIMOKU Screener Stocks:')\n",
        "print (pd.Series(ichimoku_screen_stocks))\n",
        "print ('------')\n",
        "print ('Swing High break screener stocks:')\n",
        "print (pd.Series(swing_screen_stocks))\n",
        "# print ('------')\n",
        "# print ('Swing High Break && Ichimoku (Daily/Weekly Senkou A > Senkou B: ')\n",
        "# print (pd.Series(sw_ich_screen_stocks))\n",
        "# print ('------')"
      ],
      "execution_count": 14,
      "outputs": [
        {
          "output_type": "stream",
          "text": [
            "RSI Screener Stocks: \n",
            "['GUJGASLTD', 'SOBHA', 'TATACONSUM', 'VOLTAS', 'ECLERX']\n",
            "------\n",
            "ICHIMOKU Screener Stocks:\n",
            "0     ADANIPORTS\n",
            "1     APOLLOTYRE\n",
            "2        DCBBANK\n",
            "3       EXIDEIND\n",
            "4      GUJGASLTD\n",
            "5        HDFCAMC\n",
            "6     IDFCFIRSTB\n",
            "7            IRB\n",
            "8       JUSTDIAL\n",
            "9     KAJARIACER\n",
            "10    NAVNETEDUL\n",
            "11    SUNDARMFIN\n",
            "12        VOLTAS\n",
            "dtype: object\n",
            "------\n",
            "Swing High break screener stocks:\n",
            "0         AUBANK\n",
            "1      AEGISCHEM\n",
            "2     APOLLOTYRE\n",
            "3     BAJAJ-AUTO\n",
            "4     BAJFINANCE\n",
            "5     BALKRISIND\n",
            "6       MAHABANK\n",
            "7     BHARATFORG\n",
            "8         BIOCON\n",
            "9         CRISIL\n",
            "10         CANBK\n",
            "11     CENTRALBK\n",
            "12         CIPLA\n",
            "13    LALPATHLAB\n",
            "14      EMAMILTD\n",
            "15           FSL\n",
            "16        GESHIP\n",
            "17      HDFCLIFE\n",
            "18    ICICIPRULI\n",
            "19    IDFCFIRSTB\n",
            "20           IOB\n",
            "21    INDUSINDBK\n",
            "22    JBCHEPHARM\n",
            "23           KEI\n",
            "24    KAJARIACER\n",
            "25         LUPIN\n",
            "26           MRF\n",
            "27        MAHLOG\n",
            "28        MARICO\n",
            "29    MOTHERSUMI\n",
            "30      NILKAMAL\n",
            "31           OIL\n",
            "32         PIIND\n",
            "33           PVR\n",
            "34       RBLBANK\n",
            "35        RECLTD\n",
            "36       RAYMOND\n",
            "37        SANOFI\n",
            "38       SIEMENS\n",
            "39      SUMICHEM\n",
            "40        SUZLON\n",
            "41        TCIEXP\n",
            "42           UPL\n",
            "43        VARROC\n",
            "44        VOLTAS\n",
            "dtype: object\n"
          ],
          "name": "stdout"
        }
      ]
    },
    {
      "cell_type": "markdown",
      "metadata": {
        "id": "LDaF7fw1fhwG"
      },
      "source": [
        "# WatchList & Calls"
      ]
    },
    {
      "cell_type": "markdown",
      "metadata": {
        "id": "YCT2OIwwUFO4"
      },
      "source": [
        "**Ichimoku Watchlist & Calls**\n",
        "\n",
        "\n",
        "\n",
        "1. Append the latest Ichimoku Screener stocks.\n",
        "2. Either weekly or Daily Senkou A less than Senkou B to be removed\n",
        "3. Swing High Break stocks to be copied to another file - \"Date_Ichimoku_SwingHighBreak.csv\"List item\n",
        "\n",
        "\n",
        "\n",
        "\n"
      ]
    },
    {
      "cell_type": "code",
      "metadata": {
        "id": "1M4lSSCMiEWo"
      },
      "source": [
        "# Loading the latest Ichimoku watchlist, calls, and expunged datasets for updation\n",
        "\n",
        "ich_watchlist = pd.read_csv('drive/MyDrive/trading/WatchList_Calls/Ichimoku/ichimoku_watchlist.csv',infer_datetime_format = True, parse_dates=['TIMESTAMP'], encoding='utf-8')\n",
        "ich_expunged = pd.read_csv('drive/MyDrive/trading/WatchList_Calls/Ichimoku/ichimoku_expunged_stocks.csv',infer_datetime_format = True, parse_dates=['TIMESTAMP'], encoding = 'utf-8')\n",
        "ich_calls = pd.read_csv('drive/MyDrive/trading/WatchList_Calls/Ichimoku/ichimoku_calls.csv',infer_datetime_format = True, parse_dates=['TIMESTAMP'], encoding = 'utf-8')\n"
      ],
      "execution_count": 15,
      "outputs": []
    },
    {
      "cell_type": "code",
      "metadata": {
        "colab": {
          "base_uri": "https://localhost:8080/",
          "height": 204
        },
        "id": "NDgP20hiwehK",
        "outputId": "bc40daad-febd-49f0-8a7b-973e92c16523"
      },
      "source": [
        "# Today's Ichimoku Screener stocks as a dataframe\n",
        "output = pd.DataFrame(columns = ['TIMESTAMP', 'SYMBOL'])\n",
        "output['SYMBOL'] = pd.Series(ichimoku_screen_stocks)\n",
        "output['TIMESTAMP'] = df_ichimoku_d['TIMESTAMP'].max()\n",
        "output.head()"
      ],
      "execution_count": 16,
      "outputs": [
        {
          "output_type": "execute_result",
          "data": {
            "text/html": [
              "<div>\n",
              "<style scoped>\n",
              "    .dataframe tbody tr th:only-of-type {\n",
              "        vertical-align: middle;\n",
              "    }\n",
              "\n",
              "    .dataframe tbody tr th {\n",
              "        vertical-align: top;\n",
              "    }\n",
              "\n",
              "    .dataframe thead th {\n",
              "        text-align: right;\n",
              "    }\n",
              "</style>\n",
              "<table border=\"1\" class=\"dataframe\">\n",
              "  <thead>\n",
              "    <tr style=\"text-align: right;\">\n",
              "      <th></th>\n",
              "      <th>TIMESTAMP</th>\n",
              "      <th>SYMBOL</th>\n",
              "    </tr>\n",
              "  </thead>\n",
              "  <tbody>\n",
              "    <tr>\n",
              "      <th>0</th>\n",
              "      <td>2021-06-02</td>\n",
              "      <td>ADANIPORTS</td>\n",
              "    </tr>\n",
              "    <tr>\n",
              "      <th>1</th>\n",
              "      <td>2021-06-02</td>\n",
              "      <td>APOLLOTYRE</td>\n",
              "    </tr>\n",
              "    <tr>\n",
              "      <th>2</th>\n",
              "      <td>2021-06-02</td>\n",
              "      <td>DCBBANK</td>\n",
              "    </tr>\n",
              "    <tr>\n",
              "      <th>3</th>\n",
              "      <td>2021-06-02</td>\n",
              "      <td>EXIDEIND</td>\n",
              "    </tr>\n",
              "    <tr>\n",
              "      <th>4</th>\n",
              "      <td>2021-06-02</td>\n",
              "      <td>GUJGASLTD</td>\n",
              "    </tr>\n",
              "  </tbody>\n",
              "</table>\n",
              "</div>"
            ],
            "text/plain": [
              "   TIMESTAMP      SYMBOL\n",
              "0 2021-06-02  ADANIPORTS\n",
              "1 2021-06-02  APOLLOTYRE\n",
              "2 2021-06-02     DCBBANK\n",
              "3 2021-06-02    EXIDEIND\n",
              "4 2021-06-02   GUJGASLTD"
            ]
          },
          "metadata": {
            "tags": []
          },
          "execution_count": 16
        }
      ]
    },
    {
      "cell_type": "code",
      "metadata": {
        "colab": {
          "base_uri": "https://localhost:8080/",
          "height": 359
        },
        "id": "9BhbnCAzidz1",
        "outputId": "9cb2c1af-6090-45f6-fb5a-bbe4ebaefa78"
      },
      "source": [
        "watchlist_upd = pd.concat([ich_watchlist, output])\n",
        "watchlist_upd.reset_index(drop=True,inplace=True)\n",
        "\n",
        "watchlist_upd.tail(10)\n",
        "# watchlist_upd = ich_watchlist.copy()"
      ],
      "execution_count": 17,
      "outputs": [
        {
          "output_type": "execute_result",
          "data": {
            "text/html": [
              "<div>\n",
              "<style scoped>\n",
              "    .dataframe tbody tr th:only-of-type {\n",
              "        vertical-align: middle;\n",
              "    }\n",
              "\n",
              "    .dataframe tbody tr th {\n",
              "        vertical-align: top;\n",
              "    }\n",
              "\n",
              "    .dataframe thead th {\n",
              "        text-align: right;\n",
              "    }\n",
              "</style>\n",
              "<table border=\"1\" class=\"dataframe\">\n",
              "  <thead>\n",
              "    <tr style=\"text-align: right;\">\n",
              "      <th></th>\n",
              "      <th>TIMESTAMP</th>\n",
              "      <th>SYMBOL</th>\n",
              "    </tr>\n",
              "  </thead>\n",
              "  <tbody>\n",
              "    <tr>\n",
              "      <th>88</th>\n",
              "      <td>2021-06-02</td>\n",
              "      <td>EXIDEIND</td>\n",
              "    </tr>\n",
              "    <tr>\n",
              "      <th>89</th>\n",
              "      <td>2021-06-02</td>\n",
              "      <td>GUJGASLTD</td>\n",
              "    </tr>\n",
              "    <tr>\n",
              "      <th>90</th>\n",
              "      <td>2021-06-02</td>\n",
              "      <td>HDFCAMC</td>\n",
              "    </tr>\n",
              "    <tr>\n",
              "      <th>91</th>\n",
              "      <td>2021-06-02</td>\n",
              "      <td>IDFCFIRSTB</td>\n",
              "    </tr>\n",
              "    <tr>\n",
              "      <th>92</th>\n",
              "      <td>2021-06-02</td>\n",
              "      <td>IRB</td>\n",
              "    </tr>\n",
              "    <tr>\n",
              "      <th>93</th>\n",
              "      <td>2021-06-02</td>\n",
              "      <td>JUSTDIAL</td>\n",
              "    </tr>\n",
              "    <tr>\n",
              "      <th>94</th>\n",
              "      <td>2021-06-02</td>\n",
              "      <td>KAJARIACER</td>\n",
              "    </tr>\n",
              "    <tr>\n",
              "      <th>95</th>\n",
              "      <td>2021-06-02</td>\n",
              "      <td>NAVNETEDUL</td>\n",
              "    </tr>\n",
              "    <tr>\n",
              "      <th>96</th>\n",
              "      <td>2021-06-02</td>\n",
              "      <td>SUNDARMFIN</td>\n",
              "    </tr>\n",
              "    <tr>\n",
              "      <th>97</th>\n",
              "      <td>2021-06-02</td>\n",
              "      <td>VOLTAS</td>\n",
              "    </tr>\n",
              "  </tbody>\n",
              "</table>\n",
              "</div>"
            ],
            "text/plain": [
              "    TIMESTAMP      SYMBOL\n",
              "88 2021-06-02    EXIDEIND\n",
              "89 2021-06-02   GUJGASLTD\n",
              "90 2021-06-02     HDFCAMC\n",
              "91 2021-06-02  IDFCFIRSTB\n",
              "92 2021-06-02         IRB\n",
              "93 2021-06-02    JUSTDIAL\n",
              "94 2021-06-02  KAJARIACER\n",
              "95 2021-06-02  NAVNETEDUL\n",
              "96 2021-06-02  SUNDARMFIN\n",
              "97 2021-06-02      VOLTAS"
            ]
          },
          "metadata": {
            "tags": []
          },
          "execution_count": 17
        }
      ]
    },
    {
      "cell_type": "code",
      "metadata": {
        "colab": {
          "base_uri": "https://localhost:8080/"
        },
        "id": "gR6yBCeKW_vN",
        "outputId": "3bca3f9a-709a-4b53-865c-cb9cdffe3688"
      },
      "source": [
        "ichimoku_rm_from_watchlist = []\n",
        "ichimoku_swingHigh_break = []\n",
        "for symbol in np.array(watchlist_upd['SYMBOL']):\n",
        "    temp_d = df_ichimoku_d.loc[df_ichimoku_d['SYMBOL']==symbol]\n",
        "    temp_d.sort_values(by='TIMESTAMP',inplace=True)\n",
        "    temp_d.reset_index(drop=True,inplace=True)\n",
        "\n",
        "    temp_w = df_ichimoku_w.loc[df_ichimoku_w['SYMBOL']==symbol]\n",
        "    temp_w.sort_values(by='TIMESTAMP',inplace=True)\n",
        "    temp_w.reset_index(drop=True,inplace=True)\n",
        "    \n",
        "    temp_sw_d = df_swing.loc[df_swing['SYMBOL']==symbol]\n",
        "    temp_sw_d.sort_values(by='TIMESTAMP', inplace=True)\n",
        "    temp_sw_d.reset_index(drop=True, inplace=True)\n",
        "\n",
        "    if (temp_d.iat[-1, 9] < temp_d.iat[-1, 10]) or (temp_w.iat[-1,9] < temp_w.iat[-1,10]):\n",
        "        ichimoku_rm_from_watchlist.append(symbol)\n",
        "    else:\n",
        "        pass\n",
        "    if (temp_sw_d.iat[-1, 5] >= temp_sw_d.iat[-1, 7]) & (temp_sw_d.iat[-2, 5] < temp_sw_d.iat[-2, 7]):\n",
        "        ichimoku_swingHigh_break.append(symbol)\n",
        "    else:\n",
        "        pass\n",
        "\n",
        "\n",
        "print ('Stocks removed from Ichimoku Watchlist: ', ichimoku_rm_from_watchlist)\n",
        "print ('Stocks identified as Ichimoku calls: ', ichimoku_swingHigh_break)"
      ],
      "execution_count": 18,
      "outputs": [
        {
          "output_type": "stream",
          "text": [
            "Stocks removed from Ichimoku Watchlist:  []\n",
            "Stocks identified as Ichimoku calls:  ['BALKRISIND', 'SUZLON', 'IOB', 'CRISIL', 'CENTRALBK', 'INDUSINDBK', 'RAYMOND', 'APOLLOTYRE', 'IDFCFIRSTB', 'KAJARIACER', 'VOLTAS']\n"
          ],
          "name": "stdout"
        }
      ]
    },
    {
      "cell_type": "code",
      "metadata": {
        "colab": {
          "base_uri": "https://localhost:8080/"
        },
        "id": "bOm0yApMOkfz",
        "outputId": "325c287c-09c2-4d2f-ad0d-cca9ba22a75d"
      },
      "source": [
        "ichimoku_swingHigh_break"
      ],
      "execution_count": 19,
      "outputs": [
        {
          "output_type": "execute_result",
          "data": {
            "text/plain": [
              "['BALKRISIND',\n",
              " 'SUZLON',\n",
              " 'IOB',\n",
              " 'CRISIL',\n",
              " 'CENTRALBK',\n",
              " 'INDUSINDBK',\n",
              " 'RAYMOND',\n",
              " 'APOLLOTYRE',\n",
              " 'IDFCFIRSTB',\n",
              " 'KAJARIACER',\n",
              " 'VOLTAS']"
            ]
          },
          "metadata": {
            "tags": []
          },
          "execution_count": 19
        }
      ]
    },
    {
      "cell_type": "code",
      "metadata": {
        "id": "9v3t5E-9j4ha",
        "colab": {
          "base_uri": "https://localhost:8080/"
        },
        "outputId": "e90d296c-6168-4e72-d946-cfc3ef0ac938"
      },
      "source": [
        "# Updating the Ichimoku Watchlist\n",
        "watchlist_final = watchlist_upd[~watchlist_upd.SYMBOL.isin(ichimoku_rm_from_watchlist)]\n",
        "watchlist_final = watchlist_final[~watchlist_final.SYMBOL.isin(ichimoku_swingHigh_break)]\n",
        "watchlist_final.drop_duplicates(inplace=True)\n",
        "watchlist_final.to_csv('drive/MyDrive/trading/WatchList_Calls/Ichimoku/ichimoku_watchlist.csv', index=False, encoding = 'utf-8')\n",
        "\n",
        "# List of stocks expelled from the watchlist because of the Rule 1 break (Daily interval Senkou A < Senkou B (or) Weekly interval Senkou A < Senkou B )\n",
        "\n",
        "try:\n",
        "    expunged_records = watchlist_upd[watchlist_upd.SYMBOL.isin(ichimoku_rm_from_watchlist)]\n",
        "    ich_expunged_upd = pd.concat([ich_expunged,expunged_records]) \n",
        "    ich_expunged_upd.sort_values(by='TIMESTAMP', inplace = True)\n",
        "    ich_expunged_upd.drop_duplicates(inplace=True)\n",
        "    ich_expunged_upd.reset_index(drop=True,inplace=True)\n",
        "    ich_expunged_upd.to_csv('drive/MyDrive/trading/WatchList_Calls/Ichimoku/ichimoku_expunged_stocks.csv', index=False, encoding = 'utf-8')\n",
        "    print ('Expunged stocks stored in csv')\n",
        "\n",
        "    # Updating the Ichimoku Calls\n",
        "    i_calls = watchlist_upd[watchlist_upd.SYMBOL.isin(ichimoku_swingHigh_break)]\n",
        "    i_calls['TIMESTAMP'] = df_ichimoku_d['TIMESTAMP'].max()\n",
        "    ich_calls_upd = pd.concat([ich_calls,i_calls]) \n",
        "    ich_calls_upd.sort_values(by='TIMESTAMP', inplace = True)\n",
        "    ich_calls_upd.drop_duplicates(inplace=True)\n",
        "    ich_calls_upd.reset_index(drop=True,inplace=True)\n",
        "    ich_calls_upd.to_csv('drive/MyDrive/trading/WatchList_Calls/Ichimoku/ichimoku_calls.csv', index=False, encoding = 'utf-8')\n",
        "    print ('Ichimoku Calls stored in csv')\n",
        "\n",
        "except:\n",
        "    print ('Failed. Check the code and file path.')"
      ],
      "execution_count": 20,
      "outputs": [
        {
          "output_type": "stream",
          "text": [
            "Expunged stocks stored in csv\n",
            "Ichimoku Calls stored in csv\n"
          ],
          "name": "stdout"
        }
      ]
    },
    {
      "cell_type": "code",
      "metadata": {
        "colab": {
          "base_uri": "https://localhost:8080/",
          "height": 669
        },
        "id": "N5YiZujZQSGp",
        "outputId": "a1b1a98f-66a3-455a-9f20-8952ed9e0735"
      },
      "source": [
        "ich_calls_upd[-20:]"
      ],
      "execution_count": 21,
      "outputs": [
        {
          "output_type": "execute_result",
          "data": {
            "text/html": [
              "<div>\n",
              "<style scoped>\n",
              "    .dataframe tbody tr th:only-of-type {\n",
              "        vertical-align: middle;\n",
              "    }\n",
              "\n",
              "    .dataframe tbody tr th {\n",
              "        vertical-align: top;\n",
              "    }\n",
              "\n",
              "    .dataframe thead th {\n",
              "        text-align: right;\n",
              "    }\n",
              "</style>\n",
              "<table border=\"1\" class=\"dataframe\">\n",
              "  <thead>\n",
              "    <tr style=\"text-align: right;\">\n",
              "      <th></th>\n",
              "      <th>TIMESTAMP</th>\n",
              "      <th>SYMBOL</th>\n",
              "    </tr>\n",
              "  </thead>\n",
              "  <tbody>\n",
              "    <tr>\n",
              "      <th>142</th>\n",
              "      <td>2021-05-31</td>\n",
              "      <td>SJVN</td>\n",
              "    </tr>\n",
              "    <tr>\n",
              "      <th>143</th>\n",
              "      <td>2021-05-31</td>\n",
              "      <td>MGL</td>\n",
              "    </tr>\n",
              "    <tr>\n",
              "      <th>144</th>\n",
              "      <td>2021-05-31</td>\n",
              "      <td>WELCORP</td>\n",
              "    </tr>\n",
              "    <tr>\n",
              "      <th>145</th>\n",
              "      <td>2021-05-31</td>\n",
              "      <td>TRENT</td>\n",
              "    </tr>\n",
              "    <tr>\n",
              "      <th>146</th>\n",
              "      <td>2021-05-31</td>\n",
              "      <td>VRLLOG</td>\n",
              "    </tr>\n",
              "    <tr>\n",
              "      <th>147</th>\n",
              "      <td>2021-06-01</td>\n",
              "      <td>HDFC</td>\n",
              "    </tr>\n",
              "    <tr>\n",
              "      <th>148</th>\n",
              "      <td>2021-06-01</td>\n",
              "      <td>ONGC</td>\n",
              "    </tr>\n",
              "    <tr>\n",
              "      <th>149</th>\n",
              "      <td>2021-06-01</td>\n",
              "      <td>NH</td>\n",
              "    </tr>\n",
              "    <tr>\n",
              "      <th>150</th>\n",
              "      <td>2021-06-01</td>\n",
              "      <td>VIPIND</td>\n",
              "    </tr>\n",
              "    <tr>\n",
              "      <th>151</th>\n",
              "      <td>2021-06-02</td>\n",
              "      <td>IDFCFIRSTB</td>\n",
              "    </tr>\n",
              "    <tr>\n",
              "      <th>152</th>\n",
              "      <td>2021-06-02</td>\n",
              "      <td>APOLLOTYRE</td>\n",
              "    </tr>\n",
              "    <tr>\n",
              "      <th>153</th>\n",
              "      <td>2021-06-02</td>\n",
              "      <td>RAYMOND</td>\n",
              "    </tr>\n",
              "    <tr>\n",
              "      <th>154</th>\n",
              "      <td>2021-06-02</td>\n",
              "      <td>INDUSINDBK</td>\n",
              "    </tr>\n",
              "    <tr>\n",
              "      <th>155</th>\n",
              "      <td>2021-06-02</td>\n",
              "      <td>SUZLON</td>\n",
              "    </tr>\n",
              "    <tr>\n",
              "      <th>156</th>\n",
              "      <td>2021-06-02</td>\n",
              "      <td>CRISIL</td>\n",
              "    </tr>\n",
              "    <tr>\n",
              "      <th>157</th>\n",
              "      <td>2021-06-02</td>\n",
              "      <td>IOB</td>\n",
              "    </tr>\n",
              "    <tr>\n",
              "      <th>158</th>\n",
              "      <td>2021-06-02</td>\n",
              "      <td>BALKRISIND</td>\n",
              "    </tr>\n",
              "    <tr>\n",
              "      <th>159</th>\n",
              "      <td>2021-06-02</td>\n",
              "      <td>KAJARIACER</td>\n",
              "    </tr>\n",
              "    <tr>\n",
              "      <th>160</th>\n",
              "      <td>2021-06-02</td>\n",
              "      <td>CENTRALBK</td>\n",
              "    </tr>\n",
              "    <tr>\n",
              "      <th>161</th>\n",
              "      <td>2021-06-02</td>\n",
              "      <td>VOLTAS</td>\n",
              "    </tr>\n",
              "  </tbody>\n",
              "</table>\n",
              "</div>"
            ],
            "text/plain": [
              "     TIMESTAMP      SYMBOL\n",
              "142 2021-05-31        SJVN\n",
              "143 2021-05-31         MGL\n",
              "144 2021-05-31     WELCORP\n",
              "145 2021-05-31       TRENT\n",
              "146 2021-05-31      VRLLOG\n",
              "147 2021-06-01        HDFC\n",
              "148 2021-06-01        ONGC\n",
              "149 2021-06-01          NH\n",
              "150 2021-06-01      VIPIND\n",
              "151 2021-06-02  IDFCFIRSTB\n",
              "152 2021-06-02  APOLLOTYRE\n",
              "153 2021-06-02     RAYMOND\n",
              "154 2021-06-02  INDUSINDBK\n",
              "155 2021-06-02      SUZLON\n",
              "156 2021-06-02      CRISIL\n",
              "157 2021-06-02         IOB\n",
              "158 2021-06-02  BALKRISIND\n",
              "159 2021-06-02  KAJARIACER\n",
              "160 2021-06-02   CENTRALBK\n",
              "161 2021-06-02      VOLTAS"
            ]
          },
          "metadata": {
            "tags": []
          },
          "execution_count": 21
        }
      ]
    },
    {
      "cell_type": "markdown",
      "metadata": {
        "id": "X_QZD4UzuOuB"
      },
      "source": [
        "**RSI Watchlist & Calls** "
      ]
    },
    {
      "cell_type": "code",
      "metadata": {
        "id": "GpVUKqwAW3d7"
      },
      "source": [
        "rsi_watchlist = pd.read_csv('drive/MyDrive/trading/WatchList_Calls/RSI/rsi_watchlist.csv',infer_datetime_format = True, parse_dates=['TIMESTAMP'], encoding = 'utf-8')\n",
        "rsi_expunged = pd.read_csv('drive/MyDrive/trading/WatchList_Calls/RSI/rsi_expunged_stocks.csv',infer_datetime_format = True, parse_dates=['TIMESTAMP'], encoding = 'utf-8')\n",
        "rsi_calls = pd.read_csv('drive/MyDrive/trading/WatchList_Calls/RSI/rsi_calls.csv',infer_datetime_format = True, parse_dates=['TIMESTAMP'], encoding = 'utf-8')\n"
      ],
      "execution_count": 22,
      "outputs": []
    },
    {
      "cell_type": "code",
      "metadata": {
        "colab": {
          "base_uri": "https://localhost:8080/",
          "height": 235
        },
        "id": "-D1RemaAsRae",
        "outputId": "1c6250ca-cfbe-4b92-a9b3-58b458efa11b"
      },
      "source": [
        "rsi_watchlist"
      ],
      "execution_count": 23,
      "outputs": [
        {
          "output_type": "execute_result",
          "data": {
            "text/html": [
              "<div>\n",
              "<style scoped>\n",
              "    .dataframe tbody tr th:only-of-type {\n",
              "        vertical-align: middle;\n",
              "    }\n",
              "\n",
              "    .dataframe tbody tr th {\n",
              "        vertical-align: top;\n",
              "    }\n",
              "\n",
              "    .dataframe thead th {\n",
              "        text-align: right;\n",
              "    }\n",
              "</style>\n",
              "<table border=\"1\" class=\"dataframe\">\n",
              "  <thead>\n",
              "    <tr style=\"text-align: right;\">\n",
              "      <th></th>\n",
              "      <th>TIMESTAMP</th>\n",
              "      <th>SYMBOL</th>\n",
              "    </tr>\n",
              "  </thead>\n",
              "  <tbody>\n",
              "    <tr>\n",
              "      <th>0</th>\n",
              "      <td>2021-05-12</td>\n",
              "      <td>CHAMBLFERT</td>\n",
              "    </tr>\n",
              "    <tr>\n",
              "      <th>1</th>\n",
              "      <td>2021-05-18</td>\n",
              "      <td>BSOFT</td>\n",
              "    </tr>\n",
              "    <tr>\n",
              "      <th>2</th>\n",
              "      <td>2021-05-19</td>\n",
              "      <td>JKLAKSHMI</td>\n",
              "    </tr>\n",
              "    <tr>\n",
              "      <th>3</th>\n",
              "      <td>2021-05-24</td>\n",
              "      <td>SOLARINDS</td>\n",
              "    </tr>\n",
              "    <tr>\n",
              "      <th>4</th>\n",
              "      <td>2021-05-28</td>\n",
              "      <td>JUSTDIAL</td>\n",
              "    </tr>\n",
              "    <tr>\n",
              "      <th>5</th>\n",
              "      <td>2021-05-28</td>\n",
              "      <td>SRF</td>\n",
              "    </tr>\n",
              "  </tbody>\n",
              "</table>\n",
              "</div>"
            ],
            "text/plain": [
              "   TIMESTAMP      SYMBOL\n",
              "0 2021-05-12  CHAMBLFERT\n",
              "1 2021-05-18       BSOFT\n",
              "2 2021-05-19   JKLAKSHMI\n",
              "3 2021-05-24   SOLARINDS\n",
              "4 2021-05-28    JUSTDIAL\n",
              "5 2021-05-28         SRF"
            ]
          },
          "metadata": {
            "tags": []
          },
          "execution_count": 23
        }
      ]
    },
    {
      "cell_type": "markdown",
      "metadata": {
        "id": "ILkDSvdsl1WH"
      },
      "source": [
        "Adding RSI screened stocks to the RSI Watchlist"
      ]
    },
    {
      "cell_type": "code",
      "metadata": {
        "colab": {
          "base_uri": "https://localhost:8080/",
          "height": 390
        },
        "id": "Pkp50yg1HEwH",
        "outputId": "3728d288-322c-47d5-9dc4-3be6db12ba1f"
      },
      "source": [
        "rsi_temp = pd.DataFrame(columns = ['TIMESTAMP', 'SYMBOL'])\n",
        "rsi_temp['SYMBOL'] = pd.Series(rsi_screen_stocks)\n",
        "rsi_temp['TIMESTAMP'] = df['TIMESTAMP'].max()\n",
        "# rsi_temp.head()\n",
        "\n",
        "rsi_watchlist_upd = pd.concat([rsi_watchlist, rsi_temp])\n",
        "rsi_watchlist_upd.drop_duplicates(inplace=True)\n",
        "rsi_watchlist_upd.reset_index(drop=True,inplace=True)\n",
        "\n",
        "rsi_watchlist_upd"
      ],
      "execution_count": 24,
      "outputs": [
        {
          "output_type": "execute_result",
          "data": {
            "text/html": [
              "<div>\n",
              "<style scoped>\n",
              "    .dataframe tbody tr th:only-of-type {\n",
              "        vertical-align: middle;\n",
              "    }\n",
              "\n",
              "    .dataframe tbody tr th {\n",
              "        vertical-align: top;\n",
              "    }\n",
              "\n",
              "    .dataframe thead th {\n",
              "        text-align: right;\n",
              "    }\n",
              "</style>\n",
              "<table border=\"1\" class=\"dataframe\">\n",
              "  <thead>\n",
              "    <tr style=\"text-align: right;\">\n",
              "      <th></th>\n",
              "      <th>TIMESTAMP</th>\n",
              "      <th>SYMBOL</th>\n",
              "    </tr>\n",
              "  </thead>\n",
              "  <tbody>\n",
              "    <tr>\n",
              "      <th>0</th>\n",
              "      <td>2021-05-12</td>\n",
              "      <td>CHAMBLFERT</td>\n",
              "    </tr>\n",
              "    <tr>\n",
              "      <th>1</th>\n",
              "      <td>2021-05-18</td>\n",
              "      <td>BSOFT</td>\n",
              "    </tr>\n",
              "    <tr>\n",
              "      <th>2</th>\n",
              "      <td>2021-05-19</td>\n",
              "      <td>JKLAKSHMI</td>\n",
              "    </tr>\n",
              "    <tr>\n",
              "      <th>3</th>\n",
              "      <td>2021-05-24</td>\n",
              "      <td>SOLARINDS</td>\n",
              "    </tr>\n",
              "    <tr>\n",
              "      <th>4</th>\n",
              "      <td>2021-05-28</td>\n",
              "      <td>JUSTDIAL</td>\n",
              "    </tr>\n",
              "    <tr>\n",
              "      <th>5</th>\n",
              "      <td>2021-05-28</td>\n",
              "      <td>SRF</td>\n",
              "    </tr>\n",
              "    <tr>\n",
              "      <th>6</th>\n",
              "      <td>2021-06-02</td>\n",
              "      <td>GUJGASLTD</td>\n",
              "    </tr>\n",
              "    <tr>\n",
              "      <th>7</th>\n",
              "      <td>2021-06-02</td>\n",
              "      <td>SOBHA</td>\n",
              "    </tr>\n",
              "    <tr>\n",
              "      <th>8</th>\n",
              "      <td>2021-06-02</td>\n",
              "      <td>TATACONSUM</td>\n",
              "    </tr>\n",
              "    <tr>\n",
              "      <th>9</th>\n",
              "      <td>2021-06-02</td>\n",
              "      <td>VOLTAS</td>\n",
              "    </tr>\n",
              "    <tr>\n",
              "      <th>10</th>\n",
              "      <td>2021-06-02</td>\n",
              "      <td>ECLERX</td>\n",
              "    </tr>\n",
              "  </tbody>\n",
              "</table>\n",
              "</div>"
            ],
            "text/plain": [
              "    TIMESTAMP      SYMBOL\n",
              "0  2021-05-12  CHAMBLFERT\n",
              "1  2021-05-18       BSOFT\n",
              "2  2021-05-19   JKLAKSHMI\n",
              "3  2021-05-24   SOLARINDS\n",
              "4  2021-05-28    JUSTDIAL\n",
              "5  2021-05-28         SRF\n",
              "6  2021-06-02   GUJGASLTD\n",
              "7  2021-06-02       SOBHA\n",
              "8  2021-06-02  TATACONSUM\n",
              "9  2021-06-02      VOLTAS\n",
              "10 2021-06-02      ECLERX"
            ]
          },
          "metadata": {
            "tags": []
          },
          "execution_count": 24
        }
      ]
    },
    {
      "cell_type": "code",
      "metadata": {
        "id": "Le8CdrnU4rFo"
      },
      "source": [
        ""
      ],
      "execution_count": 24,
      "outputs": []
    },
    {
      "cell_type": "code",
      "metadata": {
        "colab": {
          "base_uri": "https://localhost:8080/"
        },
        "id": "msFOYhEb0wsX",
        "outputId": "84c88344-6941-4100-bdfb-5b5d9135c287"
      },
      "source": [
        "np.array(rsi_watchlist_upd['SYMBOL'])"
      ],
      "execution_count": 25,
      "outputs": [
        {
          "output_type": "execute_result",
          "data": {
            "text/plain": [
              "array(['CHAMBLFERT', 'BSOFT', 'JKLAKSHMI', 'SOLARINDS', 'JUSTDIAL', 'SRF',\n",
              "       'GUJGASLTD', 'SOBHA', 'TATACONSUM', 'VOLTAS', 'ECLERX'],\n",
              "      dtype=object)"
            ]
          },
          "metadata": {
            "tags": []
          },
          "execution_count": 25
        }
      ]
    },
    {
      "cell_type": "code",
      "metadata": {
        "id": "T4FQcxSQjx6f",
        "colab": {
          "base_uri": "https://localhost:8080/"
        },
        "outputId": "aaed12c8-88ed-4f53-c0ac-3f4f253e991e"
      },
      "source": [
        "rsi_rm_from_watchlist = []\n",
        "rsi_swingHigh_break = []\n",
        "for symbol in np.array(rsi_watchlist_upd['SYMBOL']):\n",
        "    \n",
        "    temp_d = df.loc[df['SYMBOL']==symbol]\n",
        "    temp_d.sort_values(by='TIMESTAMP',inplace=True)\n",
        "    temp_d.reset_index(drop=True,inplace=True)\n",
        "\n",
        "    temp_w = df_w.loc[df_w['SYMBOL']==symbol]\n",
        "    temp_w.sort_values(by='TIMESTAMP',inplace=True)\n",
        "    temp_w.reset_index(drop=True,inplace=True)\n",
        "\n",
        "    temp_m = df_m.loc[df_m['SYMBOL']==symbol]\n",
        "    temp_m.sort_values(by='TIMESTAMP',inplace=True)\n",
        "    temp_m.reset_index(drop=True,inplace=True)\n",
        "    \n",
        "    temp_sw_d = df_swing.loc[df_swing['SYMBOL']==symbol]\n",
        "    temp_sw_d.sort_values(by='TIMESTAMP', inplace=True)\n",
        "    temp_sw_d.reset_index(drop=True, inplace=True)\n",
        "    \n",
        "    \n",
        "\n",
        "\n",
        "    # ------\n",
        "    m_check = temp_m.loc[temp_m['SYMBOL']==symbol].iat[-1, 16]\n",
        "    w_check = temp_w.loc[temp_w['SYMBOL']==symbol].iat[-1, 16]\n",
        "    if temp_d.loc[temp_d['SYMBOL']==symbol]['RSI_EMA'][-15:-1].values.max() < 60:\n",
        "        d_last14days = 1\n",
        "    else:\n",
        "        d_last14days = 0\n",
        "    d_latestRSI = df.loc[df['SYMBOL']==symbol].iat[-1,16]\n",
        "    if ((m_check > 60) & (w_check > 60) & (d_last14days==1) & (d_latestRSI > 60)):\n",
        "        if (temp_sw_d.iat[-1, 5] >= temp_sw_d.iat[-1, 7]) & (temp_sw_d.iat[-2, 5] < temp_sw_d.iat[-2, 7]):\n",
        "            rsi_swingHigh_break.append(symbol)\n",
        "        else:\n",
        "            pass\n",
        "    elif ((m_check < 60) or (w_check < 60) or (d_latestRSI < 60)):\n",
        "        rsi_rm_from_watchlist.append(symbol)\n",
        "    else:\n",
        "        pass\n",
        "\n",
        "\n",
        "\n",
        "print ('Stocks to be removed from RSI Watchlist: ',rsi_rm_from_watchlist)\n",
        "print ('Stocks identified as RSI calls: ',rsi_swingHigh_break)"
      ],
      "execution_count": 26,
      "outputs": [
        {
          "output_type": "stream",
          "text": [
            "Stocks to be removed from RSI Watchlist:  []\n",
            "Stocks identified as RSI calls:  ['VOLTAS']\n"
          ],
          "name": "stdout"
        }
      ]
    },
    {
      "cell_type": "code",
      "metadata": {
        "colab": {
          "base_uri": "https://localhost:8080/"
        },
        "id": "jZstDy1Oy7ZS",
        "outputId": "c9fe921b-4d03-430b-feef-8835564d63b0"
      },
      "source": [
        "# Updating the RSI Watchlist\n",
        "rsi_watchlist_final = rsi_watchlist_upd[~rsi_watchlist_upd.SYMBOL.isin(rsi_rm_from_watchlist)]\n",
        "rsi_watchlist_final = rsi_watchlist_final[~rsi_watchlist_final.SYMBOL.isin(rsi_swingHigh_break)]\n",
        "rsi_watchlist_final.drop_duplicates(inplace=True)\n",
        "rsi_watchlist_final.to_csv('drive/MyDrive/trading/WatchList_Calls/RSI/rsi_watchlist.csv', index=False, encoding = 'utf-8')\n",
        "\n",
        "# List of stocks expelled from the watchlist because of the Rule 1 break (Weekly or Monthly or Daily RSI less than 60)\n",
        "\n",
        "try:\n",
        "    expunged_records = rsi_watchlist_upd[rsi_watchlist_upd.SYMBOL.isin(rsi_rm_from_watchlist)]\n",
        "    rsi_expunged_upd = pd.concat([rsi_expunged,expunged_records]) \n",
        "    rsi_expunged_upd.sort_values(by='TIMESTAMP', inplace = True)\n",
        "    rsi_expunged_upd.drop_duplicates(inplace=True)\n",
        "    rsi_expunged_upd.reset_index(drop=True,inplace=True)\n",
        "    rsi_expunged_upd.to_csv('drive/MyDrive/trading/WatchList_Calls/RSI/rsi_expunged_stocks.csv', index=False, encoding = 'utf-8')\n",
        "    print ('Expunged stocks stored in csv')\n",
        "\n",
        "    # Updating the RSI Calls\n",
        "    r_calls = rsi_watchlist_upd[rsi_watchlist_upd.SYMBOL.isin(rsi_swingHigh_break)]\n",
        "    r_calls['TIMESTAMP'] = df['TIMESTAMP'].max()\n",
        "    rsi_calls_upd = pd.concat([rsi_calls,r_calls]) \n",
        "    rsi_calls_upd.sort_values(by='TIMESTAMP', inplace = True)\n",
        "    rsi_calls_upd.drop_duplicates(inplace=True)\n",
        "    rsi_calls_upd.reset_index(drop=True,inplace=True)\n",
        "    rsi_calls_upd.to_csv('drive/MyDrive/trading/WatchList_Calls/RSI/rsi_calls.csv', index=False, encoding = 'utf-8')\n",
        "    print ('RSI Calls stored in csv')\n",
        "\n",
        "except:\n",
        "    print ('Failed. Check the code and file path.')"
      ],
      "execution_count": 27,
      "outputs": [
        {
          "output_type": "stream",
          "text": [
            "Expunged stocks stored in csv\n",
            "RSI Calls stored in csv\n"
          ],
          "name": "stdout"
        }
      ]
    },
    {
      "cell_type": "code",
      "metadata": {
        "id": "p9QRg_o6Xm7C",
        "colab": {
          "base_uri": "https://localhost:8080/",
          "height": 419
        },
        "outputId": "530664b0-3982-49dc-f44c-bb5cd9a6eda0"
      },
      "source": [
        "rsi_calls_upd"
      ],
      "execution_count": 28,
      "outputs": [
        {
          "output_type": "execute_result",
          "data": {
            "text/html": [
              "<div>\n",
              "<style scoped>\n",
              "    .dataframe tbody tr th:only-of-type {\n",
              "        vertical-align: middle;\n",
              "    }\n",
              "\n",
              "    .dataframe tbody tr th {\n",
              "        vertical-align: top;\n",
              "    }\n",
              "\n",
              "    .dataframe thead th {\n",
              "        text-align: right;\n",
              "    }\n",
              "</style>\n",
              "<table border=\"1\" class=\"dataframe\">\n",
              "  <thead>\n",
              "    <tr style=\"text-align: right;\">\n",
              "      <th></th>\n",
              "      <th>TIMESTAMP</th>\n",
              "      <th>SYMBOL</th>\n",
              "    </tr>\n",
              "  </thead>\n",
              "  <tbody>\n",
              "    <tr>\n",
              "      <th>0</th>\n",
              "      <td>2021-04-22</td>\n",
              "      <td>SUVENPHAR</td>\n",
              "    </tr>\n",
              "    <tr>\n",
              "      <th>1</th>\n",
              "      <td>2021-04-23</td>\n",
              "      <td>TTKPRESTIG</td>\n",
              "    </tr>\n",
              "    <tr>\n",
              "      <th>2</th>\n",
              "      <td>2021-04-27</td>\n",
              "      <td>SUDARSCHEM</td>\n",
              "    </tr>\n",
              "    <tr>\n",
              "      <th>3</th>\n",
              "      <td>2021-04-27</td>\n",
              "      <td>SUPREMEIND</td>\n",
              "    </tr>\n",
              "    <tr>\n",
              "      <th>4</th>\n",
              "      <td>2021-04-28</td>\n",
              "      <td>AEGISCHEM</td>\n",
              "    </tr>\n",
              "    <tr>\n",
              "      <th>...</th>\n",
              "      <td>...</td>\n",
              "      <td>...</td>\n",
              "    </tr>\n",
              "    <tr>\n",
              "      <th>56</th>\n",
              "      <td>2021-05-31</td>\n",
              "      <td>THYROCARE</td>\n",
              "    </tr>\n",
              "    <tr>\n",
              "      <th>57</th>\n",
              "      <td>2021-05-31</td>\n",
              "      <td>NAM-INDIA</td>\n",
              "    </tr>\n",
              "    <tr>\n",
              "      <th>58</th>\n",
              "      <td>2021-05-31</td>\n",
              "      <td>RATNAMANI</td>\n",
              "    </tr>\n",
              "    <tr>\n",
              "      <th>59</th>\n",
              "      <td>2021-06-01</td>\n",
              "      <td>ADANIPORTS</td>\n",
              "    </tr>\n",
              "    <tr>\n",
              "      <th>60</th>\n",
              "      <td>2021-06-02</td>\n",
              "      <td>VOLTAS</td>\n",
              "    </tr>\n",
              "  </tbody>\n",
              "</table>\n",
              "<p>61 rows × 2 columns</p>\n",
              "</div>"
            ],
            "text/plain": [
              "    TIMESTAMP      SYMBOL\n",
              "0  2021-04-22   SUVENPHAR\n",
              "1  2021-04-23  TTKPRESTIG\n",
              "2  2021-04-27  SUDARSCHEM\n",
              "3  2021-04-27  SUPREMEIND\n",
              "4  2021-04-28   AEGISCHEM\n",
              "..        ...         ...\n",
              "56 2021-05-31   THYROCARE\n",
              "57 2021-05-31   NAM-INDIA\n",
              "58 2021-05-31   RATNAMANI\n",
              "59 2021-06-01  ADANIPORTS\n",
              "60 2021-06-02      VOLTAS\n",
              "\n",
              "[61 rows x 2 columns]"
            ]
          },
          "metadata": {
            "tags": []
          },
          "execution_count": 28
        }
      ]
    },
    {
      "cell_type": "markdown",
      "metadata": {
        "id": "fPs25k8ZWClm"
      },
      "source": [
        "---------------------------------------- End of Screener --------------------------"
      ]
    },
    {
      "cell_type": "markdown",
      "metadata": {
        "id": "fG1nOef6QObR"
      },
      "source": [
        "Calls - Analysis"
      ]
    },
    {
      "cell_type": "markdown",
      "metadata": {
        "id": "c3VJ5DM5V7lg"
      },
      "source": [
        "Loading the latest datasets"
      ]
    },
    {
      "cell_type": "code",
      "metadata": {
        "colab": {
          "base_uri": "https://localhost:8080/",
          "height": 359
        },
        "id": "-zSNM2byLSdQ",
        "outputId": "882564ef-324e-4eb2-f0a8-d6839c7cfa0f"
      },
      "source": [
        "ich_calls = pd.read_csv('drive/MyDrive/trading/WatchList_Calls/Ichimoku/ichimoku_calls.csv',infer_datetime_format = True, parse_dates=['TIMESTAMP'], encoding = 'utf-8')\n",
        "rsi_calls = pd.read_csv('drive/MyDrive/trading/WatchList_Calls/RSI/rsi_calls.csv',infer_datetime_format = True, parse_dates=['TIMESTAMP'], encoding = 'utf-8')\n",
        "df_swing = pd.read_csv('drive/MyDrive/trading/NseStocks_Masterfiles/master_df_swing.csv',infer_datetime_format = True, parse_dates=['TIMESTAMP'], encoding='utf-8')\n",
        "\n",
        "ich_calls[:10]"
      ],
      "execution_count": 29,
      "outputs": [
        {
          "output_type": "execute_result",
          "data": {
            "text/html": [
              "<div>\n",
              "<style scoped>\n",
              "    .dataframe tbody tr th:only-of-type {\n",
              "        vertical-align: middle;\n",
              "    }\n",
              "\n",
              "    .dataframe tbody tr th {\n",
              "        vertical-align: top;\n",
              "    }\n",
              "\n",
              "    .dataframe thead th {\n",
              "        text-align: right;\n",
              "    }\n",
              "</style>\n",
              "<table border=\"1\" class=\"dataframe\">\n",
              "  <thead>\n",
              "    <tr style=\"text-align: right;\">\n",
              "      <th></th>\n",
              "      <th>TIMESTAMP</th>\n",
              "      <th>SYMBOL</th>\n",
              "    </tr>\n",
              "  </thead>\n",
              "  <tbody>\n",
              "    <tr>\n",
              "      <th>0</th>\n",
              "      <td>2021-04-13</td>\n",
              "      <td>MARICO</td>\n",
              "    </tr>\n",
              "    <tr>\n",
              "      <th>1</th>\n",
              "      <td>2021-04-16</td>\n",
              "      <td>JSLHISAR</td>\n",
              "    </tr>\n",
              "    <tr>\n",
              "      <th>2</th>\n",
              "      <td>2021-04-16</td>\n",
              "      <td>WIPRO</td>\n",
              "    </tr>\n",
              "    <tr>\n",
              "      <th>3</th>\n",
              "      <td>2021-04-16</td>\n",
              "      <td>STAR</td>\n",
              "    </tr>\n",
              "    <tr>\n",
              "      <th>4</th>\n",
              "      <td>2021-04-16</td>\n",
              "      <td>AUROPHARMA</td>\n",
              "    </tr>\n",
              "    <tr>\n",
              "      <th>5</th>\n",
              "      <td>2021-04-16</td>\n",
              "      <td>KSCL</td>\n",
              "    </tr>\n",
              "    <tr>\n",
              "      <th>6</th>\n",
              "      <td>2021-04-16</td>\n",
              "      <td>SWARAJENG</td>\n",
              "    </tr>\n",
              "    <tr>\n",
              "      <th>7</th>\n",
              "      <td>2021-04-20</td>\n",
              "      <td>WOCKPHARMA</td>\n",
              "    </tr>\n",
              "    <tr>\n",
              "      <th>8</th>\n",
              "      <td>2021-04-20</td>\n",
              "      <td>ICICIPRULI</td>\n",
              "    </tr>\n",
              "    <tr>\n",
              "      <th>9</th>\n",
              "      <td>2021-04-20</td>\n",
              "      <td>DRREDDY</td>\n",
              "    </tr>\n",
              "  </tbody>\n",
              "</table>\n",
              "</div>"
            ],
            "text/plain": [
              "   TIMESTAMP      SYMBOL\n",
              "0 2021-04-13      MARICO\n",
              "1 2021-04-16    JSLHISAR\n",
              "2 2021-04-16       WIPRO\n",
              "3 2021-04-16        STAR\n",
              "4 2021-04-16  AUROPHARMA\n",
              "5 2021-04-16        KSCL\n",
              "6 2021-04-16   SWARAJENG\n",
              "7 2021-04-20  WOCKPHARMA\n",
              "8 2021-04-20  ICICIPRULI\n",
              "9 2021-04-20     DRREDDY"
            ]
          },
          "metadata": {
            "tags": []
          },
          "execution_count": 29
        }
      ]
    },
    {
      "cell_type": "code",
      "metadata": {
        "colab": {
          "base_uri": "https://localhost:8080/",
          "height": 204
        },
        "id": "pt0Zcr1pLgYg",
        "outputId": "07c9c68e-c459-4d2b-d3a2-80c2faeaf3b7"
      },
      "source": [
        "df_swing.tail()"
      ],
      "execution_count": 30,
      "outputs": [
        {
          "output_type": "execute_result",
          "data": {
            "text/html": [
              "<div>\n",
              "<style scoped>\n",
              "    .dataframe tbody tr th:only-of-type {\n",
              "        vertical-align: middle;\n",
              "    }\n",
              "\n",
              "    .dataframe tbody tr th {\n",
              "        vertical-align: top;\n",
              "    }\n",
              "\n",
              "    .dataframe thead th {\n",
              "        text-align: right;\n",
              "    }\n",
              "</style>\n",
              "<table border=\"1\" class=\"dataframe\">\n",
              "  <thead>\n",
              "    <tr style=\"text-align: right;\">\n",
              "      <th></th>\n",
              "      <th>SYMBOL</th>\n",
              "      <th>SERIES</th>\n",
              "      <th>OPEN</th>\n",
              "      <th>HIGH</th>\n",
              "      <th>LOW</th>\n",
              "      <th>CLOSE</th>\n",
              "      <th>TIMESTAMP</th>\n",
              "      <th>swing_high</th>\n",
              "      <th>swing_low</th>\n",
              "    </tr>\n",
              "  </thead>\n",
              "  <tbody>\n",
              "    <tr>\n",
              "      <th>292154</th>\n",
              "      <td>ECLERX</td>\n",
              "      <td>EQ</td>\n",
              "      <td>1100.0</td>\n",
              "      <td>1201.00</td>\n",
              "      <td>1099.00</td>\n",
              "      <td>1179.65</td>\n",
              "      <td>2021-05-27</td>\n",
              "      <td>1223.9</td>\n",
              "      <td>1099.0</td>\n",
              "    </tr>\n",
              "    <tr>\n",
              "      <th>292155</th>\n",
              "      <td>ECLERX</td>\n",
              "      <td>EQ</td>\n",
              "      <td>1200.0</td>\n",
              "      <td>1245.00</td>\n",
              "      <td>1180.05</td>\n",
              "      <td>1236.35</td>\n",
              "      <td>2021-05-28</td>\n",
              "      <td>1223.9</td>\n",
              "      <td>1099.0</td>\n",
              "    </tr>\n",
              "    <tr>\n",
              "      <th>292156</th>\n",
              "      <td>ECLERX</td>\n",
              "      <td>EQ</td>\n",
              "      <td>1247.7</td>\n",
              "      <td>1265.50</td>\n",
              "      <td>1226.20</td>\n",
              "      <td>1260.15</td>\n",
              "      <td>2021-05-31</td>\n",
              "      <td>1223.9</td>\n",
              "      <td>1099.0</td>\n",
              "    </tr>\n",
              "    <tr>\n",
              "      <th>292157</th>\n",
              "      <td>ECLERX</td>\n",
              "      <td>EQ</td>\n",
              "      <td>1260.5</td>\n",
              "      <td>1266.75</td>\n",
              "      <td>1231.05</td>\n",
              "      <td>1254.05</td>\n",
              "      <td>2021-06-01</td>\n",
              "      <td>1223.9</td>\n",
              "      <td>1099.0</td>\n",
              "    </tr>\n",
              "    <tr>\n",
              "      <th>292158</th>\n",
              "      <td>ECLERX</td>\n",
              "      <td>EQ</td>\n",
              "      <td>1250.0</td>\n",
              "      <td>1324.00</td>\n",
              "      <td>1242.00</td>\n",
              "      <td>1265.85</td>\n",
              "      <td>2021-06-02</td>\n",
              "      <td>1223.9</td>\n",
              "      <td>1099.0</td>\n",
              "    </tr>\n",
              "  </tbody>\n",
              "</table>\n",
              "</div>"
            ],
            "text/plain": [
              "        SYMBOL SERIES    OPEN  ...  TIMESTAMP  swing_high  swing_low\n",
              "292154  ECLERX     EQ  1100.0  ... 2021-05-27      1223.9     1099.0\n",
              "292155  ECLERX     EQ  1200.0  ... 2021-05-28      1223.9     1099.0\n",
              "292156  ECLERX     EQ  1247.7  ... 2021-05-31      1223.9     1099.0\n",
              "292157  ECLERX     EQ  1260.5  ... 2021-06-01      1223.9     1099.0\n",
              "292158  ECLERX     EQ  1250.0  ... 2021-06-02      1223.9     1099.0\n",
              "\n",
              "[5 rows x 9 columns]"
            ]
          },
          "metadata": {
            "tags": []
          },
          "execution_count": 30
        }
      ]
    },
    {
      "cell_type": "code",
      "metadata": {
        "colab": {
          "base_uri": "https://localhost:8080/",
          "height": 669
        },
        "id": "khkGOIYXdCFC",
        "outputId": "0c591fae-85f3-426b-c3f4-e8a6734e8b4e"
      },
      "source": [
        "ich_calls[-20:]"
      ],
      "execution_count": 31,
      "outputs": [
        {
          "output_type": "execute_result",
          "data": {
            "text/html": [
              "<div>\n",
              "<style scoped>\n",
              "    .dataframe tbody tr th:only-of-type {\n",
              "        vertical-align: middle;\n",
              "    }\n",
              "\n",
              "    .dataframe tbody tr th {\n",
              "        vertical-align: top;\n",
              "    }\n",
              "\n",
              "    .dataframe thead th {\n",
              "        text-align: right;\n",
              "    }\n",
              "</style>\n",
              "<table border=\"1\" class=\"dataframe\">\n",
              "  <thead>\n",
              "    <tr style=\"text-align: right;\">\n",
              "      <th></th>\n",
              "      <th>TIMESTAMP</th>\n",
              "      <th>SYMBOL</th>\n",
              "    </tr>\n",
              "  </thead>\n",
              "  <tbody>\n",
              "    <tr>\n",
              "      <th>142</th>\n",
              "      <td>2021-05-31</td>\n",
              "      <td>SJVN</td>\n",
              "    </tr>\n",
              "    <tr>\n",
              "      <th>143</th>\n",
              "      <td>2021-05-31</td>\n",
              "      <td>MGL</td>\n",
              "    </tr>\n",
              "    <tr>\n",
              "      <th>144</th>\n",
              "      <td>2021-05-31</td>\n",
              "      <td>WELCORP</td>\n",
              "    </tr>\n",
              "    <tr>\n",
              "      <th>145</th>\n",
              "      <td>2021-05-31</td>\n",
              "      <td>TRENT</td>\n",
              "    </tr>\n",
              "    <tr>\n",
              "      <th>146</th>\n",
              "      <td>2021-05-31</td>\n",
              "      <td>VRLLOG</td>\n",
              "    </tr>\n",
              "    <tr>\n",
              "      <th>147</th>\n",
              "      <td>2021-06-01</td>\n",
              "      <td>HDFC</td>\n",
              "    </tr>\n",
              "    <tr>\n",
              "      <th>148</th>\n",
              "      <td>2021-06-01</td>\n",
              "      <td>ONGC</td>\n",
              "    </tr>\n",
              "    <tr>\n",
              "      <th>149</th>\n",
              "      <td>2021-06-01</td>\n",
              "      <td>NH</td>\n",
              "    </tr>\n",
              "    <tr>\n",
              "      <th>150</th>\n",
              "      <td>2021-06-01</td>\n",
              "      <td>VIPIND</td>\n",
              "    </tr>\n",
              "    <tr>\n",
              "      <th>151</th>\n",
              "      <td>2021-06-02</td>\n",
              "      <td>IDFCFIRSTB</td>\n",
              "    </tr>\n",
              "    <tr>\n",
              "      <th>152</th>\n",
              "      <td>2021-06-02</td>\n",
              "      <td>APOLLOTYRE</td>\n",
              "    </tr>\n",
              "    <tr>\n",
              "      <th>153</th>\n",
              "      <td>2021-06-02</td>\n",
              "      <td>RAYMOND</td>\n",
              "    </tr>\n",
              "    <tr>\n",
              "      <th>154</th>\n",
              "      <td>2021-06-02</td>\n",
              "      <td>INDUSINDBK</td>\n",
              "    </tr>\n",
              "    <tr>\n",
              "      <th>155</th>\n",
              "      <td>2021-06-02</td>\n",
              "      <td>SUZLON</td>\n",
              "    </tr>\n",
              "    <tr>\n",
              "      <th>156</th>\n",
              "      <td>2021-06-02</td>\n",
              "      <td>CRISIL</td>\n",
              "    </tr>\n",
              "    <tr>\n",
              "      <th>157</th>\n",
              "      <td>2021-06-02</td>\n",
              "      <td>IOB</td>\n",
              "    </tr>\n",
              "    <tr>\n",
              "      <th>158</th>\n",
              "      <td>2021-06-02</td>\n",
              "      <td>BALKRISIND</td>\n",
              "    </tr>\n",
              "    <tr>\n",
              "      <th>159</th>\n",
              "      <td>2021-06-02</td>\n",
              "      <td>KAJARIACER</td>\n",
              "    </tr>\n",
              "    <tr>\n",
              "      <th>160</th>\n",
              "      <td>2021-06-02</td>\n",
              "      <td>CENTRALBK</td>\n",
              "    </tr>\n",
              "    <tr>\n",
              "      <th>161</th>\n",
              "      <td>2021-06-02</td>\n",
              "      <td>VOLTAS</td>\n",
              "    </tr>\n",
              "  </tbody>\n",
              "</table>\n",
              "</div>"
            ],
            "text/plain": [
              "     TIMESTAMP      SYMBOL\n",
              "142 2021-05-31        SJVN\n",
              "143 2021-05-31         MGL\n",
              "144 2021-05-31     WELCORP\n",
              "145 2021-05-31       TRENT\n",
              "146 2021-05-31      VRLLOG\n",
              "147 2021-06-01        HDFC\n",
              "148 2021-06-01        ONGC\n",
              "149 2021-06-01          NH\n",
              "150 2021-06-01      VIPIND\n",
              "151 2021-06-02  IDFCFIRSTB\n",
              "152 2021-06-02  APOLLOTYRE\n",
              "153 2021-06-02     RAYMOND\n",
              "154 2021-06-02  INDUSINDBK\n",
              "155 2021-06-02      SUZLON\n",
              "156 2021-06-02      CRISIL\n",
              "157 2021-06-02         IOB\n",
              "158 2021-06-02  BALKRISIND\n",
              "159 2021-06-02  KAJARIACER\n",
              "160 2021-06-02   CENTRALBK\n",
              "161 2021-06-02      VOLTAS"
            ]
          },
          "metadata": {
            "tags": []
          },
          "execution_count": 31
        }
      ]
    },
    {
      "cell_type": "code",
      "metadata": {
        "id": "shnP4bEFLmrC",
        "colab": {
          "base_uri": "https://localhost:8080/",
          "height": 359
        },
        "outputId": "495d4555-d667-4d5f-d8a2-f79292b1d19c"
      },
      "source": [
        "calls = ich_calls.copy()\n",
        "calls_j = pd.merge(calls, df_swing, on =['SYMBOL','TIMESTAMP'], how ='left')[['TIMESTAMP','SYMBOL','CLOSE']]\n",
        "calls_j[:10]"
      ],
      "execution_count": 32,
      "outputs": [
        {
          "output_type": "execute_result",
          "data": {
            "text/html": [
              "<div>\n",
              "<style scoped>\n",
              "    .dataframe tbody tr th:only-of-type {\n",
              "        vertical-align: middle;\n",
              "    }\n",
              "\n",
              "    .dataframe tbody tr th {\n",
              "        vertical-align: top;\n",
              "    }\n",
              "\n",
              "    .dataframe thead th {\n",
              "        text-align: right;\n",
              "    }\n",
              "</style>\n",
              "<table border=\"1\" class=\"dataframe\">\n",
              "  <thead>\n",
              "    <tr style=\"text-align: right;\">\n",
              "      <th></th>\n",
              "      <th>TIMESTAMP</th>\n",
              "      <th>SYMBOL</th>\n",
              "      <th>CLOSE</th>\n",
              "    </tr>\n",
              "  </thead>\n",
              "  <tbody>\n",
              "    <tr>\n",
              "      <th>0</th>\n",
              "      <td>2021-04-13</td>\n",
              "      <td>MARICO</td>\n",
              "      <td>421.30</td>\n",
              "    </tr>\n",
              "    <tr>\n",
              "      <th>1</th>\n",
              "      <td>2021-04-16</td>\n",
              "      <td>JSLHISAR</td>\n",
              "      <td>140.80</td>\n",
              "    </tr>\n",
              "    <tr>\n",
              "      <th>2</th>\n",
              "      <td>2021-04-16</td>\n",
              "      <td>WIPRO</td>\n",
              "      <td>469.20</td>\n",
              "    </tr>\n",
              "    <tr>\n",
              "      <th>3</th>\n",
              "      <td>2021-04-16</td>\n",
              "      <td>STAR</td>\n",
              "      <td>922.15</td>\n",
              "    </tr>\n",
              "    <tr>\n",
              "      <th>4</th>\n",
              "      <td>2021-04-16</td>\n",
              "      <td>AUROPHARMA</td>\n",
              "      <td>953.00</td>\n",
              "    </tr>\n",
              "    <tr>\n",
              "      <th>5</th>\n",
              "      <td>2021-04-16</td>\n",
              "      <td>KSCL</td>\n",
              "      <td>569.80</td>\n",
              "    </tr>\n",
              "    <tr>\n",
              "      <th>6</th>\n",
              "      <td>2021-04-16</td>\n",
              "      <td>SWARAJENG</td>\n",
              "      <td>1374.00</td>\n",
              "    </tr>\n",
              "    <tr>\n",
              "      <th>7</th>\n",
              "      <td>2021-04-20</td>\n",
              "      <td>WOCKPHARMA</td>\n",
              "      <td>506.25</td>\n",
              "    </tr>\n",
              "    <tr>\n",
              "      <th>8</th>\n",
              "      <td>2021-04-20</td>\n",
              "      <td>ICICIPRULI</td>\n",
              "      <td>477.95</td>\n",
              "    </tr>\n",
              "    <tr>\n",
              "      <th>9</th>\n",
              "      <td>2021-04-20</td>\n",
              "      <td>DRREDDY</td>\n",
              "      <td>5156.75</td>\n",
              "    </tr>\n",
              "  </tbody>\n",
              "</table>\n",
              "</div>"
            ],
            "text/plain": [
              "   TIMESTAMP      SYMBOL    CLOSE\n",
              "0 2021-04-13      MARICO   421.30\n",
              "1 2021-04-16    JSLHISAR   140.80\n",
              "2 2021-04-16       WIPRO   469.20\n",
              "3 2021-04-16        STAR   922.15\n",
              "4 2021-04-16  AUROPHARMA   953.00\n",
              "5 2021-04-16        KSCL   569.80\n",
              "6 2021-04-16   SWARAJENG  1374.00\n",
              "7 2021-04-20  WOCKPHARMA   506.25\n",
              "8 2021-04-20  ICICIPRULI   477.95\n",
              "9 2021-04-20     DRREDDY  5156.75"
            ]
          },
          "metadata": {
            "tags": []
          },
          "execution_count": 32
        }
      ]
    },
    {
      "cell_type": "code",
      "metadata": {
        "colab": {
          "base_uri": "https://localhost:8080/",
          "height": 421
        },
        "id": "V3JBC6f2cjcK",
        "outputId": "507e577b-37ec-4711-c52f-60aeb55d7452"
      },
      "source": [
        "calls_j.tail(12)"
      ],
      "execution_count": 33,
      "outputs": [
        {
          "output_type": "execute_result",
          "data": {
            "text/html": [
              "<div>\n",
              "<style scoped>\n",
              "    .dataframe tbody tr th:only-of-type {\n",
              "        vertical-align: middle;\n",
              "    }\n",
              "\n",
              "    .dataframe tbody tr th {\n",
              "        vertical-align: top;\n",
              "    }\n",
              "\n",
              "    .dataframe thead th {\n",
              "        text-align: right;\n",
              "    }\n",
              "</style>\n",
              "<table border=\"1\" class=\"dataframe\">\n",
              "  <thead>\n",
              "    <tr style=\"text-align: right;\">\n",
              "      <th></th>\n",
              "      <th>TIMESTAMP</th>\n",
              "      <th>SYMBOL</th>\n",
              "      <th>CLOSE</th>\n",
              "    </tr>\n",
              "  </thead>\n",
              "  <tbody>\n",
              "    <tr>\n",
              "      <th>150</th>\n",
              "      <td>2021-06-01</td>\n",
              "      <td>VIPIND</td>\n",
              "      <td>382.75</td>\n",
              "    </tr>\n",
              "    <tr>\n",
              "      <th>151</th>\n",
              "      <td>2021-06-02</td>\n",
              "      <td>IDFCFIRSTB</td>\n",
              "      <td>60.95</td>\n",
              "    </tr>\n",
              "    <tr>\n",
              "      <th>152</th>\n",
              "      <td>2021-06-02</td>\n",
              "      <td>APOLLOTYRE</td>\n",
              "      <td>229.95</td>\n",
              "    </tr>\n",
              "    <tr>\n",
              "      <th>153</th>\n",
              "      <td>2021-06-02</td>\n",
              "      <td>RAYMOND</td>\n",
              "      <td>385.65</td>\n",
              "    </tr>\n",
              "    <tr>\n",
              "      <th>154</th>\n",
              "      <td>2021-06-02</td>\n",
              "      <td>INDUSINDBK</td>\n",
              "      <td>1028.00</td>\n",
              "    </tr>\n",
              "    <tr>\n",
              "      <th>155</th>\n",
              "      <td>2021-06-02</td>\n",
              "      <td>SUZLON</td>\n",
              "      <td>6.45</td>\n",
              "    </tr>\n",
              "    <tr>\n",
              "      <th>156</th>\n",
              "      <td>2021-06-02</td>\n",
              "      <td>CRISIL</td>\n",
              "      <td>2000.15</td>\n",
              "    </tr>\n",
              "    <tr>\n",
              "      <th>157</th>\n",
              "      <td>2021-06-02</td>\n",
              "      <td>IOB</td>\n",
              "      <td>17.50</td>\n",
              "    </tr>\n",
              "    <tr>\n",
              "      <th>158</th>\n",
              "      <td>2021-06-02</td>\n",
              "      <td>BALKRISIND</td>\n",
              "      <td>2229.40</td>\n",
              "    </tr>\n",
              "    <tr>\n",
              "      <th>159</th>\n",
              "      <td>2021-06-02</td>\n",
              "      <td>KAJARIACER</td>\n",
              "      <td>968.40</td>\n",
              "    </tr>\n",
              "    <tr>\n",
              "      <th>160</th>\n",
              "      <td>2021-06-02</td>\n",
              "      <td>CENTRALBK</td>\n",
              "      <td>20.20</td>\n",
              "    </tr>\n",
              "    <tr>\n",
              "      <th>161</th>\n",
              "      <td>2021-06-02</td>\n",
              "      <td>VOLTAS</td>\n",
              "      <td>1034.40</td>\n",
              "    </tr>\n",
              "  </tbody>\n",
              "</table>\n",
              "</div>"
            ],
            "text/plain": [
              "     TIMESTAMP      SYMBOL    CLOSE\n",
              "150 2021-06-01      VIPIND   382.75\n",
              "151 2021-06-02  IDFCFIRSTB    60.95\n",
              "152 2021-06-02  APOLLOTYRE   229.95\n",
              "153 2021-06-02     RAYMOND   385.65\n",
              "154 2021-06-02  INDUSINDBK  1028.00\n",
              "155 2021-06-02      SUZLON     6.45\n",
              "156 2021-06-02      CRISIL  2000.15\n",
              "157 2021-06-02         IOB    17.50\n",
              "158 2021-06-02  BALKRISIND  2229.40\n",
              "159 2021-06-02  KAJARIACER   968.40\n",
              "160 2021-06-02   CENTRALBK    20.20\n",
              "161 2021-06-02      VOLTAS  1034.40"
            ]
          },
          "metadata": {
            "tags": []
          },
          "execution_count": 33
        }
      ]
    },
    {
      "cell_type": "markdown",
      "metadata": {
        "id": "u5kuho68VFVi"
      },
      "source": [
        "Feature Engineering: Adding variables in Ichimoku Calls dataset for Analysis "
      ]
    },
    {
      "cell_type": "code",
      "metadata": {
        "id": "qTZLlms8MT2w"
      },
      "source": [
        "c_swing_high = []\n",
        "c_swing_low = []\n",
        "call_activated = []\n",
        "stop_loss_triggered = []\n",
        "stoploss_trigr_dt = []\n",
        "risk = []\n",
        "target_1_ls = []\n",
        "target_1point5_ls = []\n",
        "target_2_ls = []\n",
        "target_1_achieved_ls = []\n",
        "target_1_dt_ls = []\n",
        "target_1pt5_achieved_ls = []\n",
        "target_1pt5_dt_ls = []\n",
        "target_2_achieved_ls = []\n",
        "target_2_dt_ls = []\n",
        "as_on_date = []\n",
        "as_on_date_closing = []\n",
        "\n",
        "\n",
        "for i in np.arange(len(calls_j)):\n",
        "    call_d = calls_j.iloc[i]['TIMESTAMP']\n",
        "    sym = calls_j.iloc[i]['SYMBOL']\n",
        "    temp = df_swing.loc[(df_swing['TIMESTAMP']>call_d) & (df_swing['SYMBOL']==sym)]\n",
        "\n",
        "    # To consider the swing high that was just before the date on which the call was generated\n",
        "    swing_high = df_swing.loc[(df_swing['TIMESTAMP']<call_d) & (df_swing['SYMBOL']==sym)][-2:-1]['swing_high'].tolist()[0]\n",
        "    swing_low = df_swing.loc[(df_swing['TIMESTAMP']<call_d) & (df_swing['SYMBOL']==sym)][-2:-1]['swing_low'].tolist()[0]\n",
        "\n",
        "\n",
        "    if (swing_high) >= (temp[:2]['LOW'].min()):\n",
        "        call_activated.append('Yes')\n",
        "    else:\n",
        "        call_activated.append('No')\n",
        "    if (swing_low >= (temp['LOW'].min())):\n",
        "        stop_loss_triggered.append('Yes')\n",
        "        stoploss_trigr_dt.append(temp.loc[temp['LOW']<=swing_low][0:1]['TIMESTAMP'].tolist()[0])\n",
        "    else:\n",
        "        stop_loss_triggered.append('No')\n",
        "        stoploss_trigr_dt.append('')\n",
        "    \n",
        "    temp_risk = swing_high - swing_low\n",
        "    \n",
        "    temp_target_1 = temp_risk + swing_high\n",
        "    temp_target_1pt5 = (temp_risk * 1.5) + swing_high\n",
        "    temp_target_2 =  (temp_risk * 2) + swing_high\n",
        "\n",
        "    c_swing_high.append(swing_high)\n",
        "    c_swing_low.append(swing_low)\n",
        "    risk.append(temp_risk)\n",
        "    target_1_ls.append(temp_target_1)\n",
        "    target_1point5_ls.append(temp_target_1pt5)\n",
        "    target_2_ls.append(temp_target_2)\n",
        "\n",
        "    if (temp['HIGH'].max() >= temp_target_1):\n",
        "        target_1_achieved_ls.append('Yes')\n",
        "        target_1_dt_ls.append(temp.loc[temp['HIGH']>=temp_target_1][0:1]['TIMESTAMP'].tolist()[0])\n",
        "    else:\n",
        "        target_1_achieved_ls.append('No')\n",
        "        target_1_dt_ls.append('')\n",
        "\n",
        "    if (temp['HIGH'].max() >= temp_target_1pt5):\n",
        "        target_1pt5_achieved_ls.append('Yes')\n",
        "        target_1pt5_dt_ls.append(temp.loc[temp['HIGH']>=temp_target_1pt5][0:1]['TIMESTAMP'].tolist()[0])\n",
        "    else:\n",
        "        target_1pt5_achieved_ls.append('No')\n",
        "        target_1pt5_dt_ls.append('')\n",
        "\n",
        "    if (temp['HIGH'].max() >= temp_target_2):\n",
        "        target_2_achieved_ls.append('Yes')\n",
        "        target_2_dt_ls.append(temp.loc[temp['HIGH']>=temp_target_2][0:1]['TIMESTAMP'].tolist()[0])\n",
        "    else:\n",
        "        target_2_achieved_ls.append('No')\n",
        "        target_2_dt_ls.append('')\n",
        "\n",
        "    as_on_date.append(df_swing.loc[df_swing['SYMBOL']==sym][-1:]['TIMESTAMP'].tolist()[0])\n",
        "    as_on_date_closing.append(df_swing.loc[df_swing['SYMBOL']==sym][-1:]['CLOSE'].tolist()[0])\n",
        "\n",
        "calls_j['Swing_H'] = pd.Series(c_swing_high)\n",
        "calls_j['Swing_L'] = pd.Series(c_swing_low)\n",
        "calls_j['Call_activated'] = pd.Series(call_activated)\n",
        "calls_j['SL_triggered'] = pd.Series(stop_loss_triggered)\n",
        "calls_j['SL_trig_dt'] = pd.Series(stoploss_trigr_dt)\n",
        "calls_j['Risk'] = pd.Series(risk)\n",
        "calls_j['LotSize_per_Lakh'] = round(1000/calls_j['Risk']).astype(int)\n",
        "\n",
        "calls_j['T1'] = pd.Series(target_1_ls)\n",
        "calls_j['T1_achieved'] = pd.Series(target_1_achieved_ls)\n",
        "calls_j['T1_dt'] = pd.Series(target_1_dt_ls)\n",
        "\n",
        "calls_j['T1.5'] = pd.Series(target_1point5_ls)\n",
        "calls_j['T1.5_achieved'] = pd.Series(target_1pt5_achieved_ls)\n",
        "calls_j['T1.5_dt'] = pd.Series(target_1pt5_dt_ls)\n",
        "\n",
        "calls_j['T2'] = pd.Series(target_2_ls)\n",
        "calls_j['T2_achieved'] = pd.Series(target_2_achieved_ls)\n",
        "calls_j['T2_dt'] = pd.Series(target_2_dt_ls)\n",
        "\n",
        "calls_j['As_on_dt'] = pd.Series(as_on_date)\n",
        "calls_j['As_on_dt_closing'] = pd.Series(as_on_date_closing)\n",
        "\n",
        "# sorting the dataframe in descending order with respect to 'TIMESTAMP' column\n",
        "calls_j.sort_values(by=['TIMESTAMP'], ascending=False, inplace=True)\n",
        "\n",
        "# Managing DateTime columns to display only date\n",
        "calls_j['SL_trig_dt'] = calls_j['SL_trig_dt'].astype('datetime64[ns]')\n",
        "dt_columns = ['TIMESTAMP', 'SL_trig_dt','T1_dt', 'T1.5_dt', 'T2_dt', 'As_on_dt']\n",
        "for i in dt_columns:\n",
        "    calls_j[i] = calls_j[i].dt.date\n"
      ],
      "execution_count": 34,
      "outputs": []
    },
    {
      "cell_type": "code",
      "metadata": {
        "colab": {
          "base_uri": "https://localhost:8080/",
          "height": 309
        },
        "id": "LRbt8804t8mO",
        "outputId": "ae5e33d1-0b4a-4fdc-94f3-28447a83c866"
      },
      "source": [
        "calls_j.head()"
      ],
      "execution_count": 35,
      "outputs": [
        {
          "output_type": "execute_result",
          "data": {
            "text/html": [
              "<div>\n",
              "<style scoped>\n",
              "    .dataframe tbody tr th:only-of-type {\n",
              "        vertical-align: middle;\n",
              "    }\n",
              "\n",
              "    .dataframe tbody tr th {\n",
              "        vertical-align: top;\n",
              "    }\n",
              "\n",
              "    .dataframe thead th {\n",
              "        text-align: right;\n",
              "    }\n",
              "</style>\n",
              "<table border=\"1\" class=\"dataframe\">\n",
              "  <thead>\n",
              "    <tr style=\"text-align: right;\">\n",
              "      <th></th>\n",
              "      <th>TIMESTAMP</th>\n",
              "      <th>SYMBOL</th>\n",
              "      <th>CLOSE</th>\n",
              "      <th>Swing_H</th>\n",
              "      <th>Swing_L</th>\n",
              "      <th>Call_activated</th>\n",
              "      <th>SL_triggered</th>\n",
              "      <th>SL_trig_dt</th>\n",
              "      <th>Risk</th>\n",
              "      <th>LotSize_per_Lakh</th>\n",
              "      <th>T1</th>\n",
              "      <th>T1_achieved</th>\n",
              "      <th>T1_dt</th>\n",
              "      <th>T1.5</th>\n",
              "      <th>T1.5_achieved</th>\n",
              "      <th>T1.5_dt</th>\n",
              "      <th>T2</th>\n",
              "      <th>T2_achieved</th>\n",
              "      <th>T2_dt</th>\n",
              "      <th>As_on_dt</th>\n",
              "      <th>As_on_dt_closing</th>\n",
              "    </tr>\n",
              "  </thead>\n",
              "  <tbody>\n",
              "    <tr>\n",
              "      <th>161</th>\n",
              "      <td>2021-06-02</td>\n",
              "      <td>VOLTAS</td>\n",
              "      <td>1034.40</td>\n",
              "      <td>1033.90</td>\n",
              "      <td>975.10</td>\n",
              "      <td>No</td>\n",
              "      <td>No</td>\n",
              "      <td>NaT</td>\n",
              "      <td>58.80</td>\n",
              "      <td>17</td>\n",
              "      <td>1092.70</td>\n",
              "      <td>No</td>\n",
              "      <td>NaT</td>\n",
              "      <td>1122.100</td>\n",
              "      <td>No</td>\n",
              "      <td>NaT</td>\n",
              "      <td>1151.50</td>\n",
              "      <td>No</td>\n",
              "      <td>NaT</td>\n",
              "      <td>2021-06-02</td>\n",
              "      <td>1034.40</td>\n",
              "    </tr>\n",
              "    <tr>\n",
              "      <th>156</th>\n",
              "      <td>2021-06-02</td>\n",
              "      <td>CRISIL</td>\n",
              "      <td>2000.15</td>\n",
              "      <td>1972.05</td>\n",
              "      <td>1894.05</td>\n",
              "      <td>No</td>\n",
              "      <td>No</td>\n",
              "      <td>NaT</td>\n",
              "      <td>78.00</td>\n",
              "      <td>13</td>\n",
              "      <td>2050.05</td>\n",
              "      <td>No</td>\n",
              "      <td>NaT</td>\n",
              "      <td>2089.050</td>\n",
              "      <td>No</td>\n",
              "      <td>NaT</td>\n",
              "      <td>2128.05</td>\n",
              "      <td>No</td>\n",
              "      <td>NaT</td>\n",
              "      <td>2021-06-02</td>\n",
              "      <td>2000.15</td>\n",
              "    </tr>\n",
              "    <tr>\n",
              "      <th>151</th>\n",
              "      <td>2021-06-02</td>\n",
              "      <td>IDFCFIRSTB</td>\n",
              "      <td>60.95</td>\n",
              "      <td>59.50</td>\n",
              "      <td>57.15</td>\n",
              "      <td>No</td>\n",
              "      <td>No</td>\n",
              "      <td>NaT</td>\n",
              "      <td>2.35</td>\n",
              "      <td>426</td>\n",
              "      <td>61.85</td>\n",
              "      <td>No</td>\n",
              "      <td>NaT</td>\n",
              "      <td>63.025</td>\n",
              "      <td>No</td>\n",
              "      <td>NaT</td>\n",
              "      <td>64.20</td>\n",
              "      <td>No</td>\n",
              "      <td>NaT</td>\n",
              "      <td>2021-06-02</td>\n",
              "      <td>60.95</td>\n",
              "    </tr>\n",
              "    <tr>\n",
              "      <th>152</th>\n",
              "      <td>2021-06-02</td>\n",
              "      <td>APOLLOTYRE</td>\n",
              "      <td>229.95</td>\n",
              "      <td>228.70</td>\n",
              "      <td>204.55</td>\n",
              "      <td>No</td>\n",
              "      <td>No</td>\n",
              "      <td>NaT</td>\n",
              "      <td>24.15</td>\n",
              "      <td>41</td>\n",
              "      <td>252.85</td>\n",
              "      <td>No</td>\n",
              "      <td>NaT</td>\n",
              "      <td>264.925</td>\n",
              "      <td>No</td>\n",
              "      <td>NaT</td>\n",
              "      <td>277.00</td>\n",
              "      <td>No</td>\n",
              "      <td>NaT</td>\n",
              "      <td>2021-06-02</td>\n",
              "      <td>229.95</td>\n",
              "    </tr>\n",
              "    <tr>\n",
              "      <th>154</th>\n",
              "      <td>2021-06-02</td>\n",
              "      <td>INDUSINDBK</td>\n",
              "      <td>1028.00</td>\n",
              "      <td>1022.75</td>\n",
              "      <td>888.10</td>\n",
              "      <td>No</td>\n",
              "      <td>No</td>\n",
              "      <td>NaT</td>\n",
              "      <td>134.65</td>\n",
              "      <td>7</td>\n",
              "      <td>1157.40</td>\n",
              "      <td>No</td>\n",
              "      <td>NaT</td>\n",
              "      <td>1224.725</td>\n",
              "      <td>No</td>\n",
              "      <td>NaT</td>\n",
              "      <td>1292.05</td>\n",
              "      <td>No</td>\n",
              "      <td>NaT</td>\n",
              "      <td>2021-06-02</td>\n",
              "      <td>1028.00</td>\n",
              "    </tr>\n",
              "  </tbody>\n",
              "</table>\n",
              "</div>"
            ],
            "text/plain": [
              "      TIMESTAMP      SYMBOL    CLOSE  ...  T2_dt    As_on_dt As_on_dt_closing\n",
              "161  2021-06-02      VOLTAS  1034.40  ...    NaT  2021-06-02          1034.40\n",
              "156  2021-06-02      CRISIL  2000.15  ...    NaT  2021-06-02          2000.15\n",
              "151  2021-06-02  IDFCFIRSTB    60.95  ...    NaT  2021-06-02            60.95\n",
              "152  2021-06-02  APOLLOTYRE   229.95  ...    NaT  2021-06-02           229.95\n",
              "154  2021-06-02  INDUSINDBK  1028.00  ...    NaT  2021-06-02          1028.00\n",
              "\n",
              "[5 rows x 21 columns]"
            ]
          },
          "metadata": {
            "tags": []
          },
          "execution_count": 35
        }
      ]
    },
    {
      "cell_type": "code",
      "metadata": {
        "id": "iB-U9YmDX4JT"
      },
      "source": [
        "# calls_j.to_csv('drive/MyDrive/trading/WatchList_Calls/Ichimoku/ichimoku_calls_analysis.csv', index=False, encoding = 'utf-8')\n",
        "calls_j.to_excel('drive/MyDrive/trading/WatchList_Calls/Ichimoku/ichimoku_calls_analysis.xlsx', index=False, encoding = 'utf-8')"
      ],
      "execution_count": 36,
      "outputs": []
    },
    {
      "cell_type": "markdown",
      "metadata": {
        "id": "XHGb1AKgPICw"
      },
      "source": [
        "Analysis for RSI Calls"
      ]
    },
    {
      "cell_type": "code",
      "metadata": {
        "colab": {
          "base_uri": "https://localhost:8080/",
          "height": 359
        },
        "id": "owmi97WlVtpO",
        "outputId": "111b472b-0d21-4689-a119-df03c2781768"
      },
      "source": [
        "r_calls = rsi_calls.copy()\n",
        "calls_j = pd.merge(r_calls, df_swing, on =['SYMBOL','TIMESTAMP'], how ='left')[['TIMESTAMP','SYMBOL','CLOSE']]\n",
        "calls_j[:10]"
      ],
      "execution_count": 37,
      "outputs": [
        {
          "output_type": "execute_result",
          "data": {
            "text/html": [
              "<div>\n",
              "<style scoped>\n",
              "    .dataframe tbody tr th:only-of-type {\n",
              "        vertical-align: middle;\n",
              "    }\n",
              "\n",
              "    .dataframe tbody tr th {\n",
              "        vertical-align: top;\n",
              "    }\n",
              "\n",
              "    .dataframe thead th {\n",
              "        text-align: right;\n",
              "    }\n",
              "</style>\n",
              "<table border=\"1\" class=\"dataframe\">\n",
              "  <thead>\n",
              "    <tr style=\"text-align: right;\">\n",
              "      <th></th>\n",
              "      <th>TIMESTAMP</th>\n",
              "      <th>SYMBOL</th>\n",
              "      <th>CLOSE</th>\n",
              "    </tr>\n",
              "  </thead>\n",
              "  <tbody>\n",
              "    <tr>\n",
              "      <th>0</th>\n",
              "      <td>2021-04-22</td>\n",
              "      <td>SUVENPHAR</td>\n",
              "      <td>523.15</td>\n",
              "    </tr>\n",
              "    <tr>\n",
              "      <th>1</th>\n",
              "      <td>2021-04-23</td>\n",
              "      <td>TTKPRESTIG</td>\n",
              "      <td>7671.45</td>\n",
              "    </tr>\n",
              "    <tr>\n",
              "      <th>2</th>\n",
              "      <td>2021-04-27</td>\n",
              "      <td>SUDARSCHEM</td>\n",
              "      <td>645.35</td>\n",
              "    </tr>\n",
              "    <tr>\n",
              "      <th>3</th>\n",
              "      <td>2021-04-27</td>\n",
              "      <td>SUPREMEIND</td>\n",
              "      <td>2050.35</td>\n",
              "    </tr>\n",
              "    <tr>\n",
              "      <th>4</th>\n",
              "      <td>2021-04-28</td>\n",
              "      <td>AEGISCHEM</td>\n",
              "      <td>313.35</td>\n",
              "    </tr>\n",
              "    <tr>\n",
              "      <th>5</th>\n",
              "      <td>2021-04-28</td>\n",
              "      <td>BAJAJFINSV</td>\n",
              "      <td>10489.30</td>\n",
              "    </tr>\n",
              "    <tr>\n",
              "      <th>6</th>\n",
              "      <td>2021-04-28</td>\n",
              "      <td>MFSL</td>\n",
              "      <td>919.50</td>\n",
              "    </tr>\n",
              "    <tr>\n",
              "      <th>7</th>\n",
              "      <td>2021-04-29</td>\n",
              "      <td>IDFC</td>\n",
              "      <td>51.80</td>\n",
              "    </tr>\n",
              "    <tr>\n",
              "      <th>8</th>\n",
              "      <td>2021-04-30</td>\n",
              "      <td>TATACOFFEE</td>\n",
              "      <td>131.00</td>\n",
              "    </tr>\n",
              "    <tr>\n",
              "      <th>9</th>\n",
              "      <td>2021-04-30</td>\n",
              "      <td>BASF</td>\n",
              "      <td>2228.75</td>\n",
              "    </tr>\n",
              "  </tbody>\n",
              "</table>\n",
              "</div>"
            ],
            "text/plain": [
              "   TIMESTAMP      SYMBOL     CLOSE\n",
              "0 2021-04-22   SUVENPHAR    523.15\n",
              "1 2021-04-23  TTKPRESTIG   7671.45\n",
              "2 2021-04-27  SUDARSCHEM    645.35\n",
              "3 2021-04-27  SUPREMEIND   2050.35\n",
              "4 2021-04-28   AEGISCHEM    313.35\n",
              "5 2021-04-28  BAJAJFINSV  10489.30\n",
              "6 2021-04-28        MFSL    919.50\n",
              "7 2021-04-29        IDFC     51.80\n",
              "8 2021-04-30  TATACOFFEE    131.00\n",
              "9 2021-04-30        BASF   2228.75"
            ]
          },
          "metadata": {
            "tags": []
          },
          "execution_count": 37
        }
      ]
    },
    {
      "cell_type": "code",
      "metadata": {
        "id": "A8f5iOSEWjzN"
      },
      "source": [
        "c_swing_high = []\n",
        "c_swing_low = []\n",
        "call_activated = []\n",
        "stop_loss_triggered = []\n",
        "stoploss_trigr_dt = []\n",
        "risk = []\n",
        "target_1_ls = []\n",
        "target_1point5_ls = []\n",
        "target_2_ls = []\n",
        "target_1_achieved_ls = []\n",
        "target_1_dt_ls = []\n",
        "target_1pt5_achieved_ls = []\n",
        "target_1pt5_dt_ls = []\n",
        "target_2_achieved_ls = []\n",
        "target_2_dt_ls = []\n",
        "as_on_date = []\n",
        "as_on_date_closing = []\n",
        "\n",
        "\n",
        "for i in np.arange(len(calls_j)):\n",
        "    call_d = calls_j.iloc[i]['TIMESTAMP']\n",
        "    sym = calls_j.iloc[i]['SYMBOL']\n",
        "    temp = df_swing.loc[(df_swing['TIMESTAMP']>call_d) & (df_swing['SYMBOL']==sym)]\n",
        "\n",
        "    # To consider the swing high that was just before the date on which the call was generated\n",
        "    swing_high = df_swing.loc[(df_swing['TIMESTAMP']<call_d) & (df_swing['SYMBOL']==sym)][-2:-1]['swing_high'].tolist()[0]\n",
        "    swing_low = df_swing.loc[(df_swing['TIMESTAMP']<call_d) & (df_swing['SYMBOL']==sym)][-2:-1]['swing_low'].tolist()[0]\n",
        "\n",
        "\n",
        "    if (swing_high) >= (temp[:2]['LOW'].min()):\n",
        "        call_activated.append('Yes')\n",
        "    else:\n",
        "        call_activated.append('No')\n",
        "    if (swing_low >= (temp['LOW'].min())):\n",
        "        stop_loss_triggered.append('Yes')\n",
        "        stoploss_trigr_dt.append(temp.loc[temp['LOW']<=swing_low][0:1]['TIMESTAMP'].tolist()[0])\n",
        "    else:\n",
        "        stop_loss_triggered.append('No')\n",
        "        stoploss_trigr_dt.append('')\n",
        "    \n",
        "    temp_risk = swing_high - swing_low\n",
        "    \n",
        "    temp_target_1 = temp_risk + swing_high\n",
        "    temp_target_1pt5 = (temp_risk * 1.5) + swing_high\n",
        "    temp_target_2 =  (temp_risk * 2) + swing_high\n",
        "\n",
        "    c_swing_high.append(swing_high)\n",
        "    c_swing_low.append(swing_low)\n",
        "    risk.append(temp_risk)\n",
        "    target_1_ls.append(temp_target_1)\n",
        "    target_1point5_ls.append(temp_target_1pt5)\n",
        "    target_2_ls.append(temp_target_2)\n",
        "\n",
        "    if (temp['HIGH'].max() >= temp_target_1):\n",
        "        target_1_achieved_ls.append('Yes')\n",
        "        target_1_dt_ls.append(temp.loc[temp['HIGH']>=temp_target_1][0:1]['TIMESTAMP'].tolist()[0])\n",
        "    else:\n",
        "        target_1_achieved_ls.append('No')\n",
        "        target_1_dt_ls.append('')\n",
        "\n",
        "    if (temp['HIGH'].max() >= temp_target_1pt5):\n",
        "        target_1pt5_achieved_ls.append('Yes')\n",
        "        target_1pt5_dt_ls.append(temp.loc[temp['HIGH']>=temp_target_1pt5][0:1]['TIMESTAMP'].tolist()[0])\n",
        "    else:\n",
        "        target_1pt5_achieved_ls.append('No')\n",
        "        target_1pt5_dt_ls.append('')\n",
        "\n",
        "    if (temp['HIGH'].max() >= temp_target_2):\n",
        "        target_2_achieved_ls.append('Yes')\n",
        "        target_2_dt_ls.append(temp.loc[temp['HIGH']>=temp_target_2][0:1]['TIMESTAMP'].tolist()[0])\n",
        "    else:\n",
        "        target_2_achieved_ls.append('No')\n",
        "        target_2_dt_ls.append('')\n",
        "\n",
        "    as_on_date.append(df_swing.loc[df_swing['SYMBOL']==sym][-1:]['TIMESTAMP'].tolist()[0])\n",
        "    as_on_date_closing.append(df_swing.loc[df_swing['SYMBOL']==sym][-1:]['CLOSE'].tolist()[0])\n",
        "\n",
        "calls_j['Swing_H'] = pd.Series(c_swing_high)\n",
        "calls_j['Swing_L'] = pd.Series(c_swing_low)\n",
        "calls_j['Call_activated'] = pd.Series(call_activated)\n",
        "calls_j['SL_triggered'] = pd.Series(stop_loss_triggered)\n",
        "calls_j['SL_trig_dt'] = pd.Series(stoploss_trigr_dt)\n",
        "calls_j['Risk'] = pd.Series(risk)\n",
        "calls_j['LotSize_per_Lakh'] = round(1000/calls_j['Risk']).astype(int)\n",
        "\n",
        "calls_j['T1'] = pd.Series(target_1_ls)\n",
        "calls_j['T1_achieved'] = pd.Series(target_1_achieved_ls)\n",
        "calls_j['T1_dt'] = pd.Series(target_1_dt_ls)\n",
        "\n",
        "calls_j['T1.5'] = pd.Series(target_1point5_ls)\n",
        "calls_j['T1.5_achieved'] = pd.Series(target_1pt5_achieved_ls)\n",
        "calls_j['T1.5_dt'] = pd.Series(target_1pt5_dt_ls)\n",
        "\n",
        "calls_j['T2'] = pd.Series(target_2_ls)\n",
        "calls_j['T2_achieved'] = pd.Series(target_2_achieved_ls)\n",
        "calls_j['T2_dt'] = pd.Series(target_2_dt_ls)\n",
        "\n",
        "calls_j['As_on_dt'] = pd.Series(as_on_date)\n",
        "calls_j['As_on_dt_closing'] = pd.Series(as_on_date_closing)\n",
        "\n",
        "# sorting the dataframe in descending order with respect to 'TIMESTAMP' column\n",
        "calls_j.sort_values(by=['TIMESTAMP'], ascending=False, inplace=True)\n",
        "\n",
        "# Managing DateTime columns to display only date\n",
        "calls_j['SL_trig_dt'] = calls_j['SL_trig_dt'].astype('datetime64[ns]')\n",
        "dt_columns = ['TIMESTAMP', 'SL_trig_dt','T1_dt', 'T1.5_dt', 'T2_dt', 'As_on_dt']\n",
        "for i in dt_columns:\n",
        "    calls_j[i] = calls_j[i].dt.date"
      ],
      "execution_count": 38,
      "outputs": []
    },
    {
      "cell_type": "code",
      "metadata": {
        "colab": {
          "base_uri": "https://localhost:8080/",
          "height": 549
        },
        "id": "ImV1RQExZgWS",
        "outputId": "d886d475-4b0d-4b0d-9b58-ea447c5eac0e"
      },
      "source": [
        "calls_j.head(10)"
      ],
      "execution_count": 39,
      "outputs": [
        {
          "output_type": "execute_result",
          "data": {
            "text/html": [
              "<div>\n",
              "<style scoped>\n",
              "    .dataframe tbody tr th:only-of-type {\n",
              "        vertical-align: middle;\n",
              "    }\n",
              "\n",
              "    .dataframe tbody tr th {\n",
              "        vertical-align: top;\n",
              "    }\n",
              "\n",
              "    .dataframe thead th {\n",
              "        text-align: right;\n",
              "    }\n",
              "</style>\n",
              "<table border=\"1\" class=\"dataframe\">\n",
              "  <thead>\n",
              "    <tr style=\"text-align: right;\">\n",
              "      <th></th>\n",
              "      <th>TIMESTAMP</th>\n",
              "      <th>SYMBOL</th>\n",
              "      <th>CLOSE</th>\n",
              "      <th>Swing_H</th>\n",
              "      <th>Swing_L</th>\n",
              "      <th>Call_activated</th>\n",
              "      <th>SL_triggered</th>\n",
              "      <th>SL_trig_dt</th>\n",
              "      <th>Risk</th>\n",
              "      <th>LotSize_per_Lakh</th>\n",
              "      <th>T1</th>\n",
              "      <th>T1_achieved</th>\n",
              "      <th>T1_dt</th>\n",
              "      <th>T1.5</th>\n",
              "      <th>T1.5_achieved</th>\n",
              "      <th>T1.5_dt</th>\n",
              "      <th>T2</th>\n",
              "      <th>T2_achieved</th>\n",
              "      <th>T2_dt</th>\n",
              "      <th>As_on_dt</th>\n",
              "      <th>As_on_dt_closing</th>\n",
              "    </tr>\n",
              "  </thead>\n",
              "  <tbody>\n",
              "    <tr>\n",
              "      <th>60</th>\n",
              "      <td>2021-06-02</td>\n",
              "      <td>VOLTAS</td>\n",
              "      <td>1034.40</td>\n",
              "      <td>1033.90</td>\n",
              "      <td>975.10</td>\n",
              "      <td>No</td>\n",
              "      <td>No</td>\n",
              "      <td>NaT</td>\n",
              "      <td>58.80</td>\n",
              "      <td>17</td>\n",
              "      <td>1092.70</td>\n",
              "      <td>No</td>\n",
              "      <td>NaT</td>\n",
              "      <td>1122.100</td>\n",
              "      <td>No</td>\n",
              "      <td>NaT</td>\n",
              "      <td>1151.50</td>\n",
              "      <td>No</td>\n",
              "      <td>NaT</td>\n",
              "      <td>2021-06-02</td>\n",
              "      <td>1034.40</td>\n",
              "    </tr>\n",
              "    <tr>\n",
              "      <th>59</th>\n",
              "      <td>2021-06-01</td>\n",
              "      <td>ADANIPORTS</td>\n",
              "      <td>798.20</td>\n",
              "      <td>779.90</td>\n",
              "      <td>749.45</td>\n",
              "      <td>No</td>\n",
              "      <td>No</td>\n",
              "      <td>NaT</td>\n",
              "      <td>30.45</td>\n",
              "      <td>33</td>\n",
              "      <td>810.35</td>\n",
              "      <td>Yes</td>\n",
              "      <td>2021-06-02</td>\n",
              "      <td>825.575</td>\n",
              "      <td>No</td>\n",
              "      <td>NaT</td>\n",
              "      <td>840.80</td>\n",
              "      <td>No</td>\n",
              "      <td>NaT</td>\n",
              "      <td>2021-06-02</td>\n",
              "      <td>811.50</td>\n",
              "    </tr>\n",
              "    <tr>\n",
              "      <th>58</th>\n",
              "      <td>2021-05-31</td>\n",
              "      <td>RATNAMANI</td>\n",
              "      <td>1975.70</td>\n",
              "      <td>1960.00</td>\n",
              "      <td>1891.10</td>\n",
              "      <td>Yes</td>\n",
              "      <td>No</td>\n",
              "      <td>NaT</td>\n",
              "      <td>68.90</td>\n",
              "      <td>15</td>\n",
              "      <td>2028.90</td>\n",
              "      <td>No</td>\n",
              "      <td>NaT</td>\n",
              "      <td>2063.350</td>\n",
              "      <td>No</td>\n",
              "      <td>NaT</td>\n",
              "      <td>2097.80</td>\n",
              "      <td>No</td>\n",
              "      <td>NaT</td>\n",
              "      <td>2021-06-02</td>\n",
              "      <td>1944.75</td>\n",
              "    </tr>\n",
              "    <tr>\n",
              "      <th>57</th>\n",
              "      <td>2021-05-31</td>\n",
              "      <td>NAM-INDIA</td>\n",
              "      <td>370.50</td>\n",
              "      <td>357.50</td>\n",
              "      <td>347.05</td>\n",
              "      <td>No</td>\n",
              "      <td>No</td>\n",
              "      <td>NaT</td>\n",
              "      <td>10.45</td>\n",
              "      <td>96</td>\n",
              "      <td>367.95</td>\n",
              "      <td>Yes</td>\n",
              "      <td>2021-06-01</td>\n",
              "      <td>373.175</td>\n",
              "      <td>Yes</td>\n",
              "      <td>2021-06-01</td>\n",
              "      <td>378.40</td>\n",
              "      <td>No</td>\n",
              "      <td>NaT</td>\n",
              "      <td>2021-06-02</td>\n",
              "      <td>372.25</td>\n",
              "    </tr>\n",
              "    <tr>\n",
              "      <th>56</th>\n",
              "      <td>2021-05-31</td>\n",
              "      <td>THYROCARE</td>\n",
              "      <td>1064.15</td>\n",
              "      <td>1049.00</td>\n",
              "      <td>993.25</td>\n",
              "      <td>Yes</td>\n",
              "      <td>No</td>\n",
              "      <td>NaT</td>\n",
              "      <td>55.75</td>\n",
              "      <td>18</td>\n",
              "      <td>1104.75</td>\n",
              "      <td>No</td>\n",
              "      <td>NaT</td>\n",
              "      <td>1132.625</td>\n",
              "      <td>No</td>\n",
              "      <td>NaT</td>\n",
              "      <td>1160.50</td>\n",
              "      <td>No</td>\n",
              "      <td>NaT</td>\n",
              "      <td>2021-06-02</td>\n",
              "      <td>1056.30</td>\n",
              "    </tr>\n",
              "    <tr>\n",
              "      <th>55</th>\n",
              "      <td>2021-05-31</td>\n",
              "      <td>LALPATHLAB</td>\n",
              "      <td>2956.15</td>\n",
              "      <td>2898.25</td>\n",
              "      <td>2740.00</td>\n",
              "      <td>Yes</td>\n",
              "      <td>No</td>\n",
              "      <td>NaT</td>\n",
              "      <td>158.25</td>\n",
              "      <td>6</td>\n",
              "      <td>3056.50</td>\n",
              "      <td>No</td>\n",
              "      <td>NaT</td>\n",
              "      <td>3135.625</td>\n",
              "      <td>No</td>\n",
              "      <td>NaT</td>\n",
              "      <td>3214.75</td>\n",
              "      <td>No</td>\n",
              "      <td>NaT</td>\n",
              "      <td>2021-06-02</td>\n",
              "      <td>2909.35</td>\n",
              "    </tr>\n",
              "    <tr>\n",
              "      <th>54</th>\n",
              "      <td>2021-05-28</td>\n",
              "      <td>METROPOLIS</td>\n",
              "      <td>2524.15</td>\n",
              "      <td>2390.00</td>\n",
              "      <td>2261.00</td>\n",
              "      <td>No</td>\n",
              "      <td>No</td>\n",
              "      <td>NaT</td>\n",
              "      <td>129.00</td>\n",
              "      <td>8</td>\n",
              "      <td>2519.00</td>\n",
              "      <td>Yes</td>\n",
              "      <td>2021-05-31</td>\n",
              "      <td>2583.500</td>\n",
              "      <td>Yes</td>\n",
              "      <td>2021-05-31</td>\n",
              "      <td>2648.00</td>\n",
              "      <td>Yes</td>\n",
              "      <td>2021-05-31</td>\n",
              "      <td>2021-06-02</td>\n",
              "      <td>2470.50</td>\n",
              "    </tr>\n",
              "    <tr>\n",
              "      <th>53</th>\n",
              "      <td>2021-05-27</td>\n",
              "      <td>BAJAJCON</td>\n",
              "      <td>292.25</td>\n",
              "      <td>288.95</td>\n",
              "      <td>270.35</td>\n",
              "      <td>Yes</td>\n",
              "      <td>No</td>\n",
              "      <td>NaT</td>\n",
              "      <td>18.60</td>\n",
              "      <td>54</td>\n",
              "      <td>307.55</td>\n",
              "      <td>No</td>\n",
              "      <td>NaT</td>\n",
              "      <td>316.850</td>\n",
              "      <td>No</td>\n",
              "      <td>NaT</td>\n",
              "      <td>326.15</td>\n",
              "      <td>No</td>\n",
              "      <td>NaT</td>\n",
              "      <td>2021-06-02</td>\n",
              "      <td>288.85</td>\n",
              "    </tr>\n",
              "    <tr>\n",
              "      <th>52</th>\n",
              "      <td>2021-05-26</td>\n",
              "      <td>INFY</td>\n",
              "      <td>1397.25</td>\n",
              "      <td>1373.05</td>\n",
              "      <td>1311.30</td>\n",
              "      <td>No</td>\n",
              "      <td>No</td>\n",
              "      <td>NaT</td>\n",
              "      <td>61.75</td>\n",
              "      <td>16</td>\n",
              "      <td>1434.80</td>\n",
              "      <td>No</td>\n",
              "      <td>NaT</td>\n",
              "      <td>1465.675</td>\n",
              "      <td>No</td>\n",
              "      <td>NaT</td>\n",
              "      <td>1496.55</td>\n",
              "      <td>No</td>\n",
              "      <td>NaT</td>\n",
              "      <td>2021-06-02</td>\n",
              "      <td>1378.65</td>\n",
              "    </tr>\n",
              "    <tr>\n",
              "      <th>51</th>\n",
              "      <td>2021-05-26</td>\n",
              "      <td>TEAMLEASE</td>\n",
              "      <td>3593.45</td>\n",
              "      <td>3415.45</td>\n",
              "      <td>3200.00</td>\n",
              "      <td>No</td>\n",
              "      <td>No</td>\n",
              "      <td>NaT</td>\n",
              "      <td>215.45</td>\n",
              "      <td>5</td>\n",
              "      <td>3630.90</td>\n",
              "      <td>Yes</td>\n",
              "      <td>2021-05-27</td>\n",
              "      <td>3738.625</td>\n",
              "      <td>No</td>\n",
              "      <td>NaT</td>\n",
              "      <td>3846.35</td>\n",
              "      <td>No</td>\n",
              "      <td>NaT</td>\n",
              "      <td>2021-06-02</td>\n",
              "      <td>3455.55</td>\n",
              "    </tr>\n",
              "  </tbody>\n",
              "</table>\n",
              "</div>"
            ],
            "text/plain": [
              "     TIMESTAMP      SYMBOL    CLOSE  ...       T2_dt    As_on_dt As_on_dt_closing\n",
              "60  2021-06-02      VOLTAS  1034.40  ...         NaT  2021-06-02          1034.40\n",
              "59  2021-06-01  ADANIPORTS   798.20  ...         NaT  2021-06-02           811.50\n",
              "58  2021-05-31   RATNAMANI  1975.70  ...         NaT  2021-06-02          1944.75\n",
              "57  2021-05-31   NAM-INDIA   370.50  ...         NaT  2021-06-02           372.25\n",
              "56  2021-05-31   THYROCARE  1064.15  ...         NaT  2021-06-02          1056.30\n",
              "55  2021-05-31  LALPATHLAB  2956.15  ...         NaT  2021-06-02          2909.35\n",
              "54  2021-05-28  METROPOLIS  2524.15  ...  2021-05-31  2021-06-02          2470.50\n",
              "53  2021-05-27    BAJAJCON   292.25  ...         NaT  2021-06-02           288.85\n",
              "52  2021-05-26        INFY  1397.25  ...         NaT  2021-06-02          1378.65\n",
              "51  2021-05-26   TEAMLEASE  3593.45  ...         NaT  2021-06-02          3455.55\n",
              "\n",
              "[10 rows x 21 columns]"
            ]
          },
          "metadata": {
            "tags": []
          },
          "execution_count": 39
        }
      ]
    },
    {
      "cell_type": "code",
      "metadata": {
        "id": "rxoGtHnjWn-8"
      },
      "source": [
        "# calls_j.to_csv('drive/MyDrive/trading/WatchList_Calls/RSI/rsi_calls_analysis.csv', index=False, encoding = 'utf-8')\n",
        "calls_j.to_excel('drive/MyDrive/trading/WatchList_Calls/RSI/rsi_calls_analysis.xlsx', index=False, encoding = 'utf-8')"
      ],
      "execution_count": 40,
      "outputs": []
    },
    {
      "cell_type": "code",
      "metadata": {
        "colab": {
          "base_uri": "https://localhost:8080/"
        },
        "id": "PyFJ-zpcZmwn",
        "outputId": "fe733fe9-152f-488d-94d3-8c527bfccc5d"
      },
      "source": [
        "print (\"End of File. Thanks\")"
      ],
      "execution_count": 41,
      "outputs": [
        {
          "output_type": "stream",
          "text": [
            "End of File. Thanks\n"
          ],
          "name": "stdout"
        }
      ]
    },
    {
      "cell_type": "code",
      "metadata": {
        "id": "tFzl64ff2Fa5"
      },
      "source": [
        ""
      ],
      "execution_count": null,
      "outputs": []
    }
  ]
}